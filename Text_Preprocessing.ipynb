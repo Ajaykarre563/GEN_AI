{
  "cells": [
    {
      "cell_type": "markdown",
      "source": [
        "## Dataset:\n",
        "https://www.kaggle.com/datasets/lakshmi25npathi/imdb-dataset-of-50k-movie-reviews"
      ],
      "metadata": {
        "id": "XQ7oje4Bik85"
      }
    },
    {
      "cell_type": "code",
      "source": [
        "import pandas as pd\n",
        "import numpy as np\n",
        "import matplotlib.pyplot as plt\n",
        "import seaborn as sns"
      ],
      "metadata": {
        "id": "aW61ohEtjx-H"
      },
      "execution_count": 1,
      "outputs": []
    },
    {
      "cell_type": "code",
      "source": [
        "!pwd"
      ],
      "metadata": {
        "colab": {
          "base_uri": "https://localhost:8080/"
        },
        "id": "QZU6QMAFB-Bk",
        "outputId": "412ae7eb-cca9-4293-9ae6-10ef6dc87b8b"
      },
      "execution_count": 2,
      "outputs": [
        {
          "output_type": "stream",
          "name": "stdout",
          "text": [
            "/content\n"
          ]
        }
      ]
    },
    {
      "cell_type": "code",
      "source": [
        "!ls"
      ],
      "metadata": {
        "colab": {
          "base_uri": "https://localhost:8080/"
        },
        "id": "F5b9gqeCCAod",
        "outputId": "67d5a26b-f18a-4033-96a4-c869069931c4"
      },
      "execution_count": 3,
      "outputs": [
        {
          "output_type": "stream",
          "name": "stdout",
          "text": [
            "sample_data\n"
          ]
        }
      ]
    },
    {
      "cell_type": "code",
      "execution_count": 9,
      "metadata": {
        "execution": {
          "iopub.execute_input": "2021-12-31T06:31:41.835385Z",
          "iopub.status.busy": "2021-12-31T06:31:41.834548Z",
          "iopub.status.idle": "2021-12-31T06:31:43.691014Z",
          "shell.execute_reply": "2021-12-31T06:31:43.689926Z",
          "shell.execute_reply.started": "2021-12-31T06:31:41.835329Z"
        },
        "id": "p3I8FoIcfXI1"
      },
      "outputs": [],
      "source": [
        "df = pd.read_csv('/content/IMDB Dataset.csv')"
      ]
    },
    {
      "cell_type": "code",
      "source": [
        "df.head()"
      ],
      "metadata": {
        "colab": {
          "base_uri": "https://localhost:8080/",
          "height": 226
        },
        "id": "dh6F7mkxPHsi",
        "outputId": "6fa0835b-4fe7-4b59-9148-3409c62b3706"
      },
      "execution_count": 10,
      "outputs": [
        {
          "output_type": "execute_result",
          "data": {
            "text/plain": [
              "                                              review sentiment\n",
              "0  One of the other reviewers has mentioned that ...  positive\n",
              "1  A wonderful little production. <br /><br />The...  positive\n",
              "2  I thought this was a wonderful way to spend ti...  positive\n",
              "3  Basically there's a family where a little boy ...  negative\n",
              "4  Petter Mattei's \"Love in the Time of Money\" is...  positive"
            ],
            "text/html": [
              "\n",
              "  <div id=\"df-e31bcf76-0e32-4754-9f0b-9a8980b1bcf9\" class=\"colab-df-container\">\n",
              "    <div>\n",
              "<style scoped>\n",
              "    .dataframe tbody tr th:only-of-type {\n",
              "        vertical-align: middle;\n",
              "    }\n",
              "\n",
              "    .dataframe tbody tr th {\n",
              "        vertical-align: top;\n",
              "    }\n",
              "\n",
              "    .dataframe thead th {\n",
              "        text-align: right;\n",
              "    }\n",
              "</style>\n",
              "<table border=\"1\" class=\"dataframe\">\n",
              "  <thead>\n",
              "    <tr style=\"text-align: right;\">\n",
              "      <th></th>\n",
              "      <th>review</th>\n",
              "      <th>sentiment</th>\n",
              "    </tr>\n",
              "  </thead>\n",
              "  <tbody>\n",
              "    <tr>\n",
              "      <th>0</th>\n",
              "      <td>One of the other reviewers has mentioned that ...</td>\n",
              "      <td>positive</td>\n",
              "    </tr>\n",
              "    <tr>\n",
              "      <th>1</th>\n",
              "      <td>A wonderful little production. &lt;br /&gt;&lt;br /&gt;The...</td>\n",
              "      <td>positive</td>\n",
              "    </tr>\n",
              "    <tr>\n",
              "      <th>2</th>\n",
              "      <td>I thought this was a wonderful way to spend ti...</td>\n",
              "      <td>positive</td>\n",
              "    </tr>\n",
              "    <tr>\n",
              "      <th>3</th>\n",
              "      <td>Basically there's a family where a little boy ...</td>\n",
              "      <td>negative</td>\n",
              "    </tr>\n",
              "    <tr>\n",
              "      <th>4</th>\n",
              "      <td>Petter Mattei's \"Love in the Time of Money\" is...</td>\n",
              "      <td>positive</td>\n",
              "    </tr>\n",
              "  </tbody>\n",
              "</table>\n",
              "</div>\n",
              "    <div class=\"colab-df-buttons\">\n",
              "\n",
              "  <div class=\"colab-df-container\">\n",
              "    <button class=\"colab-df-convert\" onclick=\"convertToInteractive('df-e31bcf76-0e32-4754-9f0b-9a8980b1bcf9')\"\n",
              "            title=\"Convert this dataframe to an interactive table.\"\n",
              "            style=\"display:none;\">\n",
              "\n",
              "  <svg xmlns=\"http://www.w3.org/2000/svg\" height=\"24px\" viewBox=\"0 -960 960 960\">\n",
              "    <path d=\"M120-120v-720h720v720H120Zm60-500h600v-160H180v160Zm220 220h160v-160H400v160Zm0 220h160v-160H400v160ZM180-400h160v-160H180v160Zm440 0h160v-160H620v160ZM180-180h160v-160H180v160Zm440 0h160v-160H620v160Z\"/>\n",
              "  </svg>\n",
              "    </button>\n",
              "\n",
              "  <style>\n",
              "    .colab-df-container {\n",
              "      display:flex;\n",
              "      gap: 12px;\n",
              "    }\n",
              "\n",
              "    .colab-df-convert {\n",
              "      background-color: #E8F0FE;\n",
              "      border: none;\n",
              "      border-radius: 50%;\n",
              "      cursor: pointer;\n",
              "      display: none;\n",
              "      fill: #1967D2;\n",
              "      height: 32px;\n",
              "      padding: 0 0 0 0;\n",
              "      width: 32px;\n",
              "    }\n",
              "\n",
              "    .colab-df-convert:hover {\n",
              "      background-color: #E2EBFA;\n",
              "      box-shadow: 0px 1px 2px rgba(60, 64, 67, 0.3), 0px 1px 3px 1px rgba(60, 64, 67, 0.15);\n",
              "      fill: #174EA6;\n",
              "    }\n",
              "\n",
              "    .colab-df-buttons div {\n",
              "      margin-bottom: 4px;\n",
              "    }\n",
              "\n",
              "    [theme=dark] .colab-df-convert {\n",
              "      background-color: #3B4455;\n",
              "      fill: #D2E3FC;\n",
              "    }\n",
              "\n",
              "    [theme=dark] .colab-df-convert:hover {\n",
              "      background-color: #434B5C;\n",
              "      box-shadow: 0px 1px 3px 1px rgba(0, 0, 0, 0.15);\n",
              "      filter: drop-shadow(0px 1px 2px rgba(0, 0, 0, 0.3));\n",
              "      fill: #FFFFFF;\n",
              "    }\n",
              "  </style>\n",
              "\n",
              "    <script>\n",
              "      const buttonEl =\n",
              "        document.querySelector('#df-e31bcf76-0e32-4754-9f0b-9a8980b1bcf9 button.colab-df-convert');\n",
              "      buttonEl.style.display =\n",
              "        google.colab.kernel.accessAllowed ? 'block' : 'none';\n",
              "\n",
              "      async function convertToInteractive(key) {\n",
              "        const element = document.querySelector('#df-e31bcf76-0e32-4754-9f0b-9a8980b1bcf9');\n",
              "        const dataTable =\n",
              "          await google.colab.kernel.invokeFunction('convertToInteractive',\n",
              "                                                    [key], {});\n",
              "        if (!dataTable) return;\n",
              "\n",
              "        const docLinkHtml = 'Like what you see? Visit the ' +\n",
              "          '<a target=\"_blank\" href=https://colab.research.google.com/notebooks/data_table.ipynb>data table notebook</a>'\n",
              "          + ' to learn more about interactive tables.';\n",
              "        element.innerHTML = '';\n",
              "        dataTable['output_type'] = 'display_data';\n",
              "        await google.colab.output.renderOutput(dataTable, element);\n",
              "        const docLink = document.createElement('div');\n",
              "        docLink.innerHTML = docLinkHtml;\n",
              "        element.appendChild(docLink);\n",
              "      }\n",
              "    </script>\n",
              "  </div>\n",
              "\n",
              "\n",
              "<div id=\"df-e86a8996-5224-4852-88b7-4ac489214ea0\">\n",
              "  <button class=\"colab-df-quickchart\" onclick=\"quickchart('df-e86a8996-5224-4852-88b7-4ac489214ea0')\"\n",
              "            title=\"Suggest charts\"\n",
              "            style=\"display:none;\">\n",
              "\n",
              "<svg xmlns=\"http://www.w3.org/2000/svg\" height=\"24px\"viewBox=\"0 0 24 24\"\n",
              "     width=\"24px\">\n",
              "    <g>\n",
              "        <path d=\"M19 3H5c-1.1 0-2 .9-2 2v14c0 1.1.9 2 2 2h14c1.1 0 2-.9 2-2V5c0-1.1-.9-2-2-2zM9 17H7v-7h2v7zm4 0h-2V7h2v10zm4 0h-2v-4h2v4z\"/>\n",
              "    </g>\n",
              "</svg>\n",
              "  </button>\n",
              "\n",
              "<style>\n",
              "  .colab-df-quickchart {\n",
              "      --bg-color: #E8F0FE;\n",
              "      --fill-color: #1967D2;\n",
              "      --hover-bg-color: #E2EBFA;\n",
              "      --hover-fill-color: #174EA6;\n",
              "      --disabled-fill-color: #AAA;\n",
              "      --disabled-bg-color: #DDD;\n",
              "  }\n",
              "\n",
              "  [theme=dark] .colab-df-quickchart {\n",
              "      --bg-color: #3B4455;\n",
              "      --fill-color: #D2E3FC;\n",
              "      --hover-bg-color: #434B5C;\n",
              "      --hover-fill-color: #FFFFFF;\n",
              "      --disabled-bg-color: #3B4455;\n",
              "      --disabled-fill-color: #666;\n",
              "  }\n",
              "\n",
              "  .colab-df-quickchart {\n",
              "    background-color: var(--bg-color);\n",
              "    border: none;\n",
              "    border-radius: 50%;\n",
              "    cursor: pointer;\n",
              "    display: none;\n",
              "    fill: var(--fill-color);\n",
              "    height: 32px;\n",
              "    padding: 0;\n",
              "    width: 32px;\n",
              "  }\n",
              "\n",
              "  .colab-df-quickchart:hover {\n",
              "    background-color: var(--hover-bg-color);\n",
              "    box-shadow: 0 1px 2px rgba(60, 64, 67, 0.3), 0 1px 3px 1px rgba(60, 64, 67, 0.15);\n",
              "    fill: var(--button-hover-fill-color);\n",
              "  }\n",
              "\n",
              "  .colab-df-quickchart-complete:disabled,\n",
              "  .colab-df-quickchart-complete:disabled:hover {\n",
              "    background-color: var(--disabled-bg-color);\n",
              "    fill: var(--disabled-fill-color);\n",
              "    box-shadow: none;\n",
              "  }\n",
              "\n",
              "  .colab-df-spinner {\n",
              "    border: 2px solid var(--fill-color);\n",
              "    border-color: transparent;\n",
              "    border-bottom-color: var(--fill-color);\n",
              "    animation:\n",
              "      spin 1s steps(1) infinite;\n",
              "  }\n",
              "\n",
              "  @keyframes spin {\n",
              "    0% {\n",
              "      border-color: transparent;\n",
              "      border-bottom-color: var(--fill-color);\n",
              "      border-left-color: var(--fill-color);\n",
              "    }\n",
              "    20% {\n",
              "      border-color: transparent;\n",
              "      border-left-color: var(--fill-color);\n",
              "      border-top-color: var(--fill-color);\n",
              "    }\n",
              "    30% {\n",
              "      border-color: transparent;\n",
              "      border-left-color: var(--fill-color);\n",
              "      border-top-color: var(--fill-color);\n",
              "      border-right-color: var(--fill-color);\n",
              "    }\n",
              "    40% {\n",
              "      border-color: transparent;\n",
              "      border-right-color: var(--fill-color);\n",
              "      border-top-color: var(--fill-color);\n",
              "    }\n",
              "    60% {\n",
              "      border-color: transparent;\n",
              "      border-right-color: var(--fill-color);\n",
              "    }\n",
              "    80% {\n",
              "      border-color: transparent;\n",
              "      border-right-color: var(--fill-color);\n",
              "      border-bottom-color: var(--fill-color);\n",
              "    }\n",
              "    90% {\n",
              "      border-color: transparent;\n",
              "      border-bottom-color: var(--fill-color);\n",
              "    }\n",
              "  }\n",
              "</style>\n",
              "\n",
              "  <script>\n",
              "    async function quickchart(key) {\n",
              "      const quickchartButtonEl =\n",
              "        document.querySelector('#' + key + ' button');\n",
              "      quickchartButtonEl.disabled = true;  // To prevent multiple clicks.\n",
              "      quickchartButtonEl.classList.add('colab-df-spinner');\n",
              "      try {\n",
              "        const charts = await google.colab.kernel.invokeFunction(\n",
              "            'suggestCharts', [key], {});\n",
              "      } catch (error) {\n",
              "        console.error('Error during call to suggestCharts:', error);\n",
              "      }\n",
              "      quickchartButtonEl.classList.remove('colab-df-spinner');\n",
              "      quickchartButtonEl.classList.add('colab-df-quickchart-complete');\n",
              "    }\n",
              "    (() => {\n",
              "      let quickchartButtonEl =\n",
              "        document.querySelector('#df-e86a8996-5224-4852-88b7-4ac489214ea0 button');\n",
              "      quickchartButtonEl.style.display =\n",
              "        google.colab.kernel.accessAllowed ? 'block' : 'none';\n",
              "    })();\n",
              "  </script>\n",
              "</div>\n",
              "\n",
              "    </div>\n",
              "  </div>\n"
            ],
            "application/vnd.google.colaboratory.intrinsic+json": {
              "type": "dataframe",
              "variable_name": "df",
              "summary": "{\n  \"name\": \"df\",\n  \"rows\": 50000,\n  \"fields\": [\n    {\n      \"column\": \"review\",\n      \"properties\": {\n        \"dtype\": \"string\",\n        \"num_unique_values\": 49582,\n        \"samples\": [\n          \"\\\"Soul Plane\\\" is a horrible attempt at comedy that only should appeal people with thick skulls, bloodshot eyes and furry pawns. <br /><br />The plot is not only incoherent but also non-existent, acting is mostly sub sub-par with a gang of highly moronic and dreadful characters thrown in for bad measure, jokes are often spotted miles ahead and almost never even a bit amusing. This movie lacks any structure and is full of racial stereotypes that must have seemed old even in the fifties, the only thing it really has going for it is some pretty ladies, but really, if you want that you can rent something from the \\\"Adult\\\" section. OK?<br /><br />I can hardly see anything here to recommend since you'll probably have a lot a better and productive time chasing rats with a sledgehammer or inventing waterproof teabags or whatever.<br /><br />2/10\",\n          \"Guest from the Future tells a fascinating story of time travel, friendship, battle of good and evil -- all with a small budget, child actors, and few special effects. Something for Spielberg and Lucas to learn from. ;) A sixth-grader Kolya \\\"Nick\\\" Gerasimov finds a time machine in the basement of a decrepit building and travels 100 years into the future. He discovers a near-perfect, utopian society where robots play guitars and write poetry, everyone is kind to each other and people enjoy everything technology has to offer. Alice is the daughter of a prominent scientist who invented a device called Mielophone that allows to read minds of humans and animals. The device can be put to both good and bad use, depending on whose hands it falls into. When two evil space pirates from Saturn who want to rule the universe attempt to steal Mielophone, it falls into the hands of 20th century school boy Nick. With the pirates hot on his tracks, he travels back to his time, followed by the pirates, and Alice. Chaos, confusion and funny situations follow as the luckless pirates try to blend in with the earthlings. Alice enrolls in the same school Nick goes to and demonstrates superhuman abilities in PE class. The catch is, Alice doesn't know what Nick looks like, while the pirates do. Also, the pirates are able to change their appearance and turn literally into anyone. (Hmm, I wonder if this is where James Cameron got the idea for Terminator...) Who gets to Nick -- and Mielophone -- first? Excellent plot, non-stop adventures, and great soundtrack. I wish Hollywood made kid movies like this one...\",\n          \"\\\"National Treasure\\\" (2004) is a thoroughly misguided hodge-podge of plot entanglements that borrow from nearly every cloak and dagger government conspiracy clich\\u00e9 that has ever been written. The film stars Nicholas Cage as Benjamin Franklin Gates (how precious is that, I ask you?); a seemingly normal fellow who, for no other reason than being of a lineage of like-minded misguided fortune hunters, decides to steal a 'national treasure' that has been hidden by the United States founding fathers. After a bit of subtext and background that plays laughably (unintentionally) like Indiana Jones meets The Patriot, the film degenerates into one misguided whimsy after another \\u0096 attempting to create a 'Stanley Goodspeed' regurgitation of Nicholas Cage and launch the whole convoluted mess forward with a series of high octane, but disconnected misadventures.<br /><br />The relevancy and logic to having George Washington and his motley crew of patriots burying a king's ransom someplace on native soil, and then, going through the meticulous plan of leaving clues scattered throughout U.S. currency art work, is something that director Jon Turteltaub never quite gets around to explaining. Couldn't Washington found better usage for such wealth during the start up of the country? Hence, we are left with a mystery built on top of an enigma that is already on shaky ground by the time Ben appoints himself the new custodian of this untold wealth. Ben's intentions are noble \\u0096 if confusing. He's set on protecting the treasure. For who and when?\\u0085your guess is as good as mine.<br /><br />But there are a few problems with Ben's crusade. First up, his friend, Ian Holmes (Sean Bean) decides that he can't wait for Ben to make up his mind about stealing the Declaration of Independence from the National Archives (oh, yeah \\u0096 brilliant idea!). Presumably, the back of that famous document holds the secret answer to the ultimate fortune. So Ian tries to kill Ben. The assassination attempt is, of course, unsuccessful, if overly melodramatic. It also affords Ben the opportunity to pick up, and pick on, the very sultry curator of the archives, Abigail Chase (Diane Kruger). She thinks Ben is clearly a nut \\u0096 at least at the beginning. But true to action/romance form, Abby's resolve melts quicker than you can say, \\\"is that the Hope Diamond?\\\" The film moves into full X-File-ish mode, as the FBI, mistakenly believing that Ben is behind the theft, retaliate in various benign ways that lead to a multi-layering of action sequences reminiscent of Mission Impossible meets The Fugitive. Honestly, don't those guys ever get 'intelligence' information that is correct? In the final analysis, \\\"National Treasure\\\" isn't great film making, so much as it's a patchwork rehash of tired old bits from other movies, woven together from scraps, the likes of which would make IL' Betsy Ross blush.<br /><br />The Buena Vista DVD delivers a far more generous treatment than this film is deserving of. The anamorphic widescreen picture exhibits a very smooth and finely detailed image with very rich colors, natural flesh tones, solid blacks and clean whites. The stylized image is also free of blemishes and digital enhancements. The audio is 5.1 and delivers a nice sonic boom to your side and rear speakers with intensity and realism. Extras include a host of promotional junket material that is rather deep and over the top in its explanation of how and why this film was made. If only, as an audience, we had had more clarification as to why Ben and co. were chasing after an illusive treasure, this might have been one good flick. Extras conclude with the theatrical trailer, audio commentary and deleted scenes. Not for the faint-hearted \\u0096 just the thick-headed.\"\n        ],\n        \"semantic_type\": \"\",\n        \"description\": \"\"\n      }\n    },\n    {\n      \"column\": \"sentiment\",\n      \"properties\": {\n        \"dtype\": \"category\",\n        \"num_unique_values\": 2,\n        \"samples\": [\n          \"negative\",\n          \"positive\"\n        ],\n        \"semantic_type\": \"\",\n        \"description\": \"\"\n      }\n    }\n  ]\n}"
            }
          },
          "metadata": {},
          "execution_count": 10
        }
      ]
    },
    {
      "cell_type": "code",
      "source": [
        "df.tail()"
      ],
      "metadata": {
        "colab": {
          "base_uri": "https://localhost:8080/",
          "height": 226
        },
        "id": "219v7K8zPKBm",
        "outputId": "fe39bd38-3586-4753-8c95-b9d3bf597c4a"
      },
      "execution_count": 11,
      "outputs": [
        {
          "output_type": "execute_result",
          "data": {
            "text/plain": [
              "                                                  review sentiment\n",
              "49995  I thought this movie did a down right good job...  positive\n",
              "49996  Bad plot, bad dialogue, bad acting, idiotic di...  negative\n",
              "49997  I am a Catholic taught in parochial elementary...  negative\n",
              "49998  I'm going to have to disagree with the previou...  negative\n",
              "49999  No one expects the Star Trek movies to be high...  negative"
            ],
            "text/html": [
              "\n",
              "  <div id=\"df-7fcb2525-35ee-45db-9dca-6df56a5f67eb\" class=\"colab-df-container\">\n",
              "    <div>\n",
              "<style scoped>\n",
              "    .dataframe tbody tr th:only-of-type {\n",
              "        vertical-align: middle;\n",
              "    }\n",
              "\n",
              "    .dataframe tbody tr th {\n",
              "        vertical-align: top;\n",
              "    }\n",
              "\n",
              "    .dataframe thead th {\n",
              "        text-align: right;\n",
              "    }\n",
              "</style>\n",
              "<table border=\"1\" class=\"dataframe\">\n",
              "  <thead>\n",
              "    <tr style=\"text-align: right;\">\n",
              "      <th></th>\n",
              "      <th>review</th>\n",
              "      <th>sentiment</th>\n",
              "    </tr>\n",
              "  </thead>\n",
              "  <tbody>\n",
              "    <tr>\n",
              "      <th>49995</th>\n",
              "      <td>I thought this movie did a down right good job...</td>\n",
              "      <td>positive</td>\n",
              "    </tr>\n",
              "    <tr>\n",
              "      <th>49996</th>\n",
              "      <td>Bad plot, bad dialogue, bad acting, idiotic di...</td>\n",
              "      <td>negative</td>\n",
              "    </tr>\n",
              "    <tr>\n",
              "      <th>49997</th>\n",
              "      <td>I am a Catholic taught in parochial elementary...</td>\n",
              "      <td>negative</td>\n",
              "    </tr>\n",
              "    <tr>\n",
              "      <th>49998</th>\n",
              "      <td>I'm going to have to disagree with the previou...</td>\n",
              "      <td>negative</td>\n",
              "    </tr>\n",
              "    <tr>\n",
              "      <th>49999</th>\n",
              "      <td>No one expects the Star Trek movies to be high...</td>\n",
              "      <td>negative</td>\n",
              "    </tr>\n",
              "  </tbody>\n",
              "</table>\n",
              "</div>\n",
              "    <div class=\"colab-df-buttons\">\n",
              "\n",
              "  <div class=\"colab-df-container\">\n",
              "    <button class=\"colab-df-convert\" onclick=\"convertToInteractive('df-7fcb2525-35ee-45db-9dca-6df56a5f67eb')\"\n",
              "            title=\"Convert this dataframe to an interactive table.\"\n",
              "            style=\"display:none;\">\n",
              "\n",
              "  <svg xmlns=\"http://www.w3.org/2000/svg\" height=\"24px\" viewBox=\"0 -960 960 960\">\n",
              "    <path d=\"M120-120v-720h720v720H120Zm60-500h600v-160H180v160Zm220 220h160v-160H400v160Zm0 220h160v-160H400v160ZM180-400h160v-160H180v160Zm440 0h160v-160H620v160ZM180-180h160v-160H180v160Zm440 0h160v-160H620v160Z\"/>\n",
              "  </svg>\n",
              "    </button>\n",
              "\n",
              "  <style>\n",
              "    .colab-df-container {\n",
              "      display:flex;\n",
              "      gap: 12px;\n",
              "    }\n",
              "\n",
              "    .colab-df-convert {\n",
              "      background-color: #E8F0FE;\n",
              "      border: none;\n",
              "      border-radius: 50%;\n",
              "      cursor: pointer;\n",
              "      display: none;\n",
              "      fill: #1967D2;\n",
              "      height: 32px;\n",
              "      padding: 0 0 0 0;\n",
              "      width: 32px;\n",
              "    }\n",
              "\n",
              "    .colab-df-convert:hover {\n",
              "      background-color: #E2EBFA;\n",
              "      box-shadow: 0px 1px 2px rgba(60, 64, 67, 0.3), 0px 1px 3px 1px rgba(60, 64, 67, 0.15);\n",
              "      fill: #174EA6;\n",
              "    }\n",
              "\n",
              "    .colab-df-buttons div {\n",
              "      margin-bottom: 4px;\n",
              "    }\n",
              "\n",
              "    [theme=dark] .colab-df-convert {\n",
              "      background-color: #3B4455;\n",
              "      fill: #D2E3FC;\n",
              "    }\n",
              "\n",
              "    [theme=dark] .colab-df-convert:hover {\n",
              "      background-color: #434B5C;\n",
              "      box-shadow: 0px 1px 3px 1px rgba(0, 0, 0, 0.15);\n",
              "      filter: drop-shadow(0px 1px 2px rgba(0, 0, 0, 0.3));\n",
              "      fill: #FFFFFF;\n",
              "    }\n",
              "  </style>\n",
              "\n",
              "    <script>\n",
              "      const buttonEl =\n",
              "        document.querySelector('#df-7fcb2525-35ee-45db-9dca-6df56a5f67eb button.colab-df-convert');\n",
              "      buttonEl.style.display =\n",
              "        google.colab.kernel.accessAllowed ? 'block' : 'none';\n",
              "\n",
              "      async function convertToInteractive(key) {\n",
              "        const element = document.querySelector('#df-7fcb2525-35ee-45db-9dca-6df56a5f67eb');\n",
              "        const dataTable =\n",
              "          await google.colab.kernel.invokeFunction('convertToInteractive',\n",
              "                                                    [key], {});\n",
              "        if (!dataTable) return;\n",
              "\n",
              "        const docLinkHtml = 'Like what you see? Visit the ' +\n",
              "          '<a target=\"_blank\" href=https://colab.research.google.com/notebooks/data_table.ipynb>data table notebook</a>'\n",
              "          + ' to learn more about interactive tables.';\n",
              "        element.innerHTML = '';\n",
              "        dataTable['output_type'] = 'display_data';\n",
              "        await google.colab.output.renderOutput(dataTable, element);\n",
              "        const docLink = document.createElement('div');\n",
              "        docLink.innerHTML = docLinkHtml;\n",
              "        element.appendChild(docLink);\n",
              "      }\n",
              "    </script>\n",
              "  </div>\n",
              "\n",
              "\n",
              "<div id=\"df-842fe13e-f6a9-4a8c-890c-7adc7b2b70f3\">\n",
              "  <button class=\"colab-df-quickchart\" onclick=\"quickchart('df-842fe13e-f6a9-4a8c-890c-7adc7b2b70f3')\"\n",
              "            title=\"Suggest charts\"\n",
              "            style=\"display:none;\">\n",
              "\n",
              "<svg xmlns=\"http://www.w3.org/2000/svg\" height=\"24px\"viewBox=\"0 0 24 24\"\n",
              "     width=\"24px\">\n",
              "    <g>\n",
              "        <path d=\"M19 3H5c-1.1 0-2 .9-2 2v14c0 1.1.9 2 2 2h14c1.1 0 2-.9 2-2V5c0-1.1-.9-2-2-2zM9 17H7v-7h2v7zm4 0h-2V7h2v10zm4 0h-2v-4h2v4z\"/>\n",
              "    </g>\n",
              "</svg>\n",
              "  </button>\n",
              "\n",
              "<style>\n",
              "  .colab-df-quickchart {\n",
              "      --bg-color: #E8F0FE;\n",
              "      --fill-color: #1967D2;\n",
              "      --hover-bg-color: #E2EBFA;\n",
              "      --hover-fill-color: #174EA6;\n",
              "      --disabled-fill-color: #AAA;\n",
              "      --disabled-bg-color: #DDD;\n",
              "  }\n",
              "\n",
              "  [theme=dark] .colab-df-quickchart {\n",
              "      --bg-color: #3B4455;\n",
              "      --fill-color: #D2E3FC;\n",
              "      --hover-bg-color: #434B5C;\n",
              "      --hover-fill-color: #FFFFFF;\n",
              "      --disabled-bg-color: #3B4455;\n",
              "      --disabled-fill-color: #666;\n",
              "  }\n",
              "\n",
              "  .colab-df-quickchart {\n",
              "    background-color: var(--bg-color);\n",
              "    border: none;\n",
              "    border-radius: 50%;\n",
              "    cursor: pointer;\n",
              "    display: none;\n",
              "    fill: var(--fill-color);\n",
              "    height: 32px;\n",
              "    padding: 0;\n",
              "    width: 32px;\n",
              "  }\n",
              "\n",
              "  .colab-df-quickchart:hover {\n",
              "    background-color: var(--hover-bg-color);\n",
              "    box-shadow: 0 1px 2px rgba(60, 64, 67, 0.3), 0 1px 3px 1px rgba(60, 64, 67, 0.15);\n",
              "    fill: var(--button-hover-fill-color);\n",
              "  }\n",
              "\n",
              "  .colab-df-quickchart-complete:disabled,\n",
              "  .colab-df-quickchart-complete:disabled:hover {\n",
              "    background-color: var(--disabled-bg-color);\n",
              "    fill: var(--disabled-fill-color);\n",
              "    box-shadow: none;\n",
              "  }\n",
              "\n",
              "  .colab-df-spinner {\n",
              "    border: 2px solid var(--fill-color);\n",
              "    border-color: transparent;\n",
              "    border-bottom-color: var(--fill-color);\n",
              "    animation:\n",
              "      spin 1s steps(1) infinite;\n",
              "  }\n",
              "\n",
              "  @keyframes spin {\n",
              "    0% {\n",
              "      border-color: transparent;\n",
              "      border-bottom-color: var(--fill-color);\n",
              "      border-left-color: var(--fill-color);\n",
              "    }\n",
              "    20% {\n",
              "      border-color: transparent;\n",
              "      border-left-color: var(--fill-color);\n",
              "      border-top-color: var(--fill-color);\n",
              "    }\n",
              "    30% {\n",
              "      border-color: transparent;\n",
              "      border-left-color: var(--fill-color);\n",
              "      border-top-color: var(--fill-color);\n",
              "      border-right-color: var(--fill-color);\n",
              "    }\n",
              "    40% {\n",
              "      border-color: transparent;\n",
              "      border-right-color: var(--fill-color);\n",
              "      border-top-color: var(--fill-color);\n",
              "    }\n",
              "    60% {\n",
              "      border-color: transparent;\n",
              "      border-right-color: var(--fill-color);\n",
              "    }\n",
              "    80% {\n",
              "      border-color: transparent;\n",
              "      border-right-color: var(--fill-color);\n",
              "      border-bottom-color: var(--fill-color);\n",
              "    }\n",
              "    90% {\n",
              "      border-color: transparent;\n",
              "      border-bottom-color: var(--fill-color);\n",
              "    }\n",
              "  }\n",
              "</style>\n",
              "\n",
              "  <script>\n",
              "    async function quickchart(key) {\n",
              "      const quickchartButtonEl =\n",
              "        document.querySelector('#' + key + ' button');\n",
              "      quickchartButtonEl.disabled = true;  // To prevent multiple clicks.\n",
              "      quickchartButtonEl.classList.add('colab-df-spinner');\n",
              "      try {\n",
              "        const charts = await google.colab.kernel.invokeFunction(\n",
              "            'suggestCharts', [key], {});\n",
              "      } catch (error) {\n",
              "        console.error('Error during call to suggestCharts:', error);\n",
              "      }\n",
              "      quickchartButtonEl.classList.remove('colab-df-spinner');\n",
              "      quickchartButtonEl.classList.add('colab-df-quickchart-complete');\n",
              "    }\n",
              "    (() => {\n",
              "      let quickchartButtonEl =\n",
              "        document.querySelector('#df-842fe13e-f6a9-4a8c-890c-7adc7b2b70f3 button');\n",
              "      quickchartButtonEl.style.display =\n",
              "        google.colab.kernel.accessAllowed ? 'block' : 'none';\n",
              "    })();\n",
              "  </script>\n",
              "</div>\n",
              "\n",
              "    </div>\n",
              "  </div>\n"
            ],
            "application/vnd.google.colaboratory.intrinsic+json": {
              "type": "dataframe",
              "summary": "{\n  \"name\": \"df\",\n  \"rows\": 5,\n  \"fields\": [\n    {\n      \"column\": \"review\",\n      \"properties\": {\n        \"dtype\": \"string\",\n        \"num_unique_values\": 5,\n        \"samples\": [\n          \"Bad plot, bad dialogue, bad acting, idiotic directing, the annoying porn groove soundtrack that ran continually over the overacted script, and a crappy copy of the VHS cannot be redeemed by consuming liquor. Trust me, because I stuck this turkey out to the end. It was so pathetically bad all over that I had to figure it was a fourth-rate spoof of Springtime for Hitler.<br /><br />The girl who played Janis Joplin was the only faint spark of interest, and that was only because she could sing better than the original.<br /><br />If you want to watch something similar but a thousand times better, then watch Beyond The Valley of The Dolls.\",\n          \"No one expects the Star Trek movies to be high art, but the fans do expect a movie that is as good as some of the best episodes. Unfortunately, this movie had a muddled, implausible plot that just left me cringing - this is by far the worst of the nine (so far) movies. Even the chance to watch the well known characters interact in another movie can't save this movie - including the goofy scenes with Kirk, Spock and McCoy at Yosemite.<br /><br />I would say this movie is not worth a rental, and hardly worth watching, however for the True Fan who needs to see all the movies, renting this movie is about the only way you'll see it - even the cable channels avoid this movie.\",\n          \"I am a Catholic taught in parochial elementary schools by nuns, taught by Jesuit priests in high school & college. I am still a practicing Catholic but would not be considered a \\\"good Catholic\\\" in the church's eyes because I don't believe certain things or act certain ways just because the church tells me to.<br /><br />So back to the movie...its bad because two people are killed by this nun who is supposed to be a satire as the embodiment of a female religious figurehead. There is no comedy in that and the satire is not done well by the over acting of Diane Keaton. I never saw the play but if it was very different from this movies then it may be good.<br /><br />At first I thought the gun might be a fake and the first shooting all a plan by the female lead of the four former students as an attempt to demonstrate Sister Mary's emotional and intellectual bigotry of faith. But it turns out the bullets were real and the story has tragedy...the tragedy of loss of life (besides the two former students...the lives of the aborted babies, the life of the student's mom), the tragedy of dogmatic authority over love of people, the tragedy of organized religion replacing true faith in God. This is what is wrong with today's Islam, and yesterday's Judaism and Christianity.\"\n        ],\n        \"semantic_type\": \"\",\n        \"description\": \"\"\n      }\n    },\n    {\n      \"column\": \"sentiment\",\n      \"properties\": {\n        \"dtype\": \"category\",\n        \"num_unique_values\": 2,\n        \"samples\": [\n          \"negative\",\n          \"positive\"\n        ],\n        \"semantic_type\": \"\",\n        \"description\": \"\"\n      }\n    }\n  ]\n}"
            }
          },
          "metadata": {},
          "execution_count": 11
        }
      ]
    },
    {
      "cell_type": "code",
      "execution_count": 12,
      "metadata": {
        "execution": {
          "iopub.execute_input": "2021-12-31T06:31:45.066838Z",
          "iopub.status.busy": "2021-12-31T06:31:45.066171Z",
          "iopub.status.idle": "2021-12-31T06:31:45.074943Z",
          "shell.execute_reply": "2021-12-31T06:31:45.074024Z",
          "shell.execute_reply.started": "2021-12-31T06:31:45.066796Z"
        },
        "colab": {
          "base_uri": "https://localhost:8080/"
        },
        "id": "Z2xd0TNcfXI2",
        "outputId": "79f8aa95-a289-4d9c-fb42-81c6de71281b"
      },
      "outputs": [
        {
          "output_type": "execute_result",
          "data": {
            "text/plain": [
              "(50000, 2)"
            ]
          },
          "metadata": {},
          "execution_count": 12
        }
      ],
      "source": [
        "df.shape"
      ]
    },
    {
      "cell_type": "code",
      "source": [
        "df.head()"
      ],
      "metadata": {
        "colab": {
          "base_uri": "https://localhost:8080/",
          "height": 226
        },
        "id": "sVljHc0QjOtx",
        "outputId": "f38edf60-b63b-40bb-b3d6-a9c07465cf50"
      },
      "execution_count": 13,
      "outputs": [
        {
          "output_type": "execute_result",
          "data": {
            "text/plain": [
              "                                              review sentiment\n",
              "0  One of the other reviewers has mentioned that ...  positive\n",
              "1  A wonderful little production. <br /><br />The...  positive\n",
              "2  I thought this was a wonderful way to spend ti...  positive\n",
              "3  Basically there's a family where a little boy ...  negative\n",
              "4  Petter Mattei's \"Love in the Time of Money\" is...  positive"
            ],
            "text/html": [
              "\n",
              "  <div id=\"df-c9068c75-cccb-4de7-a9b3-7f4bcdb0aa0b\" class=\"colab-df-container\">\n",
              "    <div>\n",
              "<style scoped>\n",
              "    .dataframe tbody tr th:only-of-type {\n",
              "        vertical-align: middle;\n",
              "    }\n",
              "\n",
              "    .dataframe tbody tr th {\n",
              "        vertical-align: top;\n",
              "    }\n",
              "\n",
              "    .dataframe thead th {\n",
              "        text-align: right;\n",
              "    }\n",
              "</style>\n",
              "<table border=\"1\" class=\"dataframe\">\n",
              "  <thead>\n",
              "    <tr style=\"text-align: right;\">\n",
              "      <th></th>\n",
              "      <th>review</th>\n",
              "      <th>sentiment</th>\n",
              "    </tr>\n",
              "  </thead>\n",
              "  <tbody>\n",
              "    <tr>\n",
              "      <th>0</th>\n",
              "      <td>One of the other reviewers has mentioned that ...</td>\n",
              "      <td>positive</td>\n",
              "    </tr>\n",
              "    <tr>\n",
              "      <th>1</th>\n",
              "      <td>A wonderful little production. &lt;br /&gt;&lt;br /&gt;The...</td>\n",
              "      <td>positive</td>\n",
              "    </tr>\n",
              "    <tr>\n",
              "      <th>2</th>\n",
              "      <td>I thought this was a wonderful way to spend ti...</td>\n",
              "      <td>positive</td>\n",
              "    </tr>\n",
              "    <tr>\n",
              "      <th>3</th>\n",
              "      <td>Basically there's a family where a little boy ...</td>\n",
              "      <td>negative</td>\n",
              "    </tr>\n",
              "    <tr>\n",
              "      <th>4</th>\n",
              "      <td>Petter Mattei's \"Love in the Time of Money\" is...</td>\n",
              "      <td>positive</td>\n",
              "    </tr>\n",
              "  </tbody>\n",
              "</table>\n",
              "</div>\n",
              "    <div class=\"colab-df-buttons\">\n",
              "\n",
              "  <div class=\"colab-df-container\">\n",
              "    <button class=\"colab-df-convert\" onclick=\"convertToInteractive('df-c9068c75-cccb-4de7-a9b3-7f4bcdb0aa0b')\"\n",
              "            title=\"Convert this dataframe to an interactive table.\"\n",
              "            style=\"display:none;\">\n",
              "\n",
              "  <svg xmlns=\"http://www.w3.org/2000/svg\" height=\"24px\" viewBox=\"0 -960 960 960\">\n",
              "    <path d=\"M120-120v-720h720v720H120Zm60-500h600v-160H180v160Zm220 220h160v-160H400v160Zm0 220h160v-160H400v160ZM180-400h160v-160H180v160Zm440 0h160v-160H620v160ZM180-180h160v-160H180v160Zm440 0h160v-160H620v160Z\"/>\n",
              "  </svg>\n",
              "    </button>\n",
              "\n",
              "  <style>\n",
              "    .colab-df-container {\n",
              "      display:flex;\n",
              "      gap: 12px;\n",
              "    }\n",
              "\n",
              "    .colab-df-convert {\n",
              "      background-color: #E8F0FE;\n",
              "      border: none;\n",
              "      border-radius: 50%;\n",
              "      cursor: pointer;\n",
              "      display: none;\n",
              "      fill: #1967D2;\n",
              "      height: 32px;\n",
              "      padding: 0 0 0 0;\n",
              "      width: 32px;\n",
              "    }\n",
              "\n",
              "    .colab-df-convert:hover {\n",
              "      background-color: #E2EBFA;\n",
              "      box-shadow: 0px 1px 2px rgba(60, 64, 67, 0.3), 0px 1px 3px 1px rgba(60, 64, 67, 0.15);\n",
              "      fill: #174EA6;\n",
              "    }\n",
              "\n",
              "    .colab-df-buttons div {\n",
              "      margin-bottom: 4px;\n",
              "    }\n",
              "\n",
              "    [theme=dark] .colab-df-convert {\n",
              "      background-color: #3B4455;\n",
              "      fill: #D2E3FC;\n",
              "    }\n",
              "\n",
              "    [theme=dark] .colab-df-convert:hover {\n",
              "      background-color: #434B5C;\n",
              "      box-shadow: 0px 1px 3px 1px rgba(0, 0, 0, 0.15);\n",
              "      filter: drop-shadow(0px 1px 2px rgba(0, 0, 0, 0.3));\n",
              "      fill: #FFFFFF;\n",
              "    }\n",
              "  </style>\n",
              "\n",
              "    <script>\n",
              "      const buttonEl =\n",
              "        document.querySelector('#df-c9068c75-cccb-4de7-a9b3-7f4bcdb0aa0b button.colab-df-convert');\n",
              "      buttonEl.style.display =\n",
              "        google.colab.kernel.accessAllowed ? 'block' : 'none';\n",
              "\n",
              "      async function convertToInteractive(key) {\n",
              "        const element = document.querySelector('#df-c9068c75-cccb-4de7-a9b3-7f4bcdb0aa0b');\n",
              "        const dataTable =\n",
              "          await google.colab.kernel.invokeFunction('convertToInteractive',\n",
              "                                                    [key], {});\n",
              "        if (!dataTable) return;\n",
              "\n",
              "        const docLinkHtml = 'Like what you see? Visit the ' +\n",
              "          '<a target=\"_blank\" href=https://colab.research.google.com/notebooks/data_table.ipynb>data table notebook</a>'\n",
              "          + ' to learn more about interactive tables.';\n",
              "        element.innerHTML = '';\n",
              "        dataTable['output_type'] = 'display_data';\n",
              "        await google.colab.output.renderOutput(dataTable, element);\n",
              "        const docLink = document.createElement('div');\n",
              "        docLink.innerHTML = docLinkHtml;\n",
              "        element.appendChild(docLink);\n",
              "      }\n",
              "    </script>\n",
              "  </div>\n",
              "\n",
              "\n",
              "<div id=\"df-c6f6ac17-98cc-4da9-86eb-64fcf01b97cd\">\n",
              "  <button class=\"colab-df-quickchart\" onclick=\"quickchart('df-c6f6ac17-98cc-4da9-86eb-64fcf01b97cd')\"\n",
              "            title=\"Suggest charts\"\n",
              "            style=\"display:none;\">\n",
              "\n",
              "<svg xmlns=\"http://www.w3.org/2000/svg\" height=\"24px\"viewBox=\"0 0 24 24\"\n",
              "     width=\"24px\">\n",
              "    <g>\n",
              "        <path d=\"M19 3H5c-1.1 0-2 .9-2 2v14c0 1.1.9 2 2 2h14c1.1 0 2-.9 2-2V5c0-1.1-.9-2-2-2zM9 17H7v-7h2v7zm4 0h-2V7h2v10zm4 0h-2v-4h2v4z\"/>\n",
              "    </g>\n",
              "</svg>\n",
              "  </button>\n",
              "\n",
              "<style>\n",
              "  .colab-df-quickchart {\n",
              "      --bg-color: #E8F0FE;\n",
              "      --fill-color: #1967D2;\n",
              "      --hover-bg-color: #E2EBFA;\n",
              "      --hover-fill-color: #174EA6;\n",
              "      --disabled-fill-color: #AAA;\n",
              "      --disabled-bg-color: #DDD;\n",
              "  }\n",
              "\n",
              "  [theme=dark] .colab-df-quickchart {\n",
              "      --bg-color: #3B4455;\n",
              "      --fill-color: #D2E3FC;\n",
              "      --hover-bg-color: #434B5C;\n",
              "      --hover-fill-color: #FFFFFF;\n",
              "      --disabled-bg-color: #3B4455;\n",
              "      --disabled-fill-color: #666;\n",
              "  }\n",
              "\n",
              "  .colab-df-quickchart {\n",
              "    background-color: var(--bg-color);\n",
              "    border: none;\n",
              "    border-radius: 50%;\n",
              "    cursor: pointer;\n",
              "    display: none;\n",
              "    fill: var(--fill-color);\n",
              "    height: 32px;\n",
              "    padding: 0;\n",
              "    width: 32px;\n",
              "  }\n",
              "\n",
              "  .colab-df-quickchart:hover {\n",
              "    background-color: var(--hover-bg-color);\n",
              "    box-shadow: 0 1px 2px rgba(60, 64, 67, 0.3), 0 1px 3px 1px rgba(60, 64, 67, 0.15);\n",
              "    fill: var(--button-hover-fill-color);\n",
              "  }\n",
              "\n",
              "  .colab-df-quickchart-complete:disabled,\n",
              "  .colab-df-quickchart-complete:disabled:hover {\n",
              "    background-color: var(--disabled-bg-color);\n",
              "    fill: var(--disabled-fill-color);\n",
              "    box-shadow: none;\n",
              "  }\n",
              "\n",
              "  .colab-df-spinner {\n",
              "    border: 2px solid var(--fill-color);\n",
              "    border-color: transparent;\n",
              "    border-bottom-color: var(--fill-color);\n",
              "    animation:\n",
              "      spin 1s steps(1) infinite;\n",
              "  }\n",
              "\n",
              "  @keyframes spin {\n",
              "    0% {\n",
              "      border-color: transparent;\n",
              "      border-bottom-color: var(--fill-color);\n",
              "      border-left-color: var(--fill-color);\n",
              "    }\n",
              "    20% {\n",
              "      border-color: transparent;\n",
              "      border-left-color: var(--fill-color);\n",
              "      border-top-color: var(--fill-color);\n",
              "    }\n",
              "    30% {\n",
              "      border-color: transparent;\n",
              "      border-left-color: var(--fill-color);\n",
              "      border-top-color: var(--fill-color);\n",
              "      border-right-color: var(--fill-color);\n",
              "    }\n",
              "    40% {\n",
              "      border-color: transparent;\n",
              "      border-right-color: var(--fill-color);\n",
              "      border-top-color: var(--fill-color);\n",
              "    }\n",
              "    60% {\n",
              "      border-color: transparent;\n",
              "      border-right-color: var(--fill-color);\n",
              "    }\n",
              "    80% {\n",
              "      border-color: transparent;\n",
              "      border-right-color: var(--fill-color);\n",
              "      border-bottom-color: var(--fill-color);\n",
              "    }\n",
              "    90% {\n",
              "      border-color: transparent;\n",
              "      border-bottom-color: var(--fill-color);\n",
              "    }\n",
              "  }\n",
              "</style>\n",
              "\n",
              "  <script>\n",
              "    async function quickchart(key) {\n",
              "      const quickchartButtonEl =\n",
              "        document.querySelector('#' + key + ' button');\n",
              "      quickchartButtonEl.disabled = true;  // To prevent multiple clicks.\n",
              "      quickchartButtonEl.classList.add('colab-df-spinner');\n",
              "      try {\n",
              "        const charts = await google.colab.kernel.invokeFunction(\n",
              "            'suggestCharts', [key], {});\n",
              "      } catch (error) {\n",
              "        console.error('Error during call to suggestCharts:', error);\n",
              "      }\n",
              "      quickchartButtonEl.classList.remove('colab-df-spinner');\n",
              "      quickchartButtonEl.classList.add('colab-df-quickchart-complete');\n",
              "    }\n",
              "    (() => {\n",
              "      let quickchartButtonEl =\n",
              "        document.querySelector('#df-c6f6ac17-98cc-4da9-86eb-64fcf01b97cd button');\n",
              "      quickchartButtonEl.style.display =\n",
              "        google.colab.kernel.accessAllowed ? 'block' : 'none';\n",
              "    })();\n",
              "  </script>\n",
              "</div>\n",
              "\n",
              "    </div>\n",
              "  </div>\n"
            ],
            "application/vnd.google.colaboratory.intrinsic+json": {
              "type": "dataframe",
              "variable_name": "df",
              "summary": "{\n  \"name\": \"df\",\n  \"rows\": 50000,\n  \"fields\": [\n    {\n      \"column\": \"review\",\n      \"properties\": {\n        \"dtype\": \"string\",\n        \"num_unique_values\": 49582,\n        \"samples\": [\n          \"\\\"Soul Plane\\\" is a horrible attempt at comedy that only should appeal people with thick skulls, bloodshot eyes and furry pawns. <br /><br />The plot is not only incoherent but also non-existent, acting is mostly sub sub-par with a gang of highly moronic and dreadful characters thrown in for bad measure, jokes are often spotted miles ahead and almost never even a bit amusing. This movie lacks any structure and is full of racial stereotypes that must have seemed old even in the fifties, the only thing it really has going for it is some pretty ladies, but really, if you want that you can rent something from the \\\"Adult\\\" section. OK?<br /><br />I can hardly see anything here to recommend since you'll probably have a lot a better and productive time chasing rats with a sledgehammer or inventing waterproof teabags or whatever.<br /><br />2/10\",\n          \"Guest from the Future tells a fascinating story of time travel, friendship, battle of good and evil -- all with a small budget, child actors, and few special effects. Something for Spielberg and Lucas to learn from. ;) A sixth-grader Kolya \\\"Nick\\\" Gerasimov finds a time machine in the basement of a decrepit building and travels 100 years into the future. He discovers a near-perfect, utopian society where robots play guitars and write poetry, everyone is kind to each other and people enjoy everything technology has to offer. Alice is the daughter of a prominent scientist who invented a device called Mielophone that allows to read minds of humans and animals. The device can be put to both good and bad use, depending on whose hands it falls into. When two evil space pirates from Saturn who want to rule the universe attempt to steal Mielophone, it falls into the hands of 20th century school boy Nick. With the pirates hot on his tracks, he travels back to his time, followed by the pirates, and Alice. Chaos, confusion and funny situations follow as the luckless pirates try to blend in with the earthlings. Alice enrolls in the same school Nick goes to and demonstrates superhuman abilities in PE class. The catch is, Alice doesn't know what Nick looks like, while the pirates do. Also, the pirates are able to change their appearance and turn literally into anyone. (Hmm, I wonder if this is where James Cameron got the idea for Terminator...) Who gets to Nick -- and Mielophone -- first? Excellent plot, non-stop adventures, and great soundtrack. I wish Hollywood made kid movies like this one...\",\n          \"\\\"National Treasure\\\" (2004) is a thoroughly misguided hodge-podge of plot entanglements that borrow from nearly every cloak and dagger government conspiracy clich\\u00e9 that has ever been written. The film stars Nicholas Cage as Benjamin Franklin Gates (how precious is that, I ask you?); a seemingly normal fellow who, for no other reason than being of a lineage of like-minded misguided fortune hunters, decides to steal a 'national treasure' that has been hidden by the United States founding fathers. After a bit of subtext and background that plays laughably (unintentionally) like Indiana Jones meets The Patriot, the film degenerates into one misguided whimsy after another \\u0096 attempting to create a 'Stanley Goodspeed' regurgitation of Nicholas Cage and launch the whole convoluted mess forward with a series of high octane, but disconnected misadventures.<br /><br />The relevancy and logic to having George Washington and his motley crew of patriots burying a king's ransom someplace on native soil, and then, going through the meticulous plan of leaving clues scattered throughout U.S. currency art work, is something that director Jon Turteltaub never quite gets around to explaining. Couldn't Washington found better usage for such wealth during the start up of the country? Hence, we are left with a mystery built on top of an enigma that is already on shaky ground by the time Ben appoints himself the new custodian of this untold wealth. Ben's intentions are noble \\u0096 if confusing. He's set on protecting the treasure. For who and when?\\u0085your guess is as good as mine.<br /><br />But there are a few problems with Ben's crusade. First up, his friend, Ian Holmes (Sean Bean) decides that he can't wait for Ben to make up his mind about stealing the Declaration of Independence from the National Archives (oh, yeah \\u0096 brilliant idea!). Presumably, the back of that famous document holds the secret answer to the ultimate fortune. So Ian tries to kill Ben. The assassination attempt is, of course, unsuccessful, if overly melodramatic. It also affords Ben the opportunity to pick up, and pick on, the very sultry curator of the archives, Abigail Chase (Diane Kruger). She thinks Ben is clearly a nut \\u0096 at least at the beginning. But true to action/romance form, Abby's resolve melts quicker than you can say, \\\"is that the Hope Diamond?\\\" The film moves into full X-File-ish mode, as the FBI, mistakenly believing that Ben is behind the theft, retaliate in various benign ways that lead to a multi-layering of action sequences reminiscent of Mission Impossible meets The Fugitive. Honestly, don't those guys ever get 'intelligence' information that is correct? In the final analysis, \\\"National Treasure\\\" isn't great film making, so much as it's a patchwork rehash of tired old bits from other movies, woven together from scraps, the likes of which would make IL' Betsy Ross blush.<br /><br />The Buena Vista DVD delivers a far more generous treatment than this film is deserving of. The anamorphic widescreen picture exhibits a very smooth and finely detailed image with very rich colors, natural flesh tones, solid blacks and clean whites. The stylized image is also free of blemishes and digital enhancements. The audio is 5.1 and delivers a nice sonic boom to your side and rear speakers with intensity and realism. Extras include a host of promotional junket material that is rather deep and over the top in its explanation of how and why this film was made. If only, as an audience, we had had more clarification as to why Ben and co. were chasing after an illusive treasure, this might have been one good flick. Extras conclude with the theatrical trailer, audio commentary and deleted scenes. Not for the faint-hearted \\u0096 just the thick-headed.\"\n        ],\n        \"semantic_type\": \"\",\n        \"description\": \"\"\n      }\n    },\n    {\n      \"column\": \"sentiment\",\n      \"properties\": {\n        \"dtype\": \"category\",\n        \"num_unique_values\": 2,\n        \"samples\": [\n          \"negative\",\n          \"positive\"\n        ],\n        \"semantic_type\": \"\",\n        \"description\": \"\"\n      }\n    }\n  ]\n}"
            }
          },
          "metadata": {},
          "execution_count": 13
        }
      ]
    },
    {
      "cell_type": "code",
      "source": [
        "df = df.head(100)"
      ],
      "metadata": {
        "id": "eZCM9UfFmf1M"
      },
      "execution_count": 14,
      "outputs": []
    },
    {
      "cell_type": "code",
      "source": [
        "df.shape"
      ],
      "metadata": {
        "colab": {
          "base_uri": "https://localhost:8080/"
        },
        "id": "9O0EVPWxmvEk",
        "outputId": "4e99e9de-5f1b-4a3d-c39e-9cc9dd5e11d5"
      },
      "execution_count": 15,
      "outputs": [
        {
          "output_type": "execute_result",
          "data": {
            "text/plain": [
              "(100, 2)"
            ]
          },
          "metadata": {},
          "execution_count": 15
        }
      ]
    },
    {
      "cell_type": "code",
      "execution_count": 16,
      "metadata": {
        "execution": {
          "iopub.execute_input": "2021-12-31T06:31:45.928154Z",
          "iopub.status.busy": "2021-12-31T06:31:45.927888Z",
          "iopub.status.idle": "2021-12-31T06:31:45.945137Z",
          "shell.execute_reply": "2021-12-31T06:31:45.944403Z",
          "shell.execute_reply.started": "2021-12-31T06:31:45.928126Z"
        },
        "colab": {
          "base_uri": "https://localhost:8080/",
          "height": 226
        },
        "id": "IK472BClfXI2",
        "outputId": "da542c3e-b262-43d5-eaff-b2129189cb90"
      },
      "outputs": [
        {
          "output_type": "execute_result",
          "data": {
            "text/plain": [
              "                                              review sentiment\n",
              "0  One of the other reviewers has mentioned that ...  positive\n",
              "1  A wonderful little production. <br /><br />The...  positive\n",
              "2  I thought this was a wonderful way to spend ti...  positive\n",
              "3  Basically there's a family where a little boy ...  negative\n",
              "4  Petter Mattei's \"Love in the Time of Money\" is...  positive"
            ],
            "text/html": [
              "\n",
              "  <div id=\"df-81956f6f-48bc-4a64-9439-ff0136c2a0d9\" class=\"colab-df-container\">\n",
              "    <div>\n",
              "<style scoped>\n",
              "    .dataframe tbody tr th:only-of-type {\n",
              "        vertical-align: middle;\n",
              "    }\n",
              "\n",
              "    .dataframe tbody tr th {\n",
              "        vertical-align: top;\n",
              "    }\n",
              "\n",
              "    .dataframe thead th {\n",
              "        text-align: right;\n",
              "    }\n",
              "</style>\n",
              "<table border=\"1\" class=\"dataframe\">\n",
              "  <thead>\n",
              "    <tr style=\"text-align: right;\">\n",
              "      <th></th>\n",
              "      <th>review</th>\n",
              "      <th>sentiment</th>\n",
              "    </tr>\n",
              "  </thead>\n",
              "  <tbody>\n",
              "    <tr>\n",
              "      <th>0</th>\n",
              "      <td>One of the other reviewers has mentioned that ...</td>\n",
              "      <td>positive</td>\n",
              "    </tr>\n",
              "    <tr>\n",
              "      <th>1</th>\n",
              "      <td>A wonderful little production. &lt;br /&gt;&lt;br /&gt;The...</td>\n",
              "      <td>positive</td>\n",
              "    </tr>\n",
              "    <tr>\n",
              "      <th>2</th>\n",
              "      <td>I thought this was a wonderful way to spend ti...</td>\n",
              "      <td>positive</td>\n",
              "    </tr>\n",
              "    <tr>\n",
              "      <th>3</th>\n",
              "      <td>Basically there's a family where a little boy ...</td>\n",
              "      <td>negative</td>\n",
              "    </tr>\n",
              "    <tr>\n",
              "      <th>4</th>\n",
              "      <td>Petter Mattei's \"Love in the Time of Money\" is...</td>\n",
              "      <td>positive</td>\n",
              "    </tr>\n",
              "  </tbody>\n",
              "</table>\n",
              "</div>\n",
              "    <div class=\"colab-df-buttons\">\n",
              "\n",
              "  <div class=\"colab-df-container\">\n",
              "    <button class=\"colab-df-convert\" onclick=\"convertToInteractive('df-81956f6f-48bc-4a64-9439-ff0136c2a0d9')\"\n",
              "            title=\"Convert this dataframe to an interactive table.\"\n",
              "            style=\"display:none;\">\n",
              "\n",
              "  <svg xmlns=\"http://www.w3.org/2000/svg\" height=\"24px\" viewBox=\"0 -960 960 960\">\n",
              "    <path d=\"M120-120v-720h720v720H120Zm60-500h600v-160H180v160Zm220 220h160v-160H400v160Zm0 220h160v-160H400v160ZM180-400h160v-160H180v160Zm440 0h160v-160H620v160ZM180-180h160v-160H180v160Zm440 0h160v-160H620v160Z\"/>\n",
              "  </svg>\n",
              "    </button>\n",
              "\n",
              "  <style>\n",
              "    .colab-df-container {\n",
              "      display:flex;\n",
              "      gap: 12px;\n",
              "    }\n",
              "\n",
              "    .colab-df-convert {\n",
              "      background-color: #E8F0FE;\n",
              "      border: none;\n",
              "      border-radius: 50%;\n",
              "      cursor: pointer;\n",
              "      display: none;\n",
              "      fill: #1967D2;\n",
              "      height: 32px;\n",
              "      padding: 0 0 0 0;\n",
              "      width: 32px;\n",
              "    }\n",
              "\n",
              "    .colab-df-convert:hover {\n",
              "      background-color: #E2EBFA;\n",
              "      box-shadow: 0px 1px 2px rgba(60, 64, 67, 0.3), 0px 1px 3px 1px rgba(60, 64, 67, 0.15);\n",
              "      fill: #174EA6;\n",
              "    }\n",
              "\n",
              "    .colab-df-buttons div {\n",
              "      margin-bottom: 4px;\n",
              "    }\n",
              "\n",
              "    [theme=dark] .colab-df-convert {\n",
              "      background-color: #3B4455;\n",
              "      fill: #D2E3FC;\n",
              "    }\n",
              "\n",
              "    [theme=dark] .colab-df-convert:hover {\n",
              "      background-color: #434B5C;\n",
              "      box-shadow: 0px 1px 3px 1px rgba(0, 0, 0, 0.15);\n",
              "      filter: drop-shadow(0px 1px 2px rgba(0, 0, 0, 0.3));\n",
              "      fill: #FFFFFF;\n",
              "    }\n",
              "  </style>\n",
              "\n",
              "    <script>\n",
              "      const buttonEl =\n",
              "        document.querySelector('#df-81956f6f-48bc-4a64-9439-ff0136c2a0d9 button.colab-df-convert');\n",
              "      buttonEl.style.display =\n",
              "        google.colab.kernel.accessAllowed ? 'block' : 'none';\n",
              "\n",
              "      async function convertToInteractive(key) {\n",
              "        const element = document.querySelector('#df-81956f6f-48bc-4a64-9439-ff0136c2a0d9');\n",
              "        const dataTable =\n",
              "          await google.colab.kernel.invokeFunction('convertToInteractive',\n",
              "                                                    [key], {});\n",
              "        if (!dataTable) return;\n",
              "\n",
              "        const docLinkHtml = 'Like what you see? Visit the ' +\n",
              "          '<a target=\"_blank\" href=https://colab.research.google.com/notebooks/data_table.ipynb>data table notebook</a>'\n",
              "          + ' to learn more about interactive tables.';\n",
              "        element.innerHTML = '';\n",
              "        dataTable['output_type'] = 'display_data';\n",
              "        await google.colab.output.renderOutput(dataTable, element);\n",
              "        const docLink = document.createElement('div');\n",
              "        docLink.innerHTML = docLinkHtml;\n",
              "        element.appendChild(docLink);\n",
              "      }\n",
              "    </script>\n",
              "  </div>\n",
              "\n",
              "\n",
              "<div id=\"df-bf1a0c4e-f53b-42ce-8e68-627750efef4f\">\n",
              "  <button class=\"colab-df-quickchart\" onclick=\"quickchart('df-bf1a0c4e-f53b-42ce-8e68-627750efef4f')\"\n",
              "            title=\"Suggest charts\"\n",
              "            style=\"display:none;\">\n",
              "\n",
              "<svg xmlns=\"http://www.w3.org/2000/svg\" height=\"24px\"viewBox=\"0 0 24 24\"\n",
              "     width=\"24px\">\n",
              "    <g>\n",
              "        <path d=\"M19 3H5c-1.1 0-2 .9-2 2v14c0 1.1.9 2 2 2h14c1.1 0 2-.9 2-2V5c0-1.1-.9-2-2-2zM9 17H7v-7h2v7zm4 0h-2V7h2v10zm4 0h-2v-4h2v4z\"/>\n",
              "    </g>\n",
              "</svg>\n",
              "  </button>\n",
              "\n",
              "<style>\n",
              "  .colab-df-quickchart {\n",
              "      --bg-color: #E8F0FE;\n",
              "      --fill-color: #1967D2;\n",
              "      --hover-bg-color: #E2EBFA;\n",
              "      --hover-fill-color: #174EA6;\n",
              "      --disabled-fill-color: #AAA;\n",
              "      --disabled-bg-color: #DDD;\n",
              "  }\n",
              "\n",
              "  [theme=dark] .colab-df-quickchart {\n",
              "      --bg-color: #3B4455;\n",
              "      --fill-color: #D2E3FC;\n",
              "      --hover-bg-color: #434B5C;\n",
              "      --hover-fill-color: #FFFFFF;\n",
              "      --disabled-bg-color: #3B4455;\n",
              "      --disabled-fill-color: #666;\n",
              "  }\n",
              "\n",
              "  .colab-df-quickchart {\n",
              "    background-color: var(--bg-color);\n",
              "    border: none;\n",
              "    border-radius: 50%;\n",
              "    cursor: pointer;\n",
              "    display: none;\n",
              "    fill: var(--fill-color);\n",
              "    height: 32px;\n",
              "    padding: 0;\n",
              "    width: 32px;\n",
              "  }\n",
              "\n",
              "  .colab-df-quickchart:hover {\n",
              "    background-color: var(--hover-bg-color);\n",
              "    box-shadow: 0 1px 2px rgba(60, 64, 67, 0.3), 0 1px 3px 1px rgba(60, 64, 67, 0.15);\n",
              "    fill: var(--button-hover-fill-color);\n",
              "  }\n",
              "\n",
              "  .colab-df-quickchart-complete:disabled,\n",
              "  .colab-df-quickchart-complete:disabled:hover {\n",
              "    background-color: var(--disabled-bg-color);\n",
              "    fill: var(--disabled-fill-color);\n",
              "    box-shadow: none;\n",
              "  }\n",
              "\n",
              "  .colab-df-spinner {\n",
              "    border: 2px solid var(--fill-color);\n",
              "    border-color: transparent;\n",
              "    border-bottom-color: var(--fill-color);\n",
              "    animation:\n",
              "      spin 1s steps(1) infinite;\n",
              "  }\n",
              "\n",
              "  @keyframes spin {\n",
              "    0% {\n",
              "      border-color: transparent;\n",
              "      border-bottom-color: var(--fill-color);\n",
              "      border-left-color: var(--fill-color);\n",
              "    }\n",
              "    20% {\n",
              "      border-color: transparent;\n",
              "      border-left-color: var(--fill-color);\n",
              "      border-top-color: var(--fill-color);\n",
              "    }\n",
              "    30% {\n",
              "      border-color: transparent;\n",
              "      border-left-color: var(--fill-color);\n",
              "      border-top-color: var(--fill-color);\n",
              "      border-right-color: var(--fill-color);\n",
              "    }\n",
              "    40% {\n",
              "      border-color: transparent;\n",
              "      border-right-color: var(--fill-color);\n",
              "      border-top-color: var(--fill-color);\n",
              "    }\n",
              "    60% {\n",
              "      border-color: transparent;\n",
              "      border-right-color: var(--fill-color);\n",
              "    }\n",
              "    80% {\n",
              "      border-color: transparent;\n",
              "      border-right-color: var(--fill-color);\n",
              "      border-bottom-color: var(--fill-color);\n",
              "    }\n",
              "    90% {\n",
              "      border-color: transparent;\n",
              "      border-bottom-color: var(--fill-color);\n",
              "    }\n",
              "  }\n",
              "</style>\n",
              "\n",
              "  <script>\n",
              "    async function quickchart(key) {\n",
              "      const quickchartButtonEl =\n",
              "        document.querySelector('#' + key + ' button');\n",
              "      quickchartButtonEl.disabled = true;  // To prevent multiple clicks.\n",
              "      quickchartButtonEl.classList.add('colab-df-spinner');\n",
              "      try {\n",
              "        const charts = await google.colab.kernel.invokeFunction(\n",
              "            'suggestCharts', [key], {});\n",
              "      } catch (error) {\n",
              "        console.error('Error during call to suggestCharts:', error);\n",
              "      }\n",
              "      quickchartButtonEl.classList.remove('colab-df-spinner');\n",
              "      quickchartButtonEl.classList.add('colab-df-quickchart-complete');\n",
              "    }\n",
              "    (() => {\n",
              "      let quickchartButtonEl =\n",
              "        document.querySelector('#df-bf1a0c4e-f53b-42ce-8e68-627750efef4f button');\n",
              "      quickchartButtonEl.style.display =\n",
              "        google.colab.kernel.accessAllowed ? 'block' : 'none';\n",
              "    })();\n",
              "  </script>\n",
              "</div>\n",
              "\n",
              "    </div>\n",
              "  </div>\n"
            ],
            "application/vnd.google.colaboratory.intrinsic+json": {
              "type": "dataframe",
              "variable_name": "df",
              "summary": "{\n  \"name\": \"df\",\n  \"rows\": 100,\n  \"fields\": [\n    {\n      \"column\": \"review\",\n      \"properties\": {\n        \"dtype\": \"string\",\n        \"num_unique_values\": 100,\n        \"samples\": [\n          \"\\\"Fate\\\" leads Walter Sparrow to come in possession of a mysterious novel that has eerie similarities and connections to his life, all based around the number 23. As the story unfolds in real life and fiction, Sparrow must figure out his connection to the book and how the story will eventually end.<br /><br />The Number 23 offers an intriguing premise that is undone by a weak execution. The film just failed on many different levels which is pretty disappointing because it held so much potential. The screenplay was probably the worst part about it. It was filled with silly sequences and laughable dialog that just killed the mood of the movie. It seemed like the screenwriter had a good idea, he just didn't know how to develop it to stretch over a ninety minute running time. The second half of the film was running low on ideas, the twist was pretty obvious and the ending was awful.<br /><br />Joel Schumacher is responsible for one of the worst movies ever and he did redeem himself a little with Phone Booth and a few other films but The Number 23 reminds me that he's still capable of making a stinker. He has the movie drenched in style but he just can't get a good focus. He moves the film at a clunky and slow pace. He switches from reality to what's actually happening in the book which quickly got annoying. The actual book in the film that's titled \\\"The Number 23\\\" is an awful detective story and the audience gets stuck listening to Carrey narrate it which just bored me to tears. When Carrey is finally done with book, we get stuck watching him run around trying to solve the mystery. At this point, the audience has lost interest and there is no real tension. We impatiently wait for the movie to reach it's horrible ending and unconvincing explanation before celebrating that film has finally finished.<br /><br />The acting was mostly average and pretty forgettable. Jim Carrey was clearly just sleepwalking through his performance and he didn't even seem to be trying. He was either completely over the top in some scenes or just very wooden. His narration was a complete bore to listen to and he put no life inside his character. Virginia Madsen did the best she could with a limited role but she needs to pick better scripts. Logan Lerman was pretty bland as was Danny Huston. Overall, The Number 23 was an awful thriller that offered more laughs than suspense or thrills. Rating 3/10\",\n          \"I cannot believe I enjoyed this as much as I did. The anthology stories were better than par, but the linking story and its surprise ending hooked me. Alot of familiar faces will keep you asking yourself \\\"where I have I seen them before?\\\" Forget the running time listed on New Line's tape, this ain't no 103 minutes, according to my VCR timer and IMDB. Space Maggot douses the campfire in his own special way and hikes this an 8.\",\n          \"Caddyshack Two is a good movie by itself but compared to the original it cant stack up. Robert Stack is a horrible replacement for Ted Knight and Jackie Mason, while funny just cant compete with Rodney Dangerfield. Ty Webb is funny, being the only character from the original. Most of the other characters in the movie lack the punch of the original (Henry Wilcoxon for example) except for the hystericly funny lawyer Peter Blunt, being played by Randy Quaid. Every line he says reminds me of the originals humor, especially the scene at his office (I don't go in for law suits or motions. I find out where you live and come to your house and beat down your door with a f***ing baseball bat, make a bonfire with the chippindale,maybe roast that golden retriever (arff arff arff) then eat it. And then I'm comin' upstairs junior, and I'm grabbing you by your brooks brothers pjs, and cramming your brand new BMW up your tight a**! Do we have an understanding?). Offsetting his small role however, is Dan Acroyd, who is obviously no replacement for Bill Murray. His voice is beyond irritating and everything he does isnt even funny, its just stupid. Overall Caddyshack II is a good movie, but in comparison to the awesome original it just cant cut it.\"\n        ],\n        \"semantic_type\": \"\",\n        \"description\": \"\"\n      }\n    },\n    {\n      \"column\": \"sentiment\",\n      \"properties\": {\n        \"dtype\": \"category\",\n        \"num_unique_values\": 2,\n        \"samples\": [\n          \"negative\",\n          \"positive\"\n        ],\n        \"semantic_type\": \"\",\n        \"description\": \"\"\n      }\n    }\n  ]\n}"
            }
          },
          "metadata": {},
          "execution_count": 16
        }
      ],
      "source": [
        "df.head()"
      ]
    },
    {
      "cell_type": "markdown",
      "metadata": {
        "id": "2904AVZxfXI3"
      },
      "source": [
        "# lower case"
      ]
    },
    {
      "cell_type": "code",
      "execution_count": 17,
      "metadata": {
        "execution": {
          "iopub.execute_input": "2021-12-31T06:31:46.622825Z",
          "iopub.status.busy": "2021-12-31T06:31:46.622155Z",
          "iopub.status.idle": "2021-12-31T06:31:46.631721Z",
          "shell.execute_reply": "2021-12-31T06:31:46.631006Z",
          "shell.execute_reply.started": "2021-12-31T06:31:46.622784Z"
        },
        "colab": {
          "base_uri": "https://localhost:8080/",
          "height": 142
        },
        "id": "GmzqPSelfXI_",
        "outputId": "355ff8aa-0d46-448c-91e8-894b39f5a79f"
      },
      "outputs": [
        {
          "output_type": "execute_result",
          "data": {
            "text/plain": [
              "\"Basically there's a family where a little boy (Jake) thinks there's a zombie in his closet & his parents are fighting all the time.<br /><br />This movie is slower than a soap opera... and suddenly, Jake decides to become Rambo and kill the zombie.<br /><br />OK, first of all when you're going to make a film you must Decide if its a thriller or a drama! As a drama the movie is watchable. Parents are divorcing & arguing like in real life. And then we have Jake with his closet which totally ruins all the film! I expected to see a BOOGEYMAN similar movie, and instead i watched a drama with some meaningless thriller spots.<br /><br />3 out of 10 just for the well playing parents & descent dialogs. As for the shots with Jake: just ignore them.\""
            ],
            "application/vnd.google.colaboratory.intrinsic+json": {
              "type": "string"
            }
          },
          "metadata": {},
          "execution_count": 17
        }
      ],
      "source": [
        "df['review'][3]"
      ]
    },
    {
      "cell_type": "code",
      "execution_count": 18,
      "metadata": {
        "execution": {
          "iopub.execute_input": "2021-12-31T06:31:47.787087Z",
          "iopub.status.busy": "2021-12-31T06:31:47.786303Z",
          "iopub.status.idle": "2021-12-31T06:31:47.951308Z",
          "shell.execute_reply": "2021-12-31T06:31:47.950466Z",
          "shell.execute_reply.started": "2021-12-31T06:31:47.787050Z"
        },
        "id": "i89hq6VMfXJB"
      },
      "outputs": [],
      "source": [
        "df['review'] = df['review'].str.lower()"
      ]
    },
    {
      "cell_type": "code",
      "execution_count": 19,
      "metadata": {
        "execution": {
          "iopub.execute_input": "2021-12-31T06:31:49.128530Z",
          "iopub.status.busy": "2021-12-31T06:31:49.128210Z",
          "iopub.status.idle": "2021-12-31T06:31:49.139811Z",
          "shell.execute_reply": "2021-12-31T06:31:49.139029Z",
          "shell.execute_reply.started": "2021-12-31T06:31:49.128496Z"
        },
        "colab": {
          "base_uri": "https://localhost:8080/",
          "height": 444
        },
        "id": "glDKwJu4fXJC",
        "outputId": "55743386-d3b9-46ad-90c7-94530ad5a12d"
      },
      "outputs": [
        {
          "output_type": "execute_result",
          "data": {
            "text/plain": [
              "                                               review sentiment\n",
              "0   one of the other reviewers has mentioned that ...  positive\n",
              "1   a wonderful little production. <br /><br />the...  positive\n",
              "2   i thought this was a wonderful way to spend ti...  positive\n",
              "3   basically there's a family where a little boy ...  negative\n",
              "4   petter mattei's \"love in the time of money\" is...  positive\n",
              "..                                                ...       ...\n",
              "95  daniel day-lewis is the most versatile actor a...  positive\n",
              "96  my guess would be this was originally going to...  negative\n",
              "97  well, i like to watch bad horror b-movies, cau...  negative\n",
              "98  this is the worst movie i have ever seen, as w...  negative\n",
              "99  i have been a mario fan for as long as i can r...  positive\n",
              "\n",
              "[100 rows x 2 columns]"
            ],
            "text/html": [
              "\n",
              "  <div id=\"df-d919ef14-b94e-4a8a-bf44-7709ec3de16d\" class=\"colab-df-container\">\n",
              "    <div>\n",
              "<style scoped>\n",
              "    .dataframe tbody tr th:only-of-type {\n",
              "        vertical-align: middle;\n",
              "    }\n",
              "\n",
              "    .dataframe tbody tr th {\n",
              "        vertical-align: top;\n",
              "    }\n",
              "\n",
              "    .dataframe thead th {\n",
              "        text-align: right;\n",
              "    }\n",
              "</style>\n",
              "<table border=\"1\" class=\"dataframe\">\n",
              "  <thead>\n",
              "    <tr style=\"text-align: right;\">\n",
              "      <th></th>\n",
              "      <th>review</th>\n",
              "      <th>sentiment</th>\n",
              "    </tr>\n",
              "  </thead>\n",
              "  <tbody>\n",
              "    <tr>\n",
              "      <th>0</th>\n",
              "      <td>one of the other reviewers has mentioned that ...</td>\n",
              "      <td>positive</td>\n",
              "    </tr>\n",
              "    <tr>\n",
              "      <th>1</th>\n",
              "      <td>a wonderful little production. &lt;br /&gt;&lt;br /&gt;the...</td>\n",
              "      <td>positive</td>\n",
              "    </tr>\n",
              "    <tr>\n",
              "      <th>2</th>\n",
              "      <td>i thought this was a wonderful way to spend ti...</td>\n",
              "      <td>positive</td>\n",
              "    </tr>\n",
              "    <tr>\n",
              "      <th>3</th>\n",
              "      <td>basically there's a family where a little boy ...</td>\n",
              "      <td>negative</td>\n",
              "    </tr>\n",
              "    <tr>\n",
              "      <th>4</th>\n",
              "      <td>petter mattei's \"love in the time of money\" is...</td>\n",
              "      <td>positive</td>\n",
              "    </tr>\n",
              "    <tr>\n",
              "      <th>...</th>\n",
              "      <td>...</td>\n",
              "      <td>...</td>\n",
              "    </tr>\n",
              "    <tr>\n",
              "      <th>95</th>\n",
              "      <td>daniel day-lewis is the most versatile actor a...</td>\n",
              "      <td>positive</td>\n",
              "    </tr>\n",
              "    <tr>\n",
              "      <th>96</th>\n",
              "      <td>my guess would be this was originally going to...</td>\n",
              "      <td>negative</td>\n",
              "    </tr>\n",
              "    <tr>\n",
              "      <th>97</th>\n",
              "      <td>well, i like to watch bad horror b-movies, cau...</td>\n",
              "      <td>negative</td>\n",
              "    </tr>\n",
              "    <tr>\n",
              "      <th>98</th>\n",
              "      <td>this is the worst movie i have ever seen, as w...</td>\n",
              "      <td>negative</td>\n",
              "    </tr>\n",
              "    <tr>\n",
              "      <th>99</th>\n",
              "      <td>i have been a mario fan for as long as i can r...</td>\n",
              "      <td>positive</td>\n",
              "    </tr>\n",
              "  </tbody>\n",
              "</table>\n",
              "<p>100 rows × 2 columns</p>\n",
              "</div>\n",
              "    <div class=\"colab-df-buttons\">\n",
              "\n",
              "  <div class=\"colab-df-container\">\n",
              "    <button class=\"colab-df-convert\" onclick=\"convertToInteractive('df-d919ef14-b94e-4a8a-bf44-7709ec3de16d')\"\n",
              "            title=\"Convert this dataframe to an interactive table.\"\n",
              "            style=\"display:none;\">\n",
              "\n",
              "  <svg xmlns=\"http://www.w3.org/2000/svg\" height=\"24px\" viewBox=\"0 -960 960 960\">\n",
              "    <path d=\"M120-120v-720h720v720H120Zm60-500h600v-160H180v160Zm220 220h160v-160H400v160Zm0 220h160v-160H400v160ZM180-400h160v-160H180v160Zm440 0h160v-160H620v160ZM180-180h160v-160H180v160Zm440 0h160v-160H620v160Z\"/>\n",
              "  </svg>\n",
              "    </button>\n",
              "\n",
              "  <style>\n",
              "    .colab-df-container {\n",
              "      display:flex;\n",
              "      gap: 12px;\n",
              "    }\n",
              "\n",
              "    .colab-df-convert {\n",
              "      background-color: #E8F0FE;\n",
              "      border: none;\n",
              "      border-radius: 50%;\n",
              "      cursor: pointer;\n",
              "      display: none;\n",
              "      fill: #1967D2;\n",
              "      height: 32px;\n",
              "      padding: 0 0 0 0;\n",
              "      width: 32px;\n",
              "    }\n",
              "\n",
              "    .colab-df-convert:hover {\n",
              "      background-color: #E2EBFA;\n",
              "      box-shadow: 0px 1px 2px rgba(60, 64, 67, 0.3), 0px 1px 3px 1px rgba(60, 64, 67, 0.15);\n",
              "      fill: #174EA6;\n",
              "    }\n",
              "\n",
              "    .colab-df-buttons div {\n",
              "      margin-bottom: 4px;\n",
              "    }\n",
              "\n",
              "    [theme=dark] .colab-df-convert {\n",
              "      background-color: #3B4455;\n",
              "      fill: #D2E3FC;\n",
              "    }\n",
              "\n",
              "    [theme=dark] .colab-df-convert:hover {\n",
              "      background-color: #434B5C;\n",
              "      box-shadow: 0px 1px 3px 1px rgba(0, 0, 0, 0.15);\n",
              "      filter: drop-shadow(0px 1px 2px rgba(0, 0, 0, 0.3));\n",
              "      fill: #FFFFFF;\n",
              "    }\n",
              "  </style>\n",
              "\n",
              "    <script>\n",
              "      const buttonEl =\n",
              "        document.querySelector('#df-d919ef14-b94e-4a8a-bf44-7709ec3de16d button.colab-df-convert');\n",
              "      buttonEl.style.display =\n",
              "        google.colab.kernel.accessAllowed ? 'block' : 'none';\n",
              "\n",
              "      async function convertToInteractive(key) {\n",
              "        const element = document.querySelector('#df-d919ef14-b94e-4a8a-bf44-7709ec3de16d');\n",
              "        const dataTable =\n",
              "          await google.colab.kernel.invokeFunction('convertToInteractive',\n",
              "                                                    [key], {});\n",
              "        if (!dataTable) return;\n",
              "\n",
              "        const docLinkHtml = 'Like what you see? Visit the ' +\n",
              "          '<a target=\"_blank\" href=https://colab.research.google.com/notebooks/data_table.ipynb>data table notebook</a>'\n",
              "          + ' to learn more about interactive tables.';\n",
              "        element.innerHTML = '';\n",
              "        dataTable['output_type'] = 'display_data';\n",
              "        await google.colab.output.renderOutput(dataTable, element);\n",
              "        const docLink = document.createElement('div');\n",
              "        docLink.innerHTML = docLinkHtml;\n",
              "        element.appendChild(docLink);\n",
              "      }\n",
              "    </script>\n",
              "  </div>\n",
              "\n",
              "\n",
              "<div id=\"df-2a8b71a9-de7e-45c3-9d8c-a3be0a017296\">\n",
              "  <button class=\"colab-df-quickchart\" onclick=\"quickchart('df-2a8b71a9-de7e-45c3-9d8c-a3be0a017296')\"\n",
              "            title=\"Suggest charts\"\n",
              "            style=\"display:none;\">\n",
              "\n",
              "<svg xmlns=\"http://www.w3.org/2000/svg\" height=\"24px\"viewBox=\"0 0 24 24\"\n",
              "     width=\"24px\">\n",
              "    <g>\n",
              "        <path d=\"M19 3H5c-1.1 0-2 .9-2 2v14c0 1.1.9 2 2 2h14c1.1 0 2-.9 2-2V5c0-1.1-.9-2-2-2zM9 17H7v-7h2v7zm4 0h-2V7h2v10zm4 0h-2v-4h2v4z\"/>\n",
              "    </g>\n",
              "</svg>\n",
              "  </button>\n",
              "\n",
              "<style>\n",
              "  .colab-df-quickchart {\n",
              "      --bg-color: #E8F0FE;\n",
              "      --fill-color: #1967D2;\n",
              "      --hover-bg-color: #E2EBFA;\n",
              "      --hover-fill-color: #174EA6;\n",
              "      --disabled-fill-color: #AAA;\n",
              "      --disabled-bg-color: #DDD;\n",
              "  }\n",
              "\n",
              "  [theme=dark] .colab-df-quickchart {\n",
              "      --bg-color: #3B4455;\n",
              "      --fill-color: #D2E3FC;\n",
              "      --hover-bg-color: #434B5C;\n",
              "      --hover-fill-color: #FFFFFF;\n",
              "      --disabled-bg-color: #3B4455;\n",
              "      --disabled-fill-color: #666;\n",
              "  }\n",
              "\n",
              "  .colab-df-quickchart {\n",
              "    background-color: var(--bg-color);\n",
              "    border: none;\n",
              "    border-radius: 50%;\n",
              "    cursor: pointer;\n",
              "    display: none;\n",
              "    fill: var(--fill-color);\n",
              "    height: 32px;\n",
              "    padding: 0;\n",
              "    width: 32px;\n",
              "  }\n",
              "\n",
              "  .colab-df-quickchart:hover {\n",
              "    background-color: var(--hover-bg-color);\n",
              "    box-shadow: 0 1px 2px rgba(60, 64, 67, 0.3), 0 1px 3px 1px rgba(60, 64, 67, 0.15);\n",
              "    fill: var(--button-hover-fill-color);\n",
              "  }\n",
              "\n",
              "  .colab-df-quickchart-complete:disabled,\n",
              "  .colab-df-quickchart-complete:disabled:hover {\n",
              "    background-color: var(--disabled-bg-color);\n",
              "    fill: var(--disabled-fill-color);\n",
              "    box-shadow: none;\n",
              "  }\n",
              "\n",
              "  .colab-df-spinner {\n",
              "    border: 2px solid var(--fill-color);\n",
              "    border-color: transparent;\n",
              "    border-bottom-color: var(--fill-color);\n",
              "    animation:\n",
              "      spin 1s steps(1) infinite;\n",
              "  }\n",
              "\n",
              "  @keyframes spin {\n",
              "    0% {\n",
              "      border-color: transparent;\n",
              "      border-bottom-color: var(--fill-color);\n",
              "      border-left-color: var(--fill-color);\n",
              "    }\n",
              "    20% {\n",
              "      border-color: transparent;\n",
              "      border-left-color: var(--fill-color);\n",
              "      border-top-color: var(--fill-color);\n",
              "    }\n",
              "    30% {\n",
              "      border-color: transparent;\n",
              "      border-left-color: var(--fill-color);\n",
              "      border-top-color: var(--fill-color);\n",
              "      border-right-color: var(--fill-color);\n",
              "    }\n",
              "    40% {\n",
              "      border-color: transparent;\n",
              "      border-right-color: var(--fill-color);\n",
              "      border-top-color: var(--fill-color);\n",
              "    }\n",
              "    60% {\n",
              "      border-color: transparent;\n",
              "      border-right-color: var(--fill-color);\n",
              "    }\n",
              "    80% {\n",
              "      border-color: transparent;\n",
              "      border-right-color: var(--fill-color);\n",
              "      border-bottom-color: var(--fill-color);\n",
              "    }\n",
              "    90% {\n",
              "      border-color: transparent;\n",
              "      border-bottom-color: var(--fill-color);\n",
              "    }\n",
              "  }\n",
              "</style>\n",
              "\n",
              "  <script>\n",
              "    async function quickchart(key) {\n",
              "      const quickchartButtonEl =\n",
              "        document.querySelector('#' + key + ' button');\n",
              "      quickchartButtonEl.disabled = true;  // To prevent multiple clicks.\n",
              "      quickchartButtonEl.classList.add('colab-df-spinner');\n",
              "      try {\n",
              "        const charts = await google.colab.kernel.invokeFunction(\n",
              "            'suggestCharts', [key], {});\n",
              "      } catch (error) {\n",
              "        console.error('Error during call to suggestCharts:', error);\n",
              "      }\n",
              "      quickchartButtonEl.classList.remove('colab-df-spinner');\n",
              "      quickchartButtonEl.classList.add('colab-df-quickchart-complete');\n",
              "    }\n",
              "    (() => {\n",
              "      let quickchartButtonEl =\n",
              "        document.querySelector('#df-2a8b71a9-de7e-45c3-9d8c-a3be0a017296 button');\n",
              "      quickchartButtonEl.style.display =\n",
              "        google.colab.kernel.accessAllowed ? 'block' : 'none';\n",
              "    })();\n",
              "  </script>\n",
              "</div>\n",
              "\n",
              "  <div id=\"id_d312200d-aeda-4511-987f-beb3a81f3257\">\n",
              "    <style>\n",
              "      .colab-df-generate {\n",
              "        background-color: #E8F0FE;\n",
              "        border: none;\n",
              "        border-radius: 50%;\n",
              "        cursor: pointer;\n",
              "        display: none;\n",
              "        fill: #1967D2;\n",
              "        height: 32px;\n",
              "        padding: 0 0 0 0;\n",
              "        width: 32px;\n",
              "      }\n",
              "\n",
              "      .colab-df-generate:hover {\n",
              "        background-color: #E2EBFA;\n",
              "        box-shadow: 0px 1px 2px rgba(60, 64, 67, 0.3), 0px 1px 3px 1px rgba(60, 64, 67, 0.15);\n",
              "        fill: #174EA6;\n",
              "      }\n",
              "\n",
              "      [theme=dark] .colab-df-generate {\n",
              "        background-color: #3B4455;\n",
              "        fill: #D2E3FC;\n",
              "      }\n",
              "\n",
              "      [theme=dark] .colab-df-generate:hover {\n",
              "        background-color: #434B5C;\n",
              "        box-shadow: 0px 1px 3px 1px rgba(0, 0, 0, 0.15);\n",
              "        filter: drop-shadow(0px 1px 2px rgba(0, 0, 0, 0.3));\n",
              "        fill: #FFFFFF;\n",
              "      }\n",
              "    </style>\n",
              "    <button class=\"colab-df-generate\" onclick=\"generateWithVariable('df')\"\n",
              "            title=\"Generate code using this dataframe.\"\n",
              "            style=\"display:none;\">\n",
              "\n",
              "  <svg xmlns=\"http://www.w3.org/2000/svg\" height=\"24px\"viewBox=\"0 0 24 24\"\n",
              "       width=\"24px\">\n",
              "    <path d=\"M7,19H8.4L18.45,9,17,7.55,7,17.6ZM5,21V16.75L18.45,3.32a2,2,0,0,1,2.83,0l1.4,1.43a1.91,1.91,0,0,1,.58,1.4,1.91,1.91,0,0,1-.58,1.4L9.25,21ZM18.45,9,17,7.55Zm-12,3A5.31,5.31,0,0,0,4.9,8.1,5.31,5.31,0,0,0,1,6.5,5.31,5.31,0,0,0,4.9,4.9,5.31,5.31,0,0,0,6.5,1,5.31,5.31,0,0,0,8.1,4.9,5.31,5.31,0,0,0,12,6.5,5.46,5.46,0,0,0,6.5,12Z\"/>\n",
              "  </svg>\n",
              "    </button>\n",
              "    <script>\n",
              "      (() => {\n",
              "      const buttonEl =\n",
              "        document.querySelector('#id_d312200d-aeda-4511-987f-beb3a81f3257 button.colab-df-generate');\n",
              "      buttonEl.style.display =\n",
              "        google.colab.kernel.accessAllowed ? 'block' : 'none';\n",
              "\n",
              "      buttonEl.onclick = () => {\n",
              "        google.colab.notebook.generateWithVariable('df');\n",
              "      }\n",
              "      })();\n",
              "    </script>\n",
              "  </div>\n",
              "\n",
              "    </div>\n",
              "  </div>\n"
            ],
            "application/vnd.google.colaboratory.intrinsic+json": {
              "type": "dataframe",
              "variable_name": "df",
              "summary": "{\n  \"name\": \"df\",\n  \"rows\": 100,\n  \"fields\": [\n    {\n      \"column\": \"review\",\n      \"properties\": {\n        \"dtype\": \"string\",\n        \"num_unique_values\": 100,\n        \"samples\": [\n          \"\\\"fate\\\" leads walter sparrow to come in possession of a mysterious novel that has eerie similarities and connections to his life, all based around the number 23. as the story unfolds in real life and fiction, sparrow must figure out his connection to the book and how the story will eventually end.<br /><br />the number 23 offers an intriguing premise that is undone by a weak execution. the film just failed on many different levels which is pretty disappointing because it held so much potential. the screenplay was probably the worst part about it. it was filled with silly sequences and laughable dialog that just killed the mood of the movie. it seemed like the screenwriter had a good idea, he just didn't know how to develop it to stretch over a ninety minute running time. the second half of the film was running low on ideas, the twist was pretty obvious and the ending was awful.<br /><br />joel schumacher is responsible for one of the worst movies ever and he did redeem himself a little with phone booth and a few other films but the number 23 reminds me that he's still capable of making a stinker. he has the movie drenched in style but he just can't get a good focus. he moves the film at a clunky and slow pace. he switches from reality to what's actually happening in the book which quickly got annoying. the actual book in the film that's titled \\\"the number 23\\\" is an awful detective story and the audience gets stuck listening to carrey narrate it which just bored me to tears. when carrey is finally done with book, we get stuck watching him run around trying to solve the mystery. at this point, the audience has lost interest and there is no real tension. we impatiently wait for the movie to reach it's horrible ending and unconvincing explanation before celebrating that film has finally finished.<br /><br />the acting was mostly average and pretty forgettable. jim carrey was clearly just sleepwalking through his performance and he didn't even seem to be trying. he was either completely over the top in some scenes or just very wooden. his narration was a complete bore to listen to and he put no life inside his character. virginia madsen did the best she could with a limited role but she needs to pick better scripts. logan lerman was pretty bland as was danny huston. overall, the number 23 was an awful thriller that offered more laughs than suspense or thrills. rating 3/10\",\n          \"i cannot believe i enjoyed this as much as i did. the anthology stories were better than par, but the linking story and its surprise ending hooked me. alot of familiar faces will keep you asking yourself \\\"where i have i seen them before?\\\" forget the running time listed on new line's tape, this ain't no 103 minutes, according to my vcr timer and imdb. space maggot douses the campfire in his own special way and hikes this an 8.\",\n          \"caddyshack two is a good movie by itself but compared to the original it cant stack up. robert stack is a horrible replacement for ted knight and jackie mason, while funny just cant compete with rodney dangerfield. ty webb is funny, being the only character from the original. most of the other characters in the movie lack the punch of the original (henry wilcoxon for example) except for the hystericly funny lawyer peter blunt, being played by randy quaid. every line he says reminds me of the originals humor, especially the scene at his office (i don't go in for law suits or motions. i find out where you live and come to your house and beat down your door with a f***ing baseball bat, make a bonfire with the chippindale,maybe roast that golden retriever (arff arff arff) then eat it. and then i'm comin' upstairs junior, and i'm grabbing you by your brooks brothers pjs, and cramming your brand new bmw up your tight a**! do we have an understanding?). offsetting his small role however, is dan acroyd, who is obviously no replacement for bill murray. his voice is beyond irritating and everything he does isnt even funny, its just stupid. overall caddyshack ii is a good movie, but in comparison to the awesome original it just cant cut it.\"\n        ],\n        \"semantic_type\": \"\",\n        \"description\": \"\"\n      }\n    },\n    {\n      \"column\": \"sentiment\",\n      \"properties\": {\n        \"dtype\": \"category\",\n        \"num_unique_values\": 2,\n        \"samples\": [\n          \"negative\",\n          \"positive\"\n        ],\n        \"semantic_type\": \"\",\n        \"description\": \"\"\n      }\n    }\n  ]\n}"
            }
          },
          "metadata": {},
          "execution_count": 19
        }
      ],
      "source": [
        "df"
      ]
    },
    {
      "cell_type": "code",
      "source": [
        "df['review'][3]"
      ],
      "metadata": {
        "colab": {
          "base_uri": "https://localhost:8080/",
          "height": 142
        },
        "id": "Qw-VymfykdQg",
        "outputId": "bdc91033-f36f-443a-8d61-74b9d05f2a7d"
      },
      "execution_count": 20,
      "outputs": [
        {
          "output_type": "execute_result",
          "data": {
            "text/plain": [
              "\"basically there's a family where a little boy (jake) thinks there's a zombie in his closet & his parents are fighting all the time.<br /><br />this movie is slower than a soap opera... and suddenly, jake decides to become rambo and kill the zombie.<br /><br />ok, first of all when you're going to make a film you must decide if its a thriller or a drama! as a drama the movie is watchable. parents are divorcing & arguing like in real life. and then we have jake with his closet which totally ruins all the film! i expected to see a boogeyman similar movie, and instead i watched a drama with some meaningless thriller spots.<br /><br />3 out of 10 just for the well playing parents & descent dialogs. as for the shots with jake: just ignore them.\""
            ],
            "application/vnd.google.colaboratory.intrinsic+json": {
              "type": "string"
            }
          },
          "metadata": {},
          "execution_count": 20
        }
      ]
    },
    {
      "cell_type": "markdown",
      "metadata": {
        "id": "q6PdP4pvfXJD"
      },
      "source": [
        "# remove_html_tags"
      ]
    },
    {
      "cell_type": "code",
      "execution_count": 21,
      "metadata": {
        "execution": {
          "iopub.execute_input": "2021-12-31T06:31:50.312485Z",
          "iopub.status.busy": "2021-12-31T06:31:50.311881Z",
          "iopub.status.idle": "2021-12-31T06:31:50.317355Z",
          "shell.execute_reply": "2021-12-31T06:31:50.316605Z",
          "shell.execute_reply.started": "2021-12-31T06:31:50.312441Z"
        },
        "id": "TJBPXPKffXJE"
      },
      "outputs": [],
      "source": [
        "import re\n",
        "def remove_html_tags(text):\n",
        "    pattern = re.compile('<.*?>')\n",
        "    return pattern.sub(r'', text)"
      ]
    },
    {
      "cell_type": "markdown",
      "source": [
        "# **note: let we create a text**"
      ],
      "metadata": {
        "id": "6V-f-DVAQb7n"
      }
    },
    {
      "cell_type": "code",
      "execution_count": 22,
      "metadata": {
        "execution": {
          "iopub.execute_input": "2021-12-31T06:31:51.213645Z",
          "iopub.status.busy": "2021-12-31T06:31:51.212983Z",
          "iopub.status.idle": "2021-12-31T06:31:51.217270Z",
          "shell.execute_reply": "2021-12-31T06:31:51.216678Z",
          "shell.execute_reply.started": "2021-12-31T06:31:51.213613Z"
        },
        "id": "ULnX84uNfXJE"
      },
      "outputs": [],
      "source": [
        "text = \"<html><body><p> Movie 1</p><p> Actor - Aamir Khan</p><p> Click here to <a href='http://google.com'>download</a></p></body></html>\""
      ]
    },
    {
      "cell_type": "code",
      "execution_count": 23,
      "metadata": {
        "execution": {
          "iopub.execute_input": "2021-12-31T06:31:52.830688Z",
          "iopub.status.busy": "2021-12-31T06:31:52.830402Z",
          "iopub.status.idle": "2021-12-31T06:31:52.836008Z",
          "shell.execute_reply": "2021-12-31T06:31:52.835403Z",
          "shell.execute_reply.started": "2021-12-31T06:31:52.830656Z"
        },
        "colab": {
          "base_uri": "https://localhost:8080/",
          "height": 55
        },
        "id": "qNvDbZB0fXJF",
        "outputId": "561e5f89-f2a0-4ae0-9541-56716a27d714"
      },
      "outputs": [
        {
          "output_type": "execute_result",
          "data": {
            "text/plain": [
              "' Movie 1 Actor - Aamir Khan Click here to download'"
            ],
            "application/vnd.google.colaboratory.intrinsic+json": {
              "type": "string"
            }
          },
          "metadata": {},
          "execution_count": 23
        }
      ],
      "source": [
        "remove_html_tags(text)"
      ]
    },
    {
      "cell_type": "code",
      "execution_count": 24,
      "metadata": {
        "execution": {
          "iopub.execute_input": "2021-12-31T06:31:56.044835Z",
          "iopub.status.busy": "2021-12-31T06:31:56.044290Z",
          "iopub.status.idle": "2021-12-31T06:31:56.261722Z",
          "shell.execute_reply": "2021-12-31T06:31:56.260834Z",
          "shell.execute_reply.started": "2021-12-31T06:31:56.044797Z"
        },
        "id": "yC7UIrYBfXJF"
      },
      "outputs": [],
      "source": [
        "df['review'] = df['review'].apply(remove_html_tags)"
      ]
    },
    {
      "cell_type": "code",
      "execution_count": 25,
      "metadata": {
        "execution": {
          "iopub.execute_input": "2021-12-31T06:31:57.128227Z",
          "iopub.status.busy": "2021-12-31T06:31:57.127915Z",
          "iopub.status.idle": "2021-12-31T06:31:57.135752Z",
          "shell.execute_reply": "2021-12-31T06:31:57.134890Z",
          "shell.execute_reply.started": "2021-12-31T06:31:57.128194Z"
        },
        "colab": {
          "base_uri": "https://localhost:8080/",
          "height": 124
        },
        "id": "8dC4Wn-CfXJG",
        "outputId": "794585ca-6243-4623-98b1-8fdf83452d67"
      },
      "outputs": [
        {
          "output_type": "execute_result",
          "data": {
            "text/plain": [
              "'probably my all-time favorite movie, a story of selflessness, sacrifice and dedication to a noble cause, but it\\'s not preachy or boring. it just never gets old, despite my having seen it some 15 or more times in the last 25 years. paul lukas\\' performance brings tears to my eyes, and bette davis, in one of her very few truly sympathetic roles, is a delight. the kids are, as grandma says, more like \"dressed-up midgets\" than children, but that only makes them more fun to watch. and the mother\\'s slow awakening to what\\'s happening in the world and under her own roof is believable and startling. if i had a dozen thumbs, they\\'d all be \"up\" for this movie.'"
            ],
            "application/vnd.google.colaboratory.intrinsic+json": {
              "type": "string"
            }
          },
          "metadata": {},
          "execution_count": 25
        }
      ],
      "source": [
        "df['review'][5]"
      ]
    },
    {
      "cell_type": "markdown",
      "metadata": {
        "id": "UdMkoipYfXJG"
      },
      "source": [
        "# remove_url"
      ]
    },
    {
      "cell_type": "code",
      "execution_count": 26,
      "metadata": {
        "execution": {
          "iopub.execute_input": "2021-12-31T06:31:59.535009Z",
          "iopub.status.busy": "2021-12-31T06:31:59.534577Z",
          "iopub.status.idle": "2021-12-31T06:31:59.538828Z",
          "shell.execute_reply": "2021-12-31T06:31:59.537932Z",
          "shell.execute_reply.started": "2021-12-31T06:31:59.534968Z"
        },
        "id": "3BmkkiKWfXJG"
      },
      "outputs": [],
      "source": [
        "def remove_url(text):\n",
        "    pattern = re.compile(r'https?://\\S+|www\\.\\S+')\n",
        "    return pattern.sub(r'', text)"
      ]
    },
    {
      "cell_type": "markdown",
      "source": [
        "# **note:2 let create a URL text**"
      ],
      "metadata": {
        "id": "CcJIrF5rQ9mK"
      }
    },
    {
      "cell_type": "code",
      "execution_count": 27,
      "metadata": {
        "execution": {
          "iopub.execute_input": "2021-12-31T06:32:01.777326Z",
          "iopub.status.busy": "2021-12-31T06:32:01.776896Z",
          "iopub.status.idle": "2021-12-31T06:32:01.782039Z",
          "shell.execute_reply": "2021-12-31T06:32:01.781169Z",
          "shell.execute_reply.started": "2021-12-31T06:32:01.777289Z"
        },
        "id": "M2qrlgUVfXJH"
      },
      "outputs": [],
      "source": [
        "text1 = 'Check out my youtube https://www.youtube.com/dswithbappy dswithbappy'\n",
        "text2 = 'Check out my linkedin https://www.linkedin.com/in/boktiarahmed73/'\n",
        "text3 = 'Google search here www.google.com'\n",
        "text4 = 'For data click https://www.kaggle.com/'"
      ]
    },
    {
      "cell_type": "code",
      "execution_count": 28,
      "metadata": {
        "execution": {
          "iopub.execute_input": "2021-12-31T06:32:13.347025Z",
          "iopub.status.busy": "2021-12-31T06:32:13.346432Z",
          "iopub.status.idle": "2021-12-31T06:32:13.352108Z",
          "shell.execute_reply": "2021-12-31T06:32:13.351556Z",
          "shell.execute_reply.started": "2021-12-31T06:32:13.346979Z"
        },
        "colab": {
          "base_uri": "https://localhost:8080/",
          "height": 55
        },
        "id": "o3wQdDYGfXJI",
        "outputId": "18e64f55-25fc-4aae-e359-5cc5f958337a"
      },
      "outputs": [
        {
          "output_type": "execute_result",
          "data": {
            "text/plain": [
              "'Check out my linkedin '"
            ],
            "application/vnd.google.colaboratory.intrinsic+json": {
              "type": "string"
            }
          },
          "metadata": {},
          "execution_count": 28
        }
      ],
      "source": [
        "remove_url(text2)"
      ]
    },
    {
      "cell_type": "markdown",
      "metadata": {
        "id": "NxXTlMd-fXJI"
      },
      "source": [
        "# punctuation handling"
      ]
    },
    {
      "cell_type": "code",
      "execution_count": 36,
      "metadata": {
        "execution": {
          "iopub.execute_input": "2021-12-31T06:32:15.220391Z",
          "iopub.status.busy": "2021-12-31T06:32:15.219430Z",
          "iopub.status.idle": "2021-12-31T06:32:15.226608Z",
          "shell.execute_reply": "2021-12-31T06:32:15.225774Z",
          "shell.execute_reply.started": "2021-12-31T06:32:15.220317Z"
        },
        "colab": {
          "base_uri": "https://localhost:8080/",
          "height": 55
        },
        "id": "9PqZWxf9fXJJ",
        "outputId": "280d8f91-ec44-4894-81cd-258bbbfd26ea"
      },
      "outputs": [
        {
          "output_type": "execute_result",
          "data": {
            "text/plain": [
              "'!\"#$%&\\'()*+,-./:;<=>?@[\\\\]^_`{|}~'"
            ],
            "application/vnd.google.colaboratory.intrinsic+json": {
              "type": "string"
            }
          },
          "metadata": {},
          "execution_count": 36
        }
      ],
      "source": [
        "import string,time\n",
        "string.punctuation"
      ]
    },
    {
      "cell_type": "code",
      "execution_count": 32,
      "metadata": {
        "execution": {
          "iopub.execute_input": "2021-12-31T06:32:17.479876Z",
          "iopub.status.busy": "2021-12-31T06:32:17.479110Z",
          "iopub.status.idle": "2021-12-31T06:32:17.482866Z",
          "shell.execute_reply": "2021-12-31T06:32:17.482313Z",
          "shell.execute_reply.started": "2021-12-31T06:32:17.479840Z"
        },
        "id": "HeyKLJu_fXJJ",
        "colab": {
          "base_uri": "https://localhost:8080/",
          "height": 55
        },
        "outputId": "73a113ef-171b-4a6c-8a56-2c4f4efdfcd6"
      },
      "outputs": [
        {
          "output_type": "execute_result",
          "data": {
            "text/plain": [
              "'!\"#$%&\\'()*+,-./:;<=>?@[\\\\]^_`{|}~'"
            ],
            "application/vnd.google.colaboratory.intrinsic+json": {
              "type": "string"
            }
          },
          "metadata": {},
          "execution_count": 32
        }
      ],
      "source": [
        "exclude = string.punctuation\n",
        "exclude"
      ]
    },
    {
      "cell_type": "code",
      "execution_count": 37,
      "metadata": {
        "execution": {
          "iopub.execute_input": "2021-12-31T06:32:55.078670Z",
          "iopub.status.busy": "2021-12-31T06:32:55.078307Z",
          "iopub.status.idle": "2021-12-31T06:32:55.083271Z",
          "shell.execute_reply": "2021-12-31T06:32:55.082403Z",
          "shell.execute_reply.started": "2021-12-31T06:32:55.078636Z"
        },
        "id": "KkB59_vLfXJK"
      },
      "outputs": [],
      "source": [
        "def remove_punc(text):\n",
        "    for char in exclude:\n",
        "        text = text.replace(char,'')\n",
        "    return text\n"
      ]
    },
    {
      "cell_type": "code",
      "execution_count": 38,
      "metadata": {
        "execution": {
          "iopub.execute_input": "2021-12-31T06:33:45.243742Z",
          "iopub.status.busy": "2021-12-31T06:33:45.243469Z",
          "iopub.status.idle": "2021-12-31T06:33:45.247986Z",
          "shell.execute_reply": "2021-12-31T06:33:45.247407Z",
          "shell.execute_reply.started": "2021-12-31T06:33:45.243713Z"
        },
        "id": "Xc5SxdEhfXJK"
      },
      "outputs": [],
      "source": [
        "text = 'string. With. Punctuation?'"
      ]
    },
    {
      "cell_type": "code",
      "execution_count": 40,
      "metadata": {
        "execution": {
          "iopub.execute_input": "2021-12-08T11:47:24.652052Z",
          "iopub.status.busy": "2021-12-08T11:47:24.651733Z",
          "iopub.status.idle": "2021-12-08T11:47:24.658283Z",
          "shell.execute_reply": "2021-12-08T11:47:24.65749Z",
          "shell.execute_reply.started": "2021-12-08T11:47:24.652024Z"
        },
        "colab": {
          "base_uri": "https://localhost:8080/"
        },
        "id": "UhFUBAhxfXJK",
        "outputId": "a9dfb678-9252-4071-aeb4-ec7712a5c443"
      },
      "outputs": [
        {
          "output_type": "stream",
          "name": "stdout",
          "text": [
            "string With Punctuation\n",
            "31.01825714111328\n"
          ]
        }
      ],
      "source": [
        "start = time.time()\n",
        "print(remove_punc(text))\n",
        "time1 = time.time() - start\n",
        "print(time1*50000)"
      ]
    },
    {
      "cell_type": "markdown",
      "source": [
        "# **Another approach to remove the punctuation**"
      ],
      "metadata": {
        "id": "UtLi2uZQSgNv"
      }
    },
    {
      "cell_type": "code",
      "execution_count": 41,
      "metadata": {
        "execution": {
          "iopub.execute_input": "2021-12-31T06:35:41.647925Z",
          "iopub.status.busy": "2021-12-31T06:35:41.647652Z",
          "iopub.status.idle": "2021-12-31T06:35:41.652722Z",
          "shell.execute_reply": "2021-12-31T06:35:41.651839Z",
          "shell.execute_reply.started": "2021-12-31T06:35:41.647898Z"
        },
        "id": "mig_Sd1zfXJL"
      },
      "outputs": [],
      "source": [
        "def remove_punc1(text):\n",
        "    return text.translate(str.maketrans('', '', exclude))"
      ]
    },
    {
      "cell_type": "code",
      "execution_count": 42,
      "metadata": {
        "execution": {
          "iopub.execute_input": "2021-12-31T06:35:44.574532Z",
          "iopub.status.busy": "2021-12-31T06:35:44.574025Z",
          "iopub.status.idle": "2021-12-31T06:35:44.579559Z",
          "shell.execute_reply": "2021-12-31T06:35:44.578868Z",
          "shell.execute_reply.started": "2021-12-31T06:35:44.574499Z"
        },
        "colab": {
          "base_uri": "https://localhost:8080/"
        },
        "id": "DPUZ5MmSfXJL",
        "outputId": "3a975999-ce48-4cc7-a611-eab13463ecb1"
      },
      "outputs": [
        {
          "output_type": "stream",
          "name": "stdout",
          "text": [
            "7.319450378417969\n"
          ]
        }
      ],
      "source": [
        "start = time.time()\n",
        "remove_punc1(text)\n",
        "time2 = time.time() - start\n",
        "print(time2*50000)"
      ]
    },
    {
      "cell_type": "code",
      "execution_count": 43,
      "metadata": {
        "execution": {
          "iopub.execute_input": "2021-12-31T06:35:50.343180Z",
          "iopub.status.busy": "2021-12-31T06:35:50.342776Z",
          "iopub.status.idle": "2021-12-31T06:35:50.411964Z",
          "shell.execute_reply": "2021-12-31T06:35:50.410707Z",
          "shell.execute_reply.started": "2021-12-31T06:35:50.343149Z"
        },
        "colab": {
          "base_uri": "https://localhost:8080/"
        },
        "id": "rxmeooiwfXJL",
        "outputId": "17837a02-ce2e-4e16-c04f-76f36061f624"
      },
      "outputs": [
        {
          "output_type": "execute_result",
          "data": {
            "text/plain": [
              "4.237785016286645"
            ]
          },
          "metadata": {},
          "execution_count": 43
        }
      ],
      "source": [
        "time1/time2"
      ]
    },
    {
      "cell_type": "code",
      "execution_count": 44,
      "metadata": {
        "execution": {
          "iopub.execute_input": "2021-12-31T06:36:00.861965Z",
          "iopub.status.busy": "2021-12-31T06:36:00.861687Z",
          "iopub.status.idle": "2021-12-31T06:36:00.867746Z",
          "shell.execute_reply": "2021-12-31T06:36:00.867162Z",
          "shell.execute_reply.started": "2021-12-31T06:36:00.861937Z"
        },
        "colab": {
          "base_uri": "https://localhost:8080/",
          "height": 124
        },
        "id": "T-eMG-S5fXJM",
        "outputId": "f0688d4d-4101-4117-d3ba-c40f96d1825f"
      },
      "outputs": [
        {
          "output_type": "execute_result",
          "data": {
            "text/plain": [
              "'probably my all-time favorite movie, a story of selflessness, sacrifice and dedication to a noble cause, but it\\'s not preachy or boring. it just never gets old, despite my having seen it some 15 or more times in the last 25 years. paul lukas\\' performance brings tears to my eyes, and bette davis, in one of her very few truly sympathetic roles, is a delight. the kids are, as grandma says, more like \"dressed-up midgets\" than children, but that only makes them more fun to watch. and the mother\\'s slow awakening to what\\'s happening in the world and under her own roof is believable and startling. if i had a dozen thumbs, they\\'d all be \"up\" for this movie.'"
            ],
            "application/vnd.google.colaboratory.intrinsic+json": {
              "type": "string"
            }
          },
          "metadata": {},
          "execution_count": 44
        }
      ],
      "source": [
        "df['review'][5]"
      ]
    },
    {
      "cell_type": "code",
      "execution_count": 45,
      "metadata": {
        "execution": {
          "iopub.execute_input": "2021-12-31T06:36:15.841878Z",
          "iopub.status.busy": "2021-12-31T06:36:15.841151Z",
          "iopub.status.idle": "2021-12-31T06:36:15.847766Z",
          "shell.execute_reply": "2021-12-31T06:36:15.847100Z",
          "shell.execute_reply.started": "2021-12-31T06:36:15.841838Z"
        },
        "id": "y1378-1cfXJM",
        "colab": {
          "base_uri": "https://localhost:8080/",
          "height": 124
        },
        "outputId": "9d32074f-c792-4e17-e4e9-70f7ec5d4fbc"
      },
      "outputs": [
        {
          "output_type": "execute_result",
          "data": {
            "text/plain": [
              "'probably my alltime favorite movie a story of selflessness sacrifice and dedication to a noble cause but its not preachy or boring it just never gets old despite my having seen it some 15 or more times in the last 25 years paul lukas performance brings tears to my eyes and bette davis in one of her very few truly sympathetic roles is a delight the kids are as grandma says more like dressedup midgets than children but that only makes them more fun to watch and the mothers slow awakening to whats happening in the world and under her own roof is believable and startling if i had a dozen thumbs theyd all be up for this movie'"
            ],
            "application/vnd.google.colaboratory.intrinsic+json": {
              "type": "string"
            }
          },
          "metadata": {},
          "execution_count": 45
        }
      ],
      "source": [
        "remove_punc1(df['review'][5])"
      ]
    },
    {
      "cell_type": "markdown",
      "metadata": {
        "id": "5SBlyRsrfXJM"
      },
      "source": [
        "# chat_conversion handle"
      ]
    },
    {
      "cell_type": "code",
      "execution_count": 46,
      "metadata": {
        "execution": {
          "iopub.execute_input": "2021-12-31T06:36:22.728415Z",
          "iopub.status.busy": "2021-12-31T06:36:22.727766Z",
          "iopub.status.idle": "2021-12-31T06:36:22.743070Z",
          "shell.execute_reply": "2021-12-31T06:36:22.742046Z",
          "shell.execute_reply.started": "2021-12-31T06:36:22.728375Z"
        },
        "id": "nXzadIiQfXJM",
        "colab": {
          "base_uri": "https://localhost:8080/"
        },
        "outputId": "630c6ef5-759d-4897-d951-965ee4e2dee3"
      },
      "outputs": [
        {
          "output_type": "execute_result",
          "data": {
            "text/plain": [
              "{'FYI': 'For Your Information',\n",
              " 'ASAP': 'As Soon As Possible',\n",
              " 'BRB': 'Be Right Back',\n",
              " 'BTW': 'By The Way',\n",
              " 'OMG': 'Oh My God',\n",
              " 'IMO': 'In My Opinion',\n",
              " 'LOL': 'Laugh Out Loud',\n",
              " 'TTYL': 'Talk To You Later',\n",
              " 'GTG': 'Got To Go',\n",
              " 'TTYT': 'Talk To You Tomorrow',\n",
              " 'IDK': \"I Don't Know\",\n",
              " 'TMI': 'Too Much Information',\n",
              " 'IMHO': 'In My Humble Opinion',\n",
              " 'ICYMI': 'In Case You Missed It',\n",
              " 'AFAIK': 'As Far As I Know',\n",
              " 'FAQ': 'Frequently Asked Questions',\n",
              " 'TGIF': \"Thank God It's Friday\",\n",
              " 'FYA': 'For Your Action'}"
            ]
          },
          "metadata": {},
          "execution_count": 46
        }
      ],
      "source": [
        "chat_words = {\n",
        "    'AFAIK':'As Far As I Know',\n",
        "    'AFK':'Away From Keyboard',\n",
        "    'ASAP':'As Soon As Possible'\n",
        "}\n",
        "\n",
        "\n",
        "{\n",
        "    \"FYI\": \"For Your Information\",\n",
        "    \"ASAP\": \"As Soon As Possible\",\n",
        "    \"BRB\": \"Be Right Back\",\n",
        "    \"BTW\": \"By The Way\",\n",
        "    \"OMG\": \"Oh My God\",\n",
        "    \"IMO\": \"In My Opinion\",\n",
        "    \"LOL\": \"Laugh Out Loud\",\n",
        "    \"TTYL\": \"Talk To You Later\",\n",
        "    \"GTG\": \"Got To Go\",\n",
        "    \"TTYT\": \"Talk To You Tomorrow\",\n",
        "    \"IDK\": \"I Don't Know\",\n",
        "    \"TMI\": \"Too Much Information\",\n",
        "    \"IMHO\": \"In My Humble Opinion\",\n",
        "    \"ICYMI\": \"In Case You Missed It\",\n",
        "    \"AFAIK\": \"As Far As I Know\",\n",
        "    \"BTW\": \"By The Way\",\n",
        "    \"FAQ\": \"Frequently Asked Questions\",\n",
        "    \"TGIF\": \"Thank God It's Friday\",\n",
        "    \"FYA\": \"For Your Action\",\n",
        "    \"ICYMI\": \"In Case You Missed It\",\n",
        "}\n"
      ]
    },
    {
      "cell_type": "code",
      "execution_count": 47,
      "metadata": {
        "execution": {
          "iopub.execute_input": "2021-12-31T06:37:18.994223Z",
          "iopub.status.busy": "2021-12-31T06:37:18.993886Z",
          "iopub.status.idle": "2021-12-31T06:37:19.000183Z",
          "shell.execute_reply": "2021-12-31T06:37:18.999265Z",
          "shell.execute_reply.started": "2021-12-31T06:37:18.994189Z"
        },
        "id": "OLgR54U8fXJN"
      },
      "outputs": [],
      "source": [
        "def chat_conversion(text):\n",
        "    new_text = []\n",
        "    for w in text.split():\n",
        "        if w.upper() in chat_words:\n",
        "            new_text.append(chat_words[w.upper()])\n",
        "        else:\n",
        "            new_text.append(w)\n",
        "    return \" \".join(new_text)"
      ]
    },
    {
      "cell_type": "markdown",
      "source": [
        "## **note:3 create a own text for chat_conversion**"
      ],
      "metadata": {
        "id": "i_3GMulDUDpi"
      }
    },
    {
      "cell_type": "code",
      "execution_count": 48,
      "metadata": {
        "execution": {
          "iopub.execute_input": "2021-12-31T06:37:24.999985Z",
          "iopub.status.busy": "2021-12-31T06:37:24.999695Z",
          "iopub.status.idle": "2021-12-31T06:37:25.024673Z",
          "shell.execute_reply": "2021-12-31T06:37:25.023427Z",
          "shell.execute_reply.started": "2021-12-31T06:37:24.999952Z"
        },
        "colab": {
          "base_uri": "https://localhost:8080/",
          "height": 55
        },
        "id": "sXQpRJjufXJN",
        "outputId": "165df271-a528-4c53-f751-8f6d1fc0a5d2"
      },
      "outputs": [
        {
          "output_type": "execute_result",
          "data": {
            "text/plain": [
              "'Do this work As Soon As Possible'"
            ],
            "application/vnd.google.colaboratory.intrinsic+json": {
              "type": "string"
            }
          },
          "metadata": {},
          "execution_count": 48
        }
      ],
      "source": [
        "chat_conversion('Do this work ASAP')"
      ]
    },
    {
      "cell_type": "markdown",
      "metadata": {
        "id": "8eP5rC1dfXJN"
      },
      "source": [
        "# incorrect_text handling"
      ]
    },
    {
      "cell_type": "code",
      "execution_count": 49,
      "metadata": {
        "execution": {
          "iopub.execute_input": "2021-12-31T06:37:38.717551Z",
          "iopub.status.busy": "2021-12-31T06:37:38.717223Z",
          "iopub.status.idle": "2021-12-31T06:37:40.330551Z",
          "shell.execute_reply": "2021-12-31T06:37:40.329692Z",
          "shell.execute_reply.started": "2021-12-31T06:37:38.717517Z"
        },
        "id": "tvF49XU6fXJO"
      },
      "outputs": [],
      "source": [
        "from textblob import TextBlob"
      ]
    },
    {
      "cell_type": "code",
      "execution_count": 51,
      "metadata": {
        "execution": {
          "iopub.execute_input": "2021-12-31T06:37:50.015862Z",
          "iopub.status.busy": "2021-12-31T06:37:50.015545Z",
          "iopub.status.idle": "2021-12-31T06:37:50.104071Z",
          "shell.execute_reply": "2021-12-31T06:37:50.103445Z",
          "shell.execute_reply.started": "2021-12-31T06:37:50.015829Z"
        },
        "colab": {
          "base_uri": "https://localhost:8080/",
          "height": 55
        },
        "id": "ytlFIBi5fXJO",
        "outputId": "7ed03310-dace-4011-df30-fa70478facbd"
      },
      "outputs": [
        {
          "output_type": "execute_result",
          "data": {
            "text/plain": [
              "'certain conditions during several generations are modified in the same manner.'"
            ],
            "application/vnd.google.colaboratory.intrinsic+json": {
              "type": "string"
            }
          },
          "metadata": {},
          "execution_count": 51
        }
      ],
      "source": [
        "from typing import AnyStr\n",
        "\n",
        "incorrect_text = 'ceertain conditionas duriing seveal ggenerations aree moodified in the saame maner.'\n",
        "\n",
        "ans = TextBlob(incorrect_text)\n",
        "\n",
        "ans.correct().string"
      ]
    },
    {
      "cell_type": "markdown",
      "metadata": {
        "id": "WITVhvMnfXJO"
      },
      "source": [
        "# stopwords"
      ]
    },
    {
      "cell_type": "code",
      "execution_count": 52,
      "metadata": {
        "execution": {
          "iopub.execute_input": "2021-12-31T06:38:05.959259Z",
          "iopub.status.busy": "2021-12-31T06:38:05.958488Z",
          "iopub.status.idle": "2021-12-31T06:38:05.963636Z",
          "shell.execute_reply": "2021-12-31T06:38:05.962600Z",
          "shell.execute_reply.started": "2021-12-31T06:38:05.959220Z"
        },
        "colab": {
          "base_uri": "https://localhost:8080/"
        },
        "id": "n-2O4IPafXJO",
        "outputId": "4ba32612-ce72-41fd-8da0-11194f51a28f"
      },
      "outputs": [
        {
          "output_type": "stream",
          "name": "stderr",
          "text": [
            "[nltk_data] Downloading package stopwords to /root/nltk_data...\n",
            "[nltk_data]   Unzipping corpora/stopwords.zip.\n"
          ]
        },
        {
          "output_type": "execute_result",
          "data": {
            "text/plain": [
              "True"
            ]
          },
          "metadata": {},
          "execution_count": 52
        }
      ],
      "source": [
        "from nltk.corpus import stopwords\n",
        "import nltk\n",
        "nltk.download('stopwords')"
      ]
    },
    {
      "cell_type": "code",
      "execution_count": 53,
      "metadata": {
        "execution": {
          "iopub.execute_input": "2021-12-31T06:38:12.662952Z",
          "iopub.status.busy": "2021-12-31T06:38:12.662315Z",
          "iopub.status.idle": "2021-12-31T06:38:12.676818Z",
          "shell.execute_reply": "2021-12-31T06:38:12.675895Z",
          "shell.execute_reply.started": "2021-12-31T06:38:12.662905Z"
        },
        "colab": {
          "base_uri": "https://localhost:8080/"
        },
        "id": "5cF8S-1QfXJP",
        "outputId": "86d448e7-f345-4bb3-e0f1-d680475af49a"
      },
      "outputs": [
        {
          "output_type": "execute_result",
          "data": {
            "text/plain": [
              "['i',\n",
              " 'me',\n",
              " 'my',\n",
              " 'myself',\n",
              " 'we',\n",
              " 'our',\n",
              " 'ours',\n",
              " 'ourselves',\n",
              " 'you',\n",
              " \"you're\",\n",
              " \"you've\",\n",
              " \"you'll\",\n",
              " \"you'd\",\n",
              " 'your',\n",
              " 'yours',\n",
              " 'yourself',\n",
              " 'yourselves',\n",
              " 'he',\n",
              " 'him',\n",
              " 'his',\n",
              " 'himself',\n",
              " 'she',\n",
              " \"she's\",\n",
              " 'her',\n",
              " 'hers',\n",
              " 'herself',\n",
              " 'it',\n",
              " \"it's\",\n",
              " 'its',\n",
              " 'itself',\n",
              " 'they',\n",
              " 'them',\n",
              " 'their',\n",
              " 'theirs',\n",
              " 'themselves',\n",
              " 'what',\n",
              " 'which',\n",
              " 'who',\n",
              " 'whom',\n",
              " 'this',\n",
              " 'that',\n",
              " \"that'll\",\n",
              " 'these',\n",
              " 'those',\n",
              " 'am',\n",
              " 'is',\n",
              " 'are',\n",
              " 'was',\n",
              " 'were',\n",
              " 'be',\n",
              " 'been',\n",
              " 'being',\n",
              " 'have',\n",
              " 'has',\n",
              " 'had',\n",
              " 'having',\n",
              " 'do',\n",
              " 'does',\n",
              " 'did',\n",
              " 'doing',\n",
              " 'a',\n",
              " 'an',\n",
              " 'the',\n",
              " 'and',\n",
              " 'but',\n",
              " 'if',\n",
              " 'or',\n",
              " 'because',\n",
              " 'as',\n",
              " 'until',\n",
              " 'while',\n",
              " 'of',\n",
              " 'at',\n",
              " 'by',\n",
              " 'for',\n",
              " 'with',\n",
              " 'about',\n",
              " 'against',\n",
              " 'between',\n",
              " 'into',\n",
              " 'through',\n",
              " 'during',\n",
              " 'before',\n",
              " 'after',\n",
              " 'above',\n",
              " 'below',\n",
              " 'to',\n",
              " 'from',\n",
              " 'up',\n",
              " 'down',\n",
              " 'in',\n",
              " 'out',\n",
              " 'on',\n",
              " 'off',\n",
              " 'over',\n",
              " 'under',\n",
              " 'again',\n",
              " 'further',\n",
              " 'then',\n",
              " 'once',\n",
              " 'here',\n",
              " 'there',\n",
              " 'when',\n",
              " 'where',\n",
              " 'why',\n",
              " 'how',\n",
              " 'all',\n",
              " 'any',\n",
              " 'both',\n",
              " 'each',\n",
              " 'few',\n",
              " 'more',\n",
              " 'most',\n",
              " 'other',\n",
              " 'some',\n",
              " 'such',\n",
              " 'no',\n",
              " 'nor',\n",
              " 'not',\n",
              " 'only',\n",
              " 'own',\n",
              " 'same',\n",
              " 'so',\n",
              " 'than',\n",
              " 'too',\n",
              " 'very',\n",
              " 's',\n",
              " 't',\n",
              " 'can',\n",
              " 'will',\n",
              " 'just',\n",
              " 'don',\n",
              " \"don't\",\n",
              " 'should',\n",
              " \"should've\",\n",
              " 'now',\n",
              " 'd',\n",
              " 'll',\n",
              " 'm',\n",
              " 'o',\n",
              " 're',\n",
              " 've',\n",
              " 'y',\n",
              " 'ain',\n",
              " 'aren',\n",
              " \"aren't\",\n",
              " 'couldn',\n",
              " \"couldn't\",\n",
              " 'didn',\n",
              " \"didn't\",\n",
              " 'doesn',\n",
              " \"doesn't\",\n",
              " 'hadn',\n",
              " \"hadn't\",\n",
              " 'hasn',\n",
              " \"hasn't\",\n",
              " 'haven',\n",
              " \"haven't\",\n",
              " 'isn',\n",
              " \"isn't\",\n",
              " 'ma',\n",
              " 'mightn',\n",
              " \"mightn't\",\n",
              " 'mustn',\n",
              " \"mustn't\",\n",
              " 'needn',\n",
              " \"needn't\",\n",
              " 'shan',\n",
              " \"shan't\",\n",
              " 'shouldn',\n",
              " \"shouldn't\",\n",
              " 'wasn',\n",
              " \"wasn't\",\n",
              " 'weren',\n",
              " \"weren't\",\n",
              " 'won',\n",
              " \"won't\",\n",
              " 'wouldn',\n",
              " \"wouldn't\"]"
            ]
          },
          "metadata": {},
          "execution_count": 53
        }
      ],
      "source": [
        "stopwords.words('english')"
      ]
    },
    {
      "cell_type": "code",
      "source": [
        "len(stopwords.words('english'))"
      ],
      "metadata": {
        "colab": {
          "base_uri": "https://localhost:8080/"
        },
        "id": "h_9njCnCqeW7",
        "outputId": "2ece13ec-4480-4e2f-e089-b26767f133c9"
      },
      "execution_count": 54,
      "outputs": [
        {
          "output_type": "execute_result",
          "data": {
            "text/plain": [
              "179"
            ]
          },
          "metadata": {},
          "execution_count": 54
        }
      ]
    },
    {
      "cell_type": "code",
      "execution_count": 55,
      "metadata": {
        "execution": {
          "iopub.execute_input": "2021-12-31T06:38:56.165757Z",
          "iopub.status.busy": "2021-12-31T06:38:56.165121Z",
          "iopub.status.idle": "2021-12-31T06:38:56.171381Z",
          "shell.execute_reply": "2021-12-31T06:38:56.170444Z",
          "shell.execute_reply.started": "2021-12-31T06:38:56.165715Z"
        },
        "id": "C6FQ_crxfXJP"
      },
      "outputs": [],
      "source": [
        "def remove_stopwords(text):\n",
        "    new_text = []\n",
        "\n",
        "    for word in text.split():\n",
        "        if word in stopwords.words('english'):\n",
        "            new_text.append('')\n",
        "        else:\n",
        "            new_text.append(word)\n",
        "    x = new_text[:]\n",
        "    new_text.clear()\n",
        "    return \" \".join(x)"
      ]
    },
    {
      "cell_type": "markdown",
      "source": [
        "**note:4 create your own text**"
      ],
      "metadata": {
        "id": "35nU1FCdWa24"
      }
    },
    {
      "cell_type": "code",
      "execution_count": 56,
      "metadata": {
        "execution": {
          "iopub.execute_input": "2021-12-31T06:39:01.303753Z",
          "iopub.status.busy": "2021-12-31T06:39:01.302916Z",
          "iopub.status.idle": "2021-12-31T06:39:01.315515Z",
          "shell.execute_reply": "2021-12-31T06:39:01.314610Z",
          "shell.execute_reply.started": "2021-12-31T06:39:01.303713Z"
        },
        "colab": {
          "base_uri": "https://localhost:8080/",
          "height": 72
        },
        "id": "6ToJ1uqBfXJP",
        "outputId": "fb724ef9-0a81-48a9-9c1e-21dd1527bfa7"
      },
      "outputs": [
        {
          "output_type": "execute_result",
          "data": {
            "text/plain": [
              "'probably  all-time favorite movie,  story  selflessness, sacrifice  dedication   noble cause,    preachy  boring.   never gets old, despite   seen   15   times'"
            ],
            "application/vnd.google.colaboratory.intrinsic+json": {
              "type": "string"
            }
          },
          "metadata": {},
          "execution_count": 56
        }
      ],
      "source": [
        "remove_stopwords('probably my all-time favorite movie, a story of selflessness, sacrifice and dedication to a noble cause, but it\\'s not preachy or boring. it just never gets old, despite my having seen it some 15 or more times')"
      ]
    },
    {
      "cell_type": "code",
      "execution_count": 57,
      "metadata": {
        "execution": {
          "iopub.execute_input": "2021-12-31T06:39:05.677615Z",
          "iopub.status.busy": "2021-12-31T06:39:05.677024Z",
          "iopub.status.idle": "2021-12-31T06:39:05.688124Z",
          "shell.execute_reply": "2021-12-31T06:39:05.687181Z",
          "shell.execute_reply.started": "2021-12-31T06:39:05.677575Z"
        },
        "colab": {
          "base_uri": "https://localhost:8080/",
          "height": 226
        },
        "id": "Sv9S5wuGfXJQ",
        "outputId": "ea887590-f861-4bf8-c67a-ea7708eb0164"
      },
      "outputs": [
        {
          "output_type": "execute_result",
          "data": {
            "text/plain": [
              "                                              review sentiment\n",
              "0  one of the other reviewers has mentioned that ...  positive\n",
              "1  a wonderful little production. the filming tec...  positive\n",
              "2  i thought this was a wonderful way to spend ti...  positive\n",
              "3  basically there's a family where a little boy ...  negative\n",
              "4  petter mattei's \"love in the time of money\" is...  positive"
            ],
            "text/html": [
              "\n",
              "  <div id=\"df-4a7f739b-31d8-42c3-8079-7524fe4fc3fd\" class=\"colab-df-container\">\n",
              "    <div>\n",
              "<style scoped>\n",
              "    .dataframe tbody tr th:only-of-type {\n",
              "        vertical-align: middle;\n",
              "    }\n",
              "\n",
              "    .dataframe tbody tr th {\n",
              "        vertical-align: top;\n",
              "    }\n",
              "\n",
              "    .dataframe thead th {\n",
              "        text-align: right;\n",
              "    }\n",
              "</style>\n",
              "<table border=\"1\" class=\"dataframe\">\n",
              "  <thead>\n",
              "    <tr style=\"text-align: right;\">\n",
              "      <th></th>\n",
              "      <th>review</th>\n",
              "      <th>sentiment</th>\n",
              "    </tr>\n",
              "  </thead>\n",
              "  <tbody>\n",
              "    <tr>\n",
              "      <th>0</th>\n",
              "      <td>one of the other reviewers has mentioned that ...</td>\n",
              "      <td>positive</td>\n",
              "    </tr>\n",
              "    <tr>\n",
              "      <th>1</th>\n",
              "      <td>a wonderful little production. the filming tec...</td>\n",
              "      <td>positive</td>\n",
              "    </tr>\n",
              "    <tr>\n",
              "      <th>2</th>\n",
              "      <td>i thought this was a wonderful way to spend ti...</td>\n",
              "      <td>positive</td>\n",
              "    </tr>\n",
              "    <tr>\n",
              "      <th>3</th>\n",
              "      <td>basically there's a family where a little boy ...</td>\n",
              "      <td>negative</td>\n",
              "    </tr>\n",
              "    <tr>\n",
              "      <th>4</th>\n",
              "      <td>petter mattei's \"love in the time of money\" is...</td>\n",
              "      <td>positive</td>\n",
              "    </tr>\n",
              "  </tbody>\n",
              "</table>\n",
              "</div>\n",
              "    <div class=\"colab-df-buttons\">\n",
              "\n",
              "  <div class=\"colab-df-container\">\n",
              "    <button class=\"colab-df-convert\" onclick=\"convertToInteractive('df-4a7f739b-31d8-42c3-8079-7524fe4fc3fd')\"\n",
              "            title=\"Convert this dataframe to an interactive table.\"\n",
              "            style=\"display:none;\">\n",
              "\n",
              "  <svg xmlns=\"http://www.w3.org/2000/svg\" height=\"24px\" viewBox=\"0 -960 960 960\">\n",
              "    <path d=\"M120-120v-720h720v720H120Zm60-500h600v-160H180v160Zm220 220h160v-160H400v160Zm0 220h160v-160H400v160ZM180-400h160v-160H180v160Zm440 0h160v-160H620v160ZM180-180h160v-160H180v160Zm440 0h160v-160H620v160Z\"/>\n",
              "  </svg>\n",
              "    </button>\n",
              "\n",
              "  <style>\n",
              "    .colab-df-container {\n",
              "      display:flex;\n",
              "      gap: 12px;\n",
              "    }\n",
              "\n",
              "    .colab-df-convert {\n",
              "      background-color: #E8F0FE;\n",
              "      border: none;\n",
              "      border-radius: 50%;\n",
              "      cursor: pointer;\n",
              "      display: none;\n",
              "      fill: #1967D2;\n",
              "      height: 32px;\n",
              "      padding: 0 0 0 0;\n",
              "      width: 32px;\n",
              "    }\n",
              "\n",
              "    .colab-df-convert:hover {\n",
              "      background-color: #E2EBFA;\n",
              "      box-shadow: 0px 1px 2px rgba(60, 64, 67, 0.3), 0px 1px 3px 1px rgba(60, 64, 67, 0.15);\n",
              "      fill: #174EA6;\n",
              "    }\n",
              "\n",
              "    .colab-df-buttons div {\n",
              "      margin-bottom: 4px;\n",
              "    }\n",
              "\n",
              "    [theme=dark] .colab-df-convert {\n",
              "      background-color: #3B4455;\n",
              "      fill: #D2E3FC;\n",
              "    }\n",
              "\n",
              "    [theme=dark] .colab-df-convert:hover {\n",
              "      background-color: #434B5C;\n",
              "      box-shadow: 0px 1px 3px 1px rgba(0, 0, 0, 0.15);\n",
              "      filter: drop-shadow(0px 1px 2px rgba(0, 0, 0, 0.3));\n",
              "      fill: #FFFFFF;\n",
              "    }\n",
              "  </style>\n",
              "\n",
              "    <script>\n",
              "      const buttonEl =\n",
              "        document.querySelector('#df-4a7f739b-31d8-42c3-8079-7524fe4fc3fd button.colab-df-convert');\n",
              "      buttonEl.style.display =\n",
              "        google.colab.kernel.accessAllowed ? 'block' : 'none';\n",
              "\n",
              "      async function convertToInteractive(key) {\n",
              "        const element = document.querySelector('#df-4a7f739b-31d8-42c3-8079-7524fe4fc3fd');\n",
              "        const dataTable =\n",
              "          await google.colab.kernel.invokeFunction('convertToInteractive',\n",
              "                                                    [key], {});\n",
              "        if (!dataTable) return;\n",
              "\n",
              "        const docLinkHtml = 'Like what you see? Visit the ' +\n",
              "          '<a target=\"_blank\" href=https://colab.research.google.com/notebooks/data_table.ipynb>data table notebook</a>'\n",
              "          + ' to learn more about interactive tables.';\n",
              "        element.innerHTML = '';\n",
              "        dataTable['output_type'] = 'display_data';\n",
              "        await google.colab.output.renderOutput(dataTable, element);\n",
              "        const docLink = document.createElement('div');\n",
              "        docLink.innerHTML = docLinkHtml;\n",
              "        element.appendChild(docLink);\n",
              "      }\n",
              "    </script>\n",
              "  </div>\n",
              "\n",
              "\n",
              "<div id=\"df-e09ea7cf-e332-4c0e-8cdb-db187650943d\">\n",
              "  <button class=\"colab-df-quickchart\" onclick=\"quickchart('df-e09ea7cf-e332-4c0e-8cdb-db187650943d')\"\n",
              "            title=\"Suggest charts\"\n",
              "            style=\"display:none;\">\n",
              "\n",
              "<svg xmlns=\"http://www.w3.org/2000/svg\" height=\"24px\"viewBox=\"0 0 24 24\"\n",
              "     width=\"24px\">\n",
              "    <g>\n",
              "        <path d=\"M19 3H5c-1.1 0-2 .9-2 2v14c0 1.1.9 2 2 2h14c1.1 0 2-.9 2-2V5c0-1.1-.9-2-2-2zM9 17H7v-7h2v7zm4 0h-2V7h2v10zm4 0h-2v-4h2v4z\"/>\n",
              "    </g>\n",
              "</svg>\n",
              "  </button>\n",
              "\n",
              "<style>\n",
              "  .colab-df-quickchart {\n",
              "      --bg-color: #E8F0FE;\n",
              "      --fill-color: #1967D2;\n",
              "      --hover-bg-color: #E2EBFA;\n",
              "      --hover-fill-color: #174EA6;\n",
              "      --disabled-fill-color: #AAA;\n",
              "      --disabled-bg-color: #DDD;\n",
              "  }\n",
              "\n",
              "  [theme=dark] .colab-df-quickchart {\n",
              "      --bg-color: #3B4455;\n",
              "      --fill-color: #D2E3FC;\n",
              "      --hover-bg-color: #434B5C;\n",
              "      --hover-fill-color: #FFFFFF;\n",
              "      --disabled-bg-color: #3B4455;\n",
              "      --disabled-fill-color: #666;\n",
              "  }\n",
              "\n",
              "  .colab-df-quickchart {\n",
              "    background-color: var(--bg-color);\n",
              "    border: none;\n",
              "    border-radius: 50%;\n",
              "    cursor: pointer;\n",
              "    display: none;\n",
              "    fill: var(--fill-color);\n",
              "    height: 32px;\n",
              "    padding: 0;\n",
              "    width: 32px;\n",
              "  }\n",
              "\n",
              "  .colab-df-quickchart:hover {\n",
              "    background-color: var(--hover-bg-color);\n",
              "    box-shadow: 0 1px 2px rgba(60, 64, 67, 0.3), 0 1px 3px 1px rgba(60, 64, 67, 0.15);\n",
              "    fill: var(--button-hover-fill-color);\n",
              "  }\n",
              "\n",
              "  .colab-df-quickchart-complete:disabled,\n",
              "  .colab-df-quickchart-complete:disabled:hover {\n",
              "    background-color: var(--disabled-bg-color);\n",
              "    fill: var(--disabled-fill-color);\n",
              "    box-shadow: none;\n",
              "  }\n",
              "\n",
              "  .colab-df-spinner {\n",
              "    border: 2px solid var(--fill-color);\n",
              "    border-color: transparent;\n",
              "    border-bottom-color: var(--fill-color);\n",
              "    animation:\n",
              "      spin 1s steps(1) infinite;\n",
              "  }\n",
              "\n",
              "  @keyframes spin {\n",
              "    0% {\n",
              "      border-color: transparent;\n",
              "      border-bottom-color: var(--fill-color);\n",
              "      border-left-color: var(--fill-color);\n",
              "    }\n",
              "    20% {\n",
              "      border-color: transparent;\n",
              "      border-left-color: var(--fill-color);\n",
              "      border-top-color: var(--fill-color);\n",
              "    }\n",
              "    30% {\n",
              "      border-color: transparent;\n",
              "      border-left-color: var(--fill-color);\n",
              "      border-top-color: var(--fill-color);\n",
              "      border-right-color: var(--fill-color);\n",
              "    }\n",
              "    40% {\n",
              "      border-color: transparent;\n",
              "      border-right-color: var(--fill-color);\n",
              "      border-top-color: var(--fill-color);\n",
              "    }\n",
              "    60% {\n",
              "      border-color: transparent;\n",
              "      border-right-color: var(--fill-color);\n",
              "    }\n",
              "    80% {\n",
              "      border-color: transparent;\n",
              "      border-right-color: var(--fill-color);\n",
              "      border-bottom-color: var(--fill-color);\n",
              "    }\n",
              "    90% {\n",
              "      border-color: transparent;\n",
              "      border-bottom-color: var(--fill-color);\n",
              "    }\n",
              "  }\n",
              "</style>\n",
              "\n",
              "  <script>\n",
              "    async function quickchart(key) {\n",
              "      const quickchartButtonEl =\n",
              "        document.querySelector('#' + key + ' button');\n",
              "      quickchartButtonEl.disabled = true;  // To prevent multiple clicks.\n",
              "      quickchartButtonEl.classList.add('colab-df-spinner');\n",
              "      try {\n",
              "        const charts = await google.colab.kernel.invokeFunction(\n",
              "            'suggestCharts', [key], {});\n",
              "      } catch (error) {\n",
              "        console.error('Error during call to suggestCharts:', error);\n",
              "      }\n",
              "      quickchartButtonEl.classList.remove('colab-df-spinner');\n",
              "      quickchartButtonEl.classList.add('colab-df-quickchart-complete');\n",
              "    }\n",
              "    (() => {\n",
              "      let quickchartButtonEl =\n",
              "        document.querySelector('#df-e09ea7cf-e332-4c0e-8cdb-db187650943d button');\n",
              "      quickchartButtonEl.style.display =\n",
              "        google.colab.kernel.accessAllowed ? 'block' : 'none';\n",
              "    })();\n",
              "  </script>\n",
              "</div>\n",
              "\n",
              "    </div>\n",
              "  </div>\n"
            ],
            "application/vnd.google.colaboratory.intrinsic+json": {
              "type": "dataframe",
              "variable_name": "df",
              "summary": "{\n  \"name\": \"df\",\n  \"rows\": 100,\n  \"fields\": [\n    {\n      \"column\": \"review\",\n      \"properties\": {\n        \"dtype\": \"string\",\n        \"num_unique_values\": 100,\n        \"samples\": [\n          \"\\\"fate\\\" leads walter sparrow to come in possession of a mysterious novel that has eerie similarities and connections to his life, all based around the number 23. as the story unfolds in real life and fiction, sparrow must figure out his connection to the book and how the story will eventually end.the number 23 offers an intriguing premise that is undone by a weak execution. the film just failed on many different levels which is pretty disappointing because it held so much potential. the screenplay was probably the worst part about it. it was filled with silly sequences and laughable dialog that just killed the mood of the movie. it seemed like the screenwriter had a good idea, he just didn't know how to develop it to stretch over a ninety minute running time. the second half of the film was running low on ideas, the twist was pretty obvious and the ending was awful.joel schumacher is responsible for one of the worst movies ever and he did redeem himself a little with phone booth and a few other films but the number 23 reminds me that he's still capable of making a stinker. he has the movie drenched in style but he just can't get a good focus. he moves the film at a clunky and slow pace. he switches from reality to what's actually happening in the book which quickly got annoying. the actual book in the film that's titled \\\"the number 23\\\" is an awful detective story and the audience gets stuck listening to carrey narrate it which just bored me to tears. when carrey is finally done with book, we get stuck watching him run around trying to solve the mystery. at this point, the audience has lost interest and there is no real tension. we impatiently wait for the movie to reach it's horrible ending and unconvincing explanation before celebrating that film has finally finished.the acting was mostly average and pretty forgettable. jim carrey was clearly just sleepwalking through his performance and he didn't even seem to be trying. he was either completely over the top in some scenes or just very wooden. his narration was a complete bore to listen to and he put no life inside his character. virginia madsen did the best she could with a limited role but she needs to pick better scripts. logan lerman was pretty bland as was danny huston. overall, the number 23 was an awful thriller that offered more laughs than suspense or thrills. rating 3/10\",\n          \"i cannot believe i enjoyed this as much as i did. the anthology stories were better than par, but the linking story and its surprise ending hooked me. alot of familiar faces will keep you asking yourself \\\"where i have i seen them before?\\\" forget the running time listed on new line's tape, this ain't no 103 minutes, according to my vcr timer and imdb. space maggot douses the campfire in his own special way and hikes this an 8.\",\n          \"caddyshack two is a good movie by itself but compared to the original it cant stack up. robert stack is a horrible replacement for ted knight and jackie mason, while funny just cant compete with rodney dangerfield. ty webb is funny, being the only character from the original. most of the other characters in the movie lack the punch of the original (henry wilcoxon for example) except for the hystericly funny lawyer peter blunt, being played by randy quaid. every line he says reminds me of the originals humor, especially the scene at his office (i don't go in for law suits or motions. i find out where you live and come to your house and beat down your door with a f***ing baseball bat, make a bonfire with the chippindale,maybe roast that golden retriever (arff arff arff) then eat it. and then i'm comin' upstairs junior, and i'm grabbing you by your brooks brothers pjs, and cramming your brand new bmw up your tight a**! do we have an understanding?). offsetting his small role however, is dan acroyd, who is obviously no replacement for bill murray. his voice is beyond irritating and everything he does isnt even funny, its just stupid. overall caddyshack ii is a good movie, but in comparison to the awesome original it just cant cut it.\"\n        ],\n        \"semantic_type\": \"\",\n        \"description\": \"\"\n      }\n    },\n    {\n      \"column\": \"sentiment\",\n      \"properties\": {\n        \"dtype\": \"category\",\n        \"num_unique_values\": 2,\n        \"samples\": [\n          \"negative\",\n          \"positive\"\n        ],\n        \"semantic_type\": \"\",\n        \"description\": \"\"\n      }\n    }\n  ]\n}"
            }
          },
          "metadata": {},
          "execution_count": 57
        }
      ],
      "source": [
        "df.head()"
      ]
    },
    {
      "cell_type": "code",
      "execution_count": 58,
      "metadata": {
        "execution": {
          "iopub.execute_input": "2021-12-31T06:39:09.921822Z",
          "iopub.status.busy": "2021-12-31T06:39:09.921540Z",
          "iopub.status.idle": "2021-12-31T06:42:18.536775Z",
          "shell.execute_reply": "2021-12-31T06:42:18.535137Z",
          "shell.execute_reply.started": "2021-12-31T06:39:09.921791Z"
        },
        "colab": {
          "base_uri": "https://localhost:8080/",
          "height": 479
        },
        "id": "7TT5T2iifXJR",
        "outputId": "cf1af73f-ebaa-4781-d99f-465d61838663"
      },
      "outputs": [
        {
          "output_type": "execute_result",
          "data": {
            "text/plain": [
              "0     one    reviewers  mentioned   watching  1 oz e...\n",
              "1      wonderful little production.  filming techniq...\n",
              "2      thought    wonderful way  spend time    hot s...\n",
              "3     basically there's  family   little boy (jake) ...\n",
              "4     petter mattei's \"love   time  money\"   visuall...\n",
              "                            ...                        \n",
              "95    daniel day-lewis    versatile actor alive. eng...\n",
              "96     guess would    originally going    least two ...\n",
              "97    well,  like  watch bad horror b-movies, cause ...\n",
              "98       worst movie   ever seen,  well as,  worst  ...\n",
              "99        mario fan   long    remember,    fond memo...\n",
              "Name: review, Length: 100, dtype: object"
            ],
            "text/html": [
              "<div>\n",
              "<style scoped>\n",
              "    .dataframe tbody tr th:only-of-type {\n",
              "        vertical-align: middle;\n",
              "    }\n",
              "\n",
              "    .dataframe tbody tr th {\n",
              "        vertical-align: top;\n",
              "    }\n",
              "\n",
              "    .dataframe thead th {\n",
              "        text-align: right;\n",
              "    }\n",
              "</style>\n",
              "<table border=\"1\" class=\"dataframe\">\n",
              "  <thead>\n",
              "    <tr style=\"text-align: right;\">\n",
              "      <th></th>\n",
              "      <th>review</th>\n",
              "    </tr>\n",
              "  </thead>\n",
              "  <tbody>\n",
              "    <tr>\n",
              "      <th>0</th>\n",
              "      <td>one    reviewers  mentioned   watching  1 oz e...</td>\n",
              "    </tr>\n",
              "    <tr>\n",
              "      <th>1</th>\n",
              "      <td>wonderful little production.  filming techniq...</td>\n",
              "    </tr>\n",
              "    <tr>\n",
              "      <th>2</th>\n",
              "      <td>thought    wonderful way  spend time    hot s...</td>\n",
              "    </tr>\n",
              "    <tr>\n",
              "      <th>3</th>\n",
              "      <td>basically there's  family   little boy (jake) ...</td>\n",
              "    </tr>\n",
              "    <tr>\n",
              "      <th>4</th>\n",
              "      <td>petter mattei's \"love   time  money\"   visuall...</td>\n",
              "    </tr>\n",
              "    <tr>\n",
              "      <th>...</th>\n",
              "      <td>...</td>\n",
              "    </tr>\n",
              "    <tr>\n",
              "      <th>95</th>\n",
              "      <td>daniel day-lewis    versatile actor alive. eng...</td>\n",
              "    </tr>\n",
              "    <tr>\n",
              "      <th>96</th>\n",
              "      <td>guess would    originally going    least two ...</td>\n",
              "    </tr>\n",
              "    <tr>\n",
              "      <th>97</th>\n",
              "      <td>well,  like  watch bad horror b-movies, cause ...</td>\n",
              "    </tr>\n",
              "    <tr>\n",
              "      <th>98</th>\n",
              "      <td>worst movie   ever seen,  well as,  worst  ...</td>\n",
              "    </tr>\n",
              "    <tr>\n",
              "      <th>99</th>\n",
              "      <td>mario fan   long    remember,    fond memo...</td>\n",
              "    </tr>\n",
              "  </tbody>\n",
              "</table>\n",
              "<p>100 rows × 1 columns</p>\n",
              "</div><br><label><b>dtype:</b> object</label>"
            ]
          },
          "metadata": {},
          "execution_count": 58
        }
      ],
      "source": [
        "df['review'].apply(remove_stopwords)"
      ]
    },
    {
      "cell_type": "markdown",
      "metadata": {
        "id": "U1BpIUyGfXJS"
      },
      "source": [
        "# remove_emoji handle"
      ]
    },
    {
      "cell_type": "code",
      "execution_count": 59,
      "metadata": {
        "execution": {
          "iopub.execute_input": "2021-12-31T06:42:51.745358Z",
          "iopub.status.busy": "2021-12-31T06:42:51.744505Z",
          "iopub.status.idle": "2021-12-31T06:42:51.750288Z",
          "shell.execute_reply": "2021-12-31T06:42:51.749730Z",
          "shell.execute_reply.started": "2021-12-31T06:42:51.745310Z"
        },
        "id": "G1Flwi-jfXJS"
      },
      "outputs": [],
      "source": [
        "import re\n",
        "def remove_emoji(text):\n",
        "    emoji_pattern = re.compile(\"[\"\n",
        "                           u\"\\U0001F600-\\U0001F64F\"  # emoticons\n",
        "                           u\"\\U0001F300-\\U0001F5FF\"  # symbols & pictographs\n",
        "                           u\"\\U0001F680-\\U0001F6FF\"  # transport & map symbols\n",
        "                           u\"\\U0001F1E0-\\U0001F1FF\"  # flags (iOS)\n",
        "                           u\"\\U00002702-\\U000027B0\"\n",
        "                           u\"\\U000024C2-\\U0001F251\"\n",
        "                           \"]+\", flags=re.UNICODE)\n",
        "    return emoji_pattern.sub(r'', text)"
      ]
    },
    {
      "cell_type": "code",
      "execution_count": 60,
      "metadata": {
        "execution": {
          "iopub.execute_input": "2021-12-31T06:42:54.927028Z",
          "iopub.status.busy": "2021-12-31T06:42:54.926479Z",
          "iopub.status.idle": "2021-12-31T06:42:54.937617Z",
          "shell.execute_reply": "2021-12-31T06:42:54.937038Z",
          "shell.execute_reply.started": "2021-12-31T06:42:54.926979Z"
        },
        "colab": {
          "base_uri": "https://localhost:8080/",
          "height": 55
        },
        "id": "ytld3e-afXJT",
        "outputId": "a80e9556-4569-4ee5-843b-a99bb6f5fa50"
      },
      "outputs": [
        {
          "output_type": "execute_result",
          "data": {
            "text/plain": [
              "'Loved the movie. It was '"
            ],
            "application/vnd.google.colaboratory.intrinsic+json": {
              "type": "string"
            }
          },
          "metadata": {},
          "execution_count": 60
        }
      ],
      "source": [
        "remove_emoji(\"Loved the movie. It was 😘😘\")"
      ]
    },
    {
      "cell_type": "code",
      "execution_count": 61,
      "metadata": {
        "execution": {
          "iopub.execute_input": "2021-12-31T06:42:57.500459Z",
          "iopub.status.busy": "2021-12-31T06:42:57.499747Z",
          "iopub.status.idle": "2021-12-31T06:42:57.505979Z",
          "shell.execute_reply": "2021-12-31T06:42:57.505427Z",
          "shell.execute_reply.started": "2021-12-31T06:42:57.500400Z"
        },
        "colab": {
          "base_uri": "https://localhost:8080/",
          "height": 55
        },
        "id": "tWwFcSKYfXJT",
        "outputId": "cad88046-ff01-4884-a8b5-993fd2945e4a"
      },
      "outputs": [
        {
          "output_type": "execute_result",
          "data": {
            "text/plain": [
              "'Lmao '"
            ],
            "application/vnd.google.colaboratory.intrinsic+json": {
              "type": "string"
            }
          },
          "metadata": {},
          "execution_count": 61
        }
      ],
      "source": [
        "remove_emoji(\"Lmao 😂😂\")"
      ]
    },
    {
      "cell_type": "markdown",
      "source": [
        "# **EMOji to text conversion**"
      ],
      "metadata": {
        "id": "vgvGpYo9Z-6N"
      }
    },
    {
      "cell_type": "code",
      "source": [
        "!pip install emoji"
      ],
      "metadata": {
        "colab": {
          "base_uri": "https://localhost:8080/"
        },
        "id": "2kaMJEYFnG4s",
        "outputId": "20460645-0b74-4248-e691-be36f9b08017"
      },
      "execution_count": 62,
      "outputs": [
        {
          "output_type": "stream",
          "name": "stdout",
          "text": [
            "Collecting emoji\n",
            "  Downloading emoji-2.14.0-py3-none-any.whl.metadata (5.7 kB)\n",
            "Downloading emoji-2.14.0-py3-none-any.whl (586 kB)\n",
            "\u001b[?25l   \u001b[90m━━━━━━━━━━━━━━━━━━━━━━━━━━━━━━━━━━━━━━━━\u001b[0m \u001b[32m0.0/586.9 kB\u001b[0m \u001b[31m?\u001b[0m eta \u001b[36m-:--:--\u001b[0m\r\u001b[2K   \u001b[91m━━━━━━━━━━\u001b[0m\u001b[90m╺\u001b[0m\u001b[90m━━━━━━━━━━━━━━━━━━━━━━━━━━━━━\u001b[0m \u001b[32m153.6/586.9 kB\u001b[0m \u001b[31m4.3 MB/s\u001b[0m eta \u001b[36m0:00:01\u001b[0m\r\u001b[2K   \u001b[90m━━━━━━━━━━━━━━━━━━━━━━━━━━━━━━━━━━━━━━━━\u001b[0m \u001b[32m586.9/586.9 kB\u001b[0m \u001b[31m8.8 MB/s\u001b[0m eta \u001b[36m0:00:00\u001b[0m\n",
            "\u001b[?25hInstalling collected packages: emoji\n",
            "Successfully installed emoji-2.14.0\n"
          ]
        }
      ]
    },
    {
      "cell_type": "code",
      "execution_count": 63,
      "metadata": {
        "execution": {
          "iopub.execute_input": "2021-12-31T06:43:04.191966Z",
          "iopub.status.busy": "2021-12-31T06:43:04.191476Z",
          "iopub.status.idle": "2021-12-31T06:43:04.480988Z",
          "shell.execute_reply": "2021-12-31T06:43:04.480125Z",
          "shell.execute_reply.started": "2021-12-31T06:43:04.191935Z"
        },
        "colab": {
          "base_uri": "https://localhost:8080/"
        },
        "id": "N7KbcmehfXJU",
        "outputId": "f5810f85-8f26-49a2-da03-dbfec0d47fe3"
      },
      "outputs": [
        {
          "output_type": "stream",
          "name": "stdout",
          "text": [
            "Python is :fire:\n"
          ]
        }
      ],
      "source": [
        "import emoji\n",
        "print(emoji.demojize('Python is 🔥'))"
      ]
    },
    {
      "cell_type": "code",
      "execution_count": 64,
      "metadata": {
        "execution": {
          "iopub.execute_input": "2021-12-31T06:43:07.217770Z",
          "iopub.status.busy": "2021-12-31T06:43:07.217301Z",
          "iopub.status.idle": "2021-12-31T06:43:07.222526Z",
          "shell.execute_reply": "2021-12-31T06:43:07.221705Z",
          "shell.execute_reply.started": "2021-12-31T06:43:07.217723Z"
        },
        "colab": {
          "base_uri": "https://localhost:8080/"
        },
        "id": "9UuuiuetfXJU",
        "outputId": "ba1270ad-a60b-4c30-f9ac-afaa3822eb3a"
      },
      "outputs": [
        {
          "output_type": "stream",
          "name": "stdout",
          "text": [
            "Loved the movie. It was :face_blowing_a_kiss:\n"
          ]
        }
      ],
      "source": [
        "print(emoji.demojize('Loved the movie. It was 😘'))"
      ]
    },
    {
      "cell_type": "markdown",
      "metadata": {
        "id": "L68UBnjvfXJV"
      },
      "source": [
        "# Tokenization"
      ]
    },
    {
      "cell_type": "markdown",
      "metadata": {
        "id": "s4DRrhBifXJV"
      },
      "source": [
        "### 1. Using the split function"
      ]
    },
    {
      "cell_type": "code",
      "execution_count": 65,
      "metadata": {
        "execution": {
          "iopub.execute_input": "2021-12-31T06:43:15.810492Z",
          "iopub.status.busy": "2021-12-31T06:43:15.810189Z",
          "iopub.status.idle": "2021-12-31T06:43:15.816173Z",
          "shell.execute_reply": "2021-12-31T06:43:15.815384Z",
          "shell.execute_reply.started": "2021-12-31T06:43:15.810462Z"
        },
        "colab": {
          "base_uri": "https://localhost:8080/"
        },
        "id": "ixnRRzv1fXJV",
        "outputId": "ed8e31fd-7364-4c4d-d398-fcffc86d6d8e"
      },
      "outputs": [
        {
          "output_type": "execute_result",
          "data": {
            "text/plain": [
              "['I', 'am', 'going', 'to', 'delhi']"
            ]
          },
          "metadata": {},
          "execution_count": 65
        }
      ],
      "source": [
        "# word tokenization\n",
        "sent1 = 'I am going to delhi'\n",
        "sent1.split()"
      ]
    },
    {
      "cell_type": "code",
      "execution_count": 66,
      "metadata": {
        "execution": {
          "iopub.execute_input": "2021-12-31T06:43:16.672825Z",
          "iopub.status.busy": "2021-12-31T06:43:16.672535Z",
          "iopub.status.idle": "2021-12-31T06:43:16.679365Z",
          "shell.execute_reply": "2021-12-31T06:43:16.678423Z",
          "shell.execute_reply.started": "2021-12-31T06:43:16.672793Z"
        },
        "colab": {
          "base_uri": "https://localhost:8080/"
        },
        "id": "Uq8GvD4lfXJW",
        "outputId": "fb52572c-e94c-4ee3-b41e-adfdd1266d88"
      },
      "outputs": [
        {
          "output_type": "execute_result",
          "data": {
            "text/plain": [
              "['I am going to delhi',\n",
              " ' I will stay there for 3 days',\n",
              " \" Let's hope the trip to be great\"]"
            ]
          },
          "metadata": {},
          "execution_count": 66
        }
      ],
      "source": [
        "# sentence tokenization\n",
        "sent2 = 'I am going to delhi. I will stay there for 3 days. Let\\'s hope the trip to be great'\n",
        "sent2.split('.')"
      ]
    },
    {
      "cell_type": "code",
      "execution_count": 67,
      "metadata": {
        "execution": {
          "iopub.execute_input": "2021-12-31T06:43:19.371045Z",
          "iopub.status.busy": "2021-12-31T06:43:19.370499Z",
          "iopub.status.idle": "2021-12-31T06:43:19.376805Z",
          "shell.execute_reply": "2021-12-31T06:43:19.376060Z",
          "shell.execute_reply.started": "2021-12-31T06:43:19.371000Z"
        },
        "colab": {
          "base_uri": "https://localhost:8080/"
        },
        "id": "NuUmlRlqfXJW",
        "outputId": "bc3af6cf-ae55-422a-c37d-f3fd3677d48c"
      },
      "outputs": [
        {
          "output_type": "execute_result",
          "data": {
            "text/plain": [
              "['I', 'am', 'going', 'to', 'delhi!']"
            ]
          },
          "metadata": {},
          "execution_count": 67
        }
      ],
      "source": [
        "# Problems with split function\n",
        "sent3 = 'I am going to delhi!'\n",
        "sent3.split()"
      ]
    },
    {
      "cell_type": "code",
      "execution_count": null,
      "metadata": {
        "execution": {
          "iopub.execute_input": "2021-12-31T06:43:22.987186Z",
          "iopub.status.busy": "2021-12-31T06:43:22.986910Z",
          "iopub.status.idle": "2021-12-31T06:43:22.993658Z",
          "shell.execute_reply": "2021-12-31T06:43:22.992820Z",
          "shell.execute_reply.started": "2021-12-31T06:43:22.987156Z"
        },
        "colab": {
          "base_uri": "https://localhost:8080/"
        },
        "id": "QMTgzvsCfXJX",
        "outputId": "8fd5f928-a042-433d-ddba-c03d1e6fe0e4"
      },
      "outputs": [
        {
          "output_type": "execute_result",
          "data": {
            "text/plain": [
              "['Where do think I should go? I have 3 day holiday']"
            ]
          },
          "metadata": {},
          "execution_count": 59
        }
      ],
      "source": [
        "sent4 = 'Where do think I should go? I have 3 day holiday'\n",
        "sent4.split('.')"
      ]
    },
    {
      "cell_type": "markdown",
      "metadata": {
        "id": "YyvxOXehfXJX"
      },
      "source": [
        "### 2. Regular Expression"
      ]
    },
    {
      "cell_type": "code",
      "execution_count": 68,
      "metadata": {
        "execution": {
          "iopub.execute_input": "2021-12-31T06:43:25.066222Z",
          "iopub.status.busy": "2021-12-31T06:43:25.065942Z",
          "iopub.status.idle": "2021-12-31T06:43:25.072526Z",
          "shell.execute_reply": "2021-12-31T06:43:25.071800Z",
          "shell.execute_reply.started": "2021-12-31T06:43:25.066190Z"
        },
        "colab": {
          "base_uri": "https://localhost:8080/"
        },
        "id": "FpUVu6qffXJY",
        "outputId": "42b609da-4bb1-45aa-bf2c-ec0efd610b56"
      },
      "outputs": [
        {
          "output_type": "execute_result",
          "data": {
            "text/plain": [
              "['I', 'am', 'going', 'to', 'delhi']"
            ]
          },
          "metadata": {},
          "execution_count": 68
        }
      ],
      "source": [
        "import re\n",
        "sent3 = 'I am going to delhi!'\n",
        "tokens = re.findall(\"[\\w']+\", sent3)\n",
        "tokens"
      ]
    },
    {
      "cell_type": "code",
      "execution_count": 69,
      "metadata": {
        "execution": {
          "iopub.execute_input": "2021-12-31T06:43:36.071658Z",
          "iopub.status.busy": "2021-12-31T06:43:36.071360Z",
          "iopub.status.idle": "2021-12-31T06:43:36.079075Z",
          "shell.execute_reply": "2021-12-31T06:43:36.078094Z",
          "shell.execute_reply.started": "2021-12-31T06:43:36.071624Z"
        },
        "colab": {
          "base_uri": "https://localhost:8080/"
        },
        "id": "xRQv_HBafXJZ",
        "outputId": "a009e64c-3f1b-4899-8b53-887da554e4bc"
      },
      "outputs": [
        {
          "output_type": "execute_result",
          "data": {
            "text/plain": [
              "[\"Lorem Ipsum is simply dummy text of the printing and typesetting industry?\\nLorem Ipsum has been the industry's standard dummy text ever since the 1500s,\\nwhen an unknown printer took a galley of type and scrambled it to make a type specimen book.\"]"
            ]
          },
          "metadata": {},
          "execution_count": 69
        }
      ],
      "source": [
        "\n",
        "text = \"\"\"Lorem Ipsum is simply dummy text of the printing and typesetting industry?\n",
        "Lorem Ipsum has been the industry's standard dummy text ever since the 1500s,\n",
        "when an unknown printer took a galley of type and scrambled it to make a type specimen book.\"\"\"\n",
        "sentences = re.compile('[.!?] ').split(text)\n",
        "sentences"
      ]
    },
    {
      "cell_type": "markdown",
      "metadata": {
        "id": "E0WfA5rxfXJZ"
      },
      "source": [
        "### 3. NLTK"
      ]
    },
    {
      "cell_type": "code",
      "execution_count": 72,
      "metadata": {
        "execution": {
          "iopub.execute_input": "2021-12-31T06:43:43.710755Z",
          "iopub.status.busy": "2021-12-31T06:43:43.710469Z",
          "iopub.status.idle": "2021-12-31T06:43:43.715818Z",
          "shell.execute_reply": "2021-12-31T06:43:43.715109Z",
          "shell.execute_reply.started": "2021-12-31T06:43:43.710728Z"
        },
        "colab": {
          "base_uri": "https://localhost:8080/"
        },
        "id": "7Xm_QZ8BfXJZ",
        "outputId": "31e55f92-a032-4fb6-9845-37f05903c392"
      },
      "outputs": [
        {
          "output_type": "stream",
          "name": "stderr",
          "text": [
            "[nltk_data] Downloading package punkt to /root/nltk_data...\n",
            "[nltk_data]   Package punkt is already up-to-date!\n"
          ]
        },
        {
          "output_type": "execute_result",
          "data": {
            "text/plain": [
              "True"
            ]
          },
          "metadata": {},
          "execution_count": 72
        }
      ],
      "source": [
        "from nltk.tokenize import word_tokenize,sent_tokenize\n",
        "import nltk\n",
        "nltk.download('punkt')"
      ]
    },
    {
      "cell_type": "code",
      "source": [
        "nltk.download('punkt')\n"
      ],
      "metadata": {
        "colab": {
          "base_uri": "https://localhost:8080/"
        },
        "id": "-f1V11Dfb9fa",
        "outputId": "6629ffdb-d775-46bd-9946-6f10c2a7c36a"
      },
      "execution_count": 77,
      "outputs": [
        {
          "output_type": "stream",
          "name": "stderr",
          "text": [
            "[nltk_data] Downloading package punkt to /root/nltk_data...\n",
            "[nltk_data]   Package punkt is already up-to-date!\n"
          ]
        },
        {
          "output_type": "execute_result",
          "data": {
            "text/plain": [
              "True"
            ]
          },
          "metadata": {},
          "execution_count": 77
        }
      ]
    },
    {
      "cell_type": "code",
      "source": [
        "import nltk\n",
        "from nltk.tokenize import word_tokenize, sent_tokenize\n",
        "\n",
        "# Download the 'punkt_tab' resource\n",
        "nltk.download('punkt_tab')\n",
        "\n",
        "sent1 = 'I am going to visit delhi!'\n",
        "tokens = word_tokenize(sent1)\n",
        "print(tokens)"
      ],
      "metadata": {
        "colab": {
          "base_uri": "https://localhost:8080/"
        },
        "id": "4QvWHf4YcUsw",
        "outputId": "04bc6d78-315c-4851-b657-758cdc2aba49"
      },
      "execution_count": 80,
      "outputs": [
        {
          "output_type": "stream",
          "name": "stderr",
          "text": [
            "[nltk_data] Downloading package punkt_tab to /root/nltk_data...\n",
            "[nltk_data]   Unzipping tokenizers/punkt_tab.zip.\n"
          ]
        },
        {
          "output_type": "stream",
          "name": "stdout",
          "text": [
            "['I', 'am', 'going', 'to', 'visit', 'delhi', '!']\n"
          ]
        }
      ]
    },
    {
      "cell_type": "code",
      "execution_count": 81,
      "metadata": {
        "execution": {
          "iopub.execute_input": "2021-12-10T06:03:00.917544Z",
          "iopub.status.busy": "2021-12-10T06:03:00.915226Z",
          "iopub.status.idle": "2021-12-10T06:03:00.924761Z",
          "shell.execute_reply": "2021-12-10T06:03:00.923887Z",
          "shell.execute_reply.started": "2021-12-10T06:03:00.917502Z"
        },
        "colab": {
          "base_uri": "https://localhost:8080/"
        },
        "id": "g9xpqy5rfXJa",
        "outputId": "f978f765-4ef5-41b3-c13f-a7c0a9116401"
      },
      "outputs": [
        {
          "output_type": "execute_result",
          "data": {
            "text/plain": [
              "['Lorem Ipsum is simply dummy text of the printing and typesetting industry?',\n",
              " \"Lorem Ipsum has been the industry's standard dummy text ever since the 1500s,\\nwhen an unknown printer took a galley of type and scrambled it to make a type specimen book.\"]"
            ]
          },
          "metadata": {},
          "execution_count": 81
        }
      ],
      "source": [
        "text = \"\"\"Lorem Ipsum is simply dummy text of the printing and typesetting industry?\n",
        "Lorem Ipsum has been the industry's standard dummy text ever since the 1500s,\n",
        "when an unknown printer took a galley of type and scrambled it to make a type specimen book.\"\"\"\n",
        "\n",
        "sent_tokenize(text)"
      ]
    },
    {
      "cell_type": "code",
      "execution_count": 82,
      "metadata": {
        "execution": {
          "iopub.execute_input": "2021-12-31T06:44:20.220975Z",
          "iopub.status.busy": "2021-12-31T06:44:20.220662Z",
          "iopub.status.idle": "2021-12-31T06:44:20.227882Z",
          "shell.execute_reply": "2021-12-31T06:44:20.227311Z",
          "shell.execute_reply.started": "2021-12-31T06:44:20.220945Z"
        },
        "colab": {
          "base_uri": "https://localhost:8080/"
        },
        "id": "WPcDxHj1fXJa",
        "outputId": "dec898c4-552f-4f7c-e7fc-29501cdd331b"
      },
      "outputs": [
        {
          "output_type": "execute_result",
          "data": {
            "text/plain": [
              "['I', 'have', 'a', 'Ph.D', 'in', 'A.I']"
            ]
          },
          "metadata": {},
          "execution_count": 82
        }
      ],
      "source": [
        "sent5 = 'I have a Ph.D in A.I'\n",
        "sent6 = \"We're here to help! mail us at nks@gmail.com\"\n",
        "sent7 = 'A 5km ride cost $10.50'\n",
        "\n",
        "word_tokenize(sent5)"
      ]
    },
    {
      "cell_type": "code",
      "execution_count": 83,
      "metadata": {
        "execution": {
          "iopub.execute_input": "2021-12-31T06:44:25.644168Z",
          "iopub.status.busy": "2021-12-31T06:44:25.643643Z",
          "iopub.status.idle": "2021-12-31T06:44:25.651199Z",
          "shell.execute_reply": "2021-12-31T06:44:25.650604Z",
          "shell.execute_reply.started": "2021-12-31T06:44:25.644113Z"
        },
        "colab": {
          "base_uri": "https://localhost:8080/"
        },
        "id": "7DPWnjOJfXJa",
        "outputId": "efe1ae96-6c01-4de6-da8e-46f58702baad"
      },
      "outputs": [
        {
          "output_type": "execute_result",
          "data": {
            "text/plain": [
              "['We',\n",
              " \"'re\",\n",
              " 'here',\n",
              " 'to',\n",
              " 'help',\n",
              " '!',\n",
              " 'mail',\n",
              " 'us',\n",
              " 'at',\n",
              " 'nks',\n",
              " '@',\n",
              " 'gmail.com']"
            ]
          },
          "metadata": {},
          "execution_count": 83
        }
      ],
      "source": [
        "word_tokenize(sent6)"
      ]
    },
    {
      "cell_type": "code",
      "execution_count": 84,
      "metadata": {
        "execution": {
          "iopub.execute_input": "2021-12-31T06:44:28.249968Z",
          "iopub.status.busy": "2021-12-31T06:44:28.249507Z",
          "iopub.status.idle": "2021-12-31T06:44:28.255852Z",
          "shell.execute_reply": "2021-12-31T06:44:28.254914Z",
          "shell.execute_reply.started": "2021-12-31T06:44:28.249918Z"
        },
        "colab": {
          "base_uri": "https://localhost:8080/"
        },
        "id": "4fP4Af93fXJb",
        "outputId": "00d550f4-4635-4625-85c1-b0b3b6b939f2"
      },
      "outputs": [
        {
          "output_type": "execute_result",
          "data": {
            "text/plain": [
              "['A', '5km', 'ride', 'cost', '$', '10.50']"
            ]
          },
          "metadata": {},
          "execution_count": 84
        }
      ],
      "source": [
        "word_tokenize(sent7)"
      ]
    },
    {
      "cell_type": "markdown",
      "metadata": {
        "id": "zGCXaozqfXJb"
      },
      "source": [
        "### 4. Spacy (good)"
      ]
    },
    {
      "cell_type": "code",
      "execution_count": 85,
      "metadata": {
        "execution": {
          "iopub.execute_input": "2021-12-31T06:44:30.428238Z",
          "iopub.status.busy": "2021-12-31T06:44:30.427753Z",
          "iopub.status.idle": "2021-12-31T06:44:40.692846Z",
          "shell.execute_reply": "2021-12-31T06:44:40.692211Z",
          "shell.execute_reply.started": "2021-12-31T06:44:30.428189Z"
        },
        "id": "SwVDcE4mfXJb"
      },
      "outputs": [],
      "source": [
        "import spacy\n",
        "nlp = spacy.load('en_core_web_sm')"
      ]
    },
    {
      "cell_type": "code",
      "execution_count": 86,
      "metadata": {
        "execution": {
          "iopub.execute_input": "2021-12-31T06:44:40.694652Z",
          "iopub.status.busy": "2021-12-31T06:44:40.694267Z",
          "iopub.status.idle": "2021-12-31T06:44:40.739047Z",
          "shell.execute_reply": "2021-12-31T06:44:40.738463Z",
          "shell.execute_reply.started": "2021-12-31T06:44:40.694605Z"
        },
        "id": "hT14PkK_fXJb"
      },
      "outputs": [],
      "source": [
        "doc1 = nlp(sent5)\n",
        "doc2 = nlp(sent6)\n",
        "doc3 = nlp(sent7)\n",
        "doc4 = nlp(sent1)"
      ]
    },
    {
      "cell_type": "code",
      "source": [
        "doc4 = nlp(sent1)\n",
        "doc4"
      ],
      "metadata": {
        "colab": {
          "base_uri": "https://localhost:8080/"
        },
        "id": "IqiMgoh02hVU",
        "outputId": "c0d51507-8b4d-4459-8ca6-435cdce1a67e"
      },
      "execution_count": 87,
      "outputs": [
        {
          "output_type": "execute_result",
          "data": {
            "text/plain": [
              "I am going to visit delhi!"
            ]
          },
          "metadata": {},
          "execution_count": 87
        }
      ]
    },
    {
      "cell_type": "code",
      "execution_count": 88,
      "metadata": {
        "execution": {
          "iopub.execute_input": "2021-12-31T06:44:55.784086Z",
          "iopub.status.busy": "2021-12-31T06:44:55.783589Z",
          "iopub.status.idle": "2021-12-31T06:44:55.790345Z",
          "shell.execute_reply": "2021-12-31T06:44:55.789180Z",
          "shell.execute_reply.started": "2021-12-31T06:44:55.784037Z"
        },
        "colab": {
          "base_uri": "https://localhost:8080/"
        },
        "id": "99vrOvtQfXJc",
        "outputId": "389b3f53-0f98-4ea0-88db-e94e26e99502"
      },
      "outputs": [
        {
          "output_type": "stream",
          "name": "stdout",
          "text": [
            "I\n",
            "am\n",
            "going\n",
            "to\n",
            "visit\n",
            "delhi\n",
            "!\n"
          ]
        }
      ],
      "source": [
        "for token in doc4:\n",
        "    print(token)"
      ]
    },
    {
      "cell_type": "code",
      "source": [
        "df.head()"
      ],
      "metadata": {
        "colab": {
          "base_uri": "https://localhost:8080/",
          "height": 226
        },
        "id": "3uhpdsyI2pac",
        "outputId": "cb970fa4-0006-4097-c326-fdc4a3b26958"
      },
      "execution_count": 89,
      "outputs": [
        {
          "output_type": "execute_result",
          "data": {
            "text/plain": [
              "                                              review sentiment\n",
              "0  one of the other reviewers has mentioned that ...  positive\n",
              "1  a wonderful little production. the filming tec...  positive\n",
              "2  i thought this was a wonderful way to spend ti...  positive\n",
              "3  basically there's a family where a little boy ...  negative\n",
              "4  petter mattei's \"love in the time of money\" is...  positive"
            ],
            "text/html": [
              "\n",
              "  <div id=\"df-9775f0df-61f1-4839-9e63-8fb3420bc781\" class=\"colab-df-container\">\n",
              "    <div>\n",
              "<style scoped>\n",
              "    .dataframe tbody tr th:only-of-type {\n",
              "        vertical-align: middle;\n",
              "    }\n",
              "\n",
              "    .dataframe tbody tr th {\n",
              "        vertical-align: top;\n",
              "    }\n",
              "\n",
              "    .dataframe thead th {\n",
              "        text-align: right;\n",
              "    }\n",
              "</style>\n",
              "<table border=\"1\" class=\"dataframe\">\n",
              "  <thead>\n",
              "    <tr style=\"text-align: right;\">\n",
              "      <th></th>\n",
              "      <th>review</th>\n",
              "      <th>sentiment</th>\n",
              "    </tr>\n",
              "  </thead>\n",
              "  <tbody>\n",
              "    <tr>\n",
              "      <th>0</th>\n",
              "      <td>one of the other reviewers has mentioned that ...</td>\n",
              "      <td>positive</td>\n",
              "    </tr>\n",
              "    <tr>\n",
              "      <th>1</th>\n",
              "      <td>a wonderful little production. the filming tec...</td>\n",
              "      <td>positive</td>\n",
              "    </tr>\n",
              "    <tr>\n",
              "      <th>2</th>\n",
              "      <td>i thought this was a wonderful way to spend ti...</td>\n",
              "      <td>positive</td>\n",
              "    </tr>\n",
              "    <tr>\n",
              "      <th>3</th>\n",
              "      <td>basically there's a family where a little boy ...</td>\n",
              "      <td>negative</td>\n",
              "    </tr>\n",
              "    <tr>\n",
              "      <th>4</th>\n",
              "      <td>petter mattei's \"love in the time of money\" is...</td>\n",
              "      <td>positive</td>\n",
              "    </tr>\n",
              "  </tbody>\n",
              "</table>\n",
              "</div>\n",
              "    <div class=\"colab-df-buttons\">\n",
              "\n",
              "  <div class=\"colab-df-container\">\n",
              "    <button class=\"colab-df-convert\" onclick=\"convertToInteractive('df-9775f0df-61f1-4839-9e63-8fb3420bc781')\"\n",
              "            title=\"Convert this dataframe to an interactive table.\"\n",
              "            style=\"display:none;\">\n",
              "\n",
              "  <svg xmlns=\"http://www.w3.org/2000/svg\" height=\"24px\" viewBox=\"0 -960 960 960\">\n",
              "    <path d=\"M120-120v-720h720v720H120Zm60-500h600v-160H180v160Zm220 220h160v-160H400v160Zm0 220h160v-160H400v160ZM180-400h160v-160H180v160Zm440 0h160v-160H620v160ZM180-180h160v-160H180v160Zm440 0h160v-160H620v160Z\"/>\n",
              "  </svg>\n",
              "    </button>\n",
              "\n",
              "  <style>\n",
              "    .colab-df-container {\n",
              "      display:flex;\n",
              "      gap: 12px;\n",
              "    }\n",
              "\n",
              "    .colab-df-convert {\n",
              "      background-color: #E8F0FE;\n",
              "      border: none;\n",
              "      border-radius: 50%;\n",
              "      cursor: pointer;\n",
              "      display: none;\n",
              "      fill: #1967D2;\n",
              "      height: 32px;\n",
              "      padding: 0 0 0 0;\n",
              "      width: 32px;\n",
              "    }\n",
              "\n",
              "    .colab-df-convert:hover {\n",
              "      background-color: #E2EBFA;\n",
              "      box-shadow: 0px 1px 2px rgba(60, 64, 67, 0.3), 0px 1px 3px 1px rgba(60, 64, 67, 0.15);\n",
              "      fill: #174EA6;\n",
              "    }\n",
              "\n",
              "    .colab-df-buttons div {\n",
              "      margin-bottom: 4px;\n",
              "    }\n",
              "\n",
              "    [theme=dark] .colab-df-convert {\n",
              "      background-color: #3B4455;\n",
              "      fill: #D2E3FC;\n",
              "    }\n",
              "\n",
              "    [theme=dark] .colab-df-convert:hover {\n",
              "      background-color: #434B5C;\n",
              "      box-shadow: 0px 1px 3px 1px rgba(0, 0, 0, 0.15);\n",
              "      filter: drop-shadow(0px 1px 2px rgba(0, 0, 0, 0.3));\n",
              "      fill: #FFFFFF;\n",
              "    }\n",
              "  </style>\n",
              "\n",
              "    <script>\n",
              "      const buttonEl =\n",
              "        document.querySelector('#df-9775f0df-61f1-4839-9e63-8fb3420bc781 button.colab-df-convert');\n",
              "      buttonEl.style.display =\n",
              "        google.colab.kernel.accessAllowed ? 'block' : 'none';\n",
              "\n",
              "      async function convertToInteractive(key) {\n",
              "        const element = document.querySelector('#df-9775f0df-61f1-4839-9e63-8fb3420bc781');\n",
              "        const dataTable =\n",
              "          await google.colab.kernel.invokeFunction('convertToInteractive',\n",
              "                                                    [key], {});\n",
              "        if (!dataTable) return;\n",
              "\n",
              "        const docLinkHtml = 'Like what you see? Visit the ' +\n",
              "          '<a target=\"_blank\" href=https://colab.research.google.com/notebooks/data_table.ipynb>data table notebook</a>'\n",
              "          + ' to learn more about interactive tables.';\n",
              "        element.innerHTML = '';\n",
              "        dataTable['output_type'] = 'display_data';\n",
              "        await google.colab.output.renderOutput(dataTable, element);\n",
              "        const docLink = document.createElement('div');\n",
              "        docLink.innerHTML = docLinkHtml;\n",
              "        element.appendChild(docLink);\n",
              "      }\n",
              "    </script>\n",
              "  </div>\n",
              "\n",
              "\n",
              "<div id=\"df-1340da50-d89b-4d7b-a178-18d9cdda3785\">\n",
              "  <button class=\"colab-df-quickchart\" onclick=\"quickchart('df-1340da50-d89b-4d7b-a178-18d9cdda3785')\"\n",
              "            title=\"Suggest charts\"\n",
              "            style=\"display:none;\">\n",
              "\n",
              "<svg xmlns=\"http://www.w3.org/2000/svg\" height=\"24px\"viewBox=\"0 0 24 24\"\n",
              "     width=\"24px\">\n",
              "    <g>\n",
              "        <path d=\"M19 3H5c-1.1 0-2 .9-2 2v14c0 1.1.9 2 2 2h14c1.1 0 2-.9 2-2V5c0-1.1-.9-2-2-2zM9 17H7v-7h2v7zm4 0h-2V7h2v10zm4 0h-2v-4h2v4z\"/>\n",
              "    </g>\n",
              "</svg>\n",
              "  </button>\n",
              "\n",
              "<style>\n",
              "  .colab-df-quickchart {\n",
              "      --bg-color: #E8F0FE;\n",
              "      --fill-color: #1967D2;\n",
              "      --hover-bg-color: #E2EBFA;\n",
              "      --hover-fill-color: #174EA6;\n",
              "      --disabled-fill-color: #AAA;\n",
              "      --disabled-bg-color: #DDD;\n",
              "  }\n",
              "\n",
              "  [theme=dark] .colab-df-quickchart {\n",
              "      --bg-color: #3B4455;\n",
              "      --fill-color: #D2E3FC;\n",
              "      --hover-bg-color: #434B5C;\n",
              "      --hover-fill-color: #FFFFFF;\n",
              "      --disabled-bg-color: #3B4455;\n",
              "      --disabled-fill-color: #666;\n",
              "  }\n",
              "\n",
              "  .colab-df-quickchart {\n",
              "    background-color: var(--bg-color);\n",
              "    border: none;\n",
              "    border-radius: 50%;\n",
              "    cursor: pointer;\n",
              "    display: none;\n",
              "    fill: var(--fill-color);\n",
              "    height: 32px;\n",
              "    padding: 0;\n",
              "    width: 32px;\n",
              "  }\n",
              "\n",
              "  .colab-df-quickchart:hover {\n",
              "    background-color: var(--hover-bg-color);\n",
              "    box-shadow: 0 1px 2px rgba(60, 64, 67, 0.3), 0 1px 3px 1px rgba(60, 64, 67, 0.15);\n",
              "    fill: var(--button-hover-fill-color);\n",
              "  }\n",
              "\n",
              "  .colab-df-quickchart-complete:disabled,\n",
              "  .colab-df-quickchart-complete:disabled:hover {\n",
              "    background-color: var(--disabled-bg-color);\n",
              "    fill: var(--disabled-fill-color);\n",
              "    box-shadow: none;\n",
              "  }\n",
              "\n",
              "  .colab-df-spinner {\n",
              "    border: 2px solid var(--fill-color);\n",
              "    border-color: transparent;\n",
              "    border-bottom-color: var(--fill-color);\n",
              "    animation:\n",
              "      spin 1s steps(1) infinite;\n",
              "  }\n",
              "\n",
              "  @keyframes spin {\n",
              "    0% {\n",
              "      border-color: transparent;\n",
              "      border-bottom-color: var(--fill-color);\n",
              "      border-left-color: var(--fill-color);\n",
              "    }\n",
              "    20% {\n",
              "      border-color: transparent;\n",
              "      border-left-color: var(--fill-color);\n",
              "      border-top-color: var(--fill-color);\n",
              "    }\n",
              "    30% {\n",
              "      border-color: transparent;\n",
              "      border-left-color: var(--fill-color);\n",
              "      border-top-color: var(--fill-color);\n",
              "      border-right-color: var(--fill-color);\n",
              "    }\n",
              "    40% {\n",
              "      border-color: transparent;\n",
              "      border-right-color: var(--fill-color);\n",
              "      border-top-color: var(--fill-color);\n",
              "    }\n",
              "    60% {\n",
              "      border-color: transparent;\n",
              "      border-right-color: var(--fill-color);\n",
              "    }\n",
              "    80% {\n",
              "      border-color: transparent;\n",
              "      border-right-color: var(--fill-color);\n",
              "      border-bottom-color: var(--fill-color);\n",
              "    }\n",
              "    90% {\n",
              "      border-color: transparent;\n",
              "      border-bottom-color: var(--fill-color);\n",
              "    }\n",
              "  }\n",
              "</style>\n",
              "\n",
              "  <script>\n",
              "    async function quickchart(key) {\n",
              "      const quickchartButtonEl =\n",
              "        document.querySelector('#' + key + ' button');\n",
              "      quickchartButtonEl.disabled = true;  // To prevent multiple clicks.\n",
              "      quickchartButtonEl.classList.add('colab-df-spinner');\n",
              "      try {\n",
              "        const charts = await google.colab.kernel.invokeFunction(\n",
              "            'suggestCharts', [key], {});\n",
              "      } catch (error) {\n",
              "        console.error('Error during call to suggestCharts:', error);\n",
              "      }\n",
              "      quickchartButtonEl.classList.remove('colab-df-spinner');\n",
              "      quickchartButtonEl.classList.add('colab-df-quickchart-complete');\n",
              "    }\n",
              "    (() => {\n",
              "      let quickchartButtonEl =\n",
              "        document.querySelector('#df-1340da50-d89b-4d7b-a178-18d9cdda3785 button');\n",
              "      quickchartButtonEl.style.display =\n",
              "        google.colab.kernel.accessAllowed ? 'block' : 'none';\n",
              "    })();\n",
              "  </script>\n",
              "</div>\n",
              "\n",
              "    </div>\n",
              "  </div>\n"
            ],
            "application/vnd.google.colaboratory.intrinsic+json": {
              "type": "dataframe",
              "variable_name": "df",
              "summary": "{\n  \"name\": \"df\",\n  \"rows\": 100,\n  \"fields\": [\n    {\n      \"column\": \"review\",\n      \"properties\": {\n        \"dtype\": \"string\",\n        \"num_unique_values\": 100,\n        \"samples\": [\n          \"\\\"fate\\\" leads walter sparrow to come in possession of a mysterious novel that has eerie similarities and connections to his life, all based around the number 23. as the story unfolds in real life and fiction, sparrow must figure out his connection to the book and how the story will eventually end.the number 23 offers an intriguing premise that is undone by a weak execution. the film just failed on many different levels which is pretty disappointing because it held so much potential. the screenplay was probably the worst part about it. it was filled with silly sequences and laughable dialog that just killed the mood of the movie. it seemed like the screenwriter had a good idea, he just didn't know how to develop it to stretch over a ninety minute running time. the second half of the film was running low on ideas, the twist was pretty obvious and the ending was awful.joel schumacher is responsible for one of the worst movies ever and he did redeem himself a little with phone booth and a few other films but the number 23 reminds me that he's still capable of making a stinker. he has the movie drenched in style but he just can't get a good focus. he moves the film at a clunky and slow pace. he switches from reality to what's actually happening in the book which quickly got annoying. the actual book in the film that's titled \\\"the number 23\\\" is an awful detective story and the audience gets stuck listening to carrey narrate it which just bored me to tears. when carrey is finally done with book, we get stuck watching him run around trying to solve the mystery. at this point, the audience has lost interest and there is no real tension. we impatiently wait for the movie to reach it's horrible ending and unconvincing explanation before celebrating that film has finally finished.the acting was mostly average and pretty forgettable. jim carrey was clearly just sleepwalking through his performance and he didn't even seem to be trying. he was either completely over the top in some scenes or just very wooden. his narration was a complete bore to listen to and he put no life inside his character. virginia madsen did the best she could with a limited role but she needs to pick better scripts. logan lerman was pretty bland as was danny huston. overall, the number 23 was an awful thriller that offered more laughs than suspense or thrills. rating 3/10\",\n          \"i cannot believe i enjoyed this as much as i did. the anthology stories were better than par, but the linking story and its surprise ending hooked me. alot of familiar faces will keep you asking yourself \\\"where i have i seen them before?\\\" forget the running time listed on new line's tape, this ain't no 103 minutes, according to my vcr timer and imdb. space maggot douses the campfire in his own special way and hikes this an 8.\",\n          \"caddyshack two is a good movie by itself but compared to the original it cant stack up. robert stack is a horrible replacement for ted knight and jackie mason, while funny just cant compete with rodney dangerfield. ty webb is funny, being the only character from the original. most of the other characters in the movie lack the punch of the original (henry wilcoxon for example) except for the hystericly funny lawyer peter blunt, being played by randy quaid. every line he says reminds me of the originals humor, especially the scene at his office (i don't go in for law suits or motions. i find out where you live and come to your house and beat down your door with a f***ing baseball bat, make a bonfire with the chippindale,maybe roast that golden retriever (arff arff arff) then eat it. and then i'm comin' upstairs junior, and i'm grabbing you by your brooks brothers pjs, and cramming your brand new bmw up your tight a**! do we have an understanding?). offsetting his small role however, is dan acroyd, who is obviously no replacement for bill murray. his voice is beyond irritating and everything he does isnt even funny, its just stupid. overall caddyshack ii is a good movie, but in comparison to the awesome original it just cant cut it.\"\n        ],\n        \"semantic_type\": \"\",\n        \"description\": \"\"\n      }\n    },\n    {\n      \"column\": \"sentiment\",\n      \"properties\": {\n        \"dtype\": \"category\",\n        \"num_unique_values\": 2,\n        \"samples\": [\n          \"negative\",\n          \"positive\"\n        ],\n        \"semantic_type\": \"\",\n        \"description\": \"\"\n      }\n    }\n  ]\n}"
            }
          },
          "metadata": {},
          "execution_count": 89
        }
      ]
    },
    {
      "cell_type": "markdown",
      "metadata": {
        "id": "3ZO2iHAUfXJc"
      },
      "source": [
        "# Stemmer"
      ]
    },
    {
      "cell_type": "markdown",
      "source": [
        "**Stemming is a natural language processing (NLP) technique that reduces a word to its base or root form. The root form may not always be a valid word, but it represents the word's core meaning.**"
      ],
      "metadata": {
        "id": "iCJL8byNdmJJ"
      }
    },
    {
      "cell_type": "markdown",
      "source": [
        "![stem.png](data:image/png;base64,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)"
      ],
      "metadata": {
        "id": "jR_a1HmReQya"
      }
    },
    {
      "cell_type": "code",
      "execution_count": 90,
      "metadata": {
        "execution": {
          "iopub.execute_input": "2021-12-31T06:45:24.636271Z",
          "iopub.status.busy": "2021-12-31T06:45:24.635982Z",
          "iopub.status.idle": "2021-12-31T06:45:24.640222Z",
          "shell.execute_reply": "2021-12-31T06:45:24.639613Z",
          "shell.execute_reply.started": "2021-12-31T06:45:24.636238Z"
        },
        "id": "b9QyBoF7fXJd"
      },
      "outputs": [],
      "source": [
        "from nltk.stem.porter import PorterStemmer"
      ]
    },
    {
      "cell_type": "code",
      "execution_count": 91,
      "metadata": {
        "execution": {
          "iopub.execute_input": "2021-12-31T06:46:07.014808Z",
          "iopub.status.busy": "2021-12-31T06:46:07.014418Z",
          "iopub.status.idle": "2021-12-31T06:46:07.021274Z",
          "shell.execute_reply": "2021-12-31T06:46:07.020180Z",
          "shell.execute_reply.started": "2021-12-31T06:46:07.014768Z"
        },
        "id": "tvzg9ij1fXJd"
      },
      "outputs": [],
      "source": [
        "ps = PorterStemmer()\n",
        "def stem_words(text):\n",
        "    return \" \".join([ps.stem(word) for word in text.split()])"
      ]
    },
    {
      "cell_type": "code",
      "execution_count": 92,
      "metadata": {
        "execution": {
          "iopub.execute_input": "2021-12-31T06:46:09.751707Z",
          "iopub.status.busy": "2021-12-31T06:46:09.751139Z",
          "iopub.status.idle": "2021-12-31T06:46:09.758027Z",
          "shell.execute_reply": "2021-12-31T06:46:09.757151Z",
          "shell.execute_reply.started": "2021-12-31T06:46:09.751645Z"
        },
        "colab": {
          "base_uri": "https://localhost:8080/",
          "height": 55
        },
        "id": "4G6Hlif3fXJd",
        "outputId": "22e0e232-5463-4124-c75a-8dc184bc83c8"
      },
      "outputs": [
        {
          "output_type": "execute_result",
          "data": {
            "text/plain": [
              "'walk walk walk walk'"
            ],
            "application/vnd.google.colaboratory.intrinsic+json": {
              "type": "string"
            }
          },
          "metadata": {},
          "execution_count": 92
        }
      ],
      "source": [
        "sample = \"walk walks walking walked\"\n",
        "stem_words(sample)"
      ]
    },
    {
      "cell_type": "code",
      "execution_count": 93,
      "metadata": {
        "execution": {
          "iopub.execute_input": "2021-12-31T06:46:13.794724Z",
          "iopub.status.busy": "2021-12-31T06:46:13.794420Z",
          "iopub.status.idle": "2021-12-31T06:46:13.800289Z",
          "shell.execute_reply": "2021-12-31T06:46:13.799470Z",
          "shell.execute_reply.started": "2021-12-31T06:46:13.794690Z"
        },
        "colab": {
          "base_uri": "https://localhost:8080/"
        },
        "id": "z9yy0koLfXJd",
        "outputId": "8880faf1-fec0-4fe9-9a81-316e76057202"
      },
      "outputs": [
        {
          "output_type": "stream",
          "name": "stdout",
          "text": [
            "probably my alltime favorite movie a story of selflessness sacrifice and dedication to a noble cause but its not preachy or boring it just never gets old despite my having seen it some 15 or more times in the last 25 years paul lukas performance brings tears to my eyes and bette davis in one of her very few truly sympathetic roles is a delight the kids are as grandma says more like dressedup midgets than children but that only makes them more fun to watch and the mothers slow awakening to whats happening in the world and under her own roof is believable and startling if i had a dozen thumbs theyd all be up for this movie\n"
          ]
        }
      ],
      "source": [
        "text = 'probably my alltime favorite movie a story of selflessness sacrifice and dedication to a noble cause but its not preachy or boring it just never gets old despite my having seen it some 15 or more times in the last 25 years paul lukas performance brings tears to my eyes and bette davis in one of her very few truly sympathetic roles is a delight the kids are as grandma says more like dressedup midgets than children but that only makes them more fun to watch and the mothers slow awakening to whats happening in the world and under her own roof is believable and startling if i had a dozen thumbs theyd all be up for this movie'\n",
        "print(text)"
      ]
    },
    {
      "cell_type": "code",
      "execution_count": 94,
      "metadata": {
        "execution": {
          "iopub.execute_input": "2021-12-31T06:46:38.928962Z",
          "iopub.status.busy": "2021-12-31T06:46:38.928309Z",
          "iopub.status.idle": "2021-12-31T06:46:38.938004Z",
          "shell.execute_reply": "2021-12-31T06:46:38.937471Z",
          "shell.execute_reply.started": "2021-12-31T06:46:38.928912Z"
        },
        "colab": {
          "base_uri": "https://localhost:8080/",
          "height": 107
        },
        "id": "UO-aJt_cfXJe",
        "outputId": "fd9796d6-89b4-419c-bbb2-68eb09227258"
      },
      "outputs": [
        {
          "output_type": "execute_result",
          "data": {
            "text/plain": [
              "'probabl my alltim favorit movi a stori of selfless sacrific and dedic to a nobl caus but it not preachi or bore it just never get old despit my have seen it some 15 or more time in the last 25 year paul luka perform bring tear to my eye and bett davi in one of her veri few truli sympathet role is a delight the kid are as grandma say more like dressedup midget than children but that onli make them more fun to watch and the mother slow awaken to what happen in the world and under her own roof is believ and startl if i had a dozen thumb theyd all be up for thi movi'"
            ],
            "application/vnd.google.colaboratory.intrinsic+json": {
              "type": "string"
            }
          },
          "metadata": {},
          "execution_count": 94
        }
      ],
      "source": [
        "stem_words(text)"
      ]
    },
    {
      "cell_type": "markdown",
      "metadata": {
        "id": "40L9UIwhfXJe"
      },
      "source": [
        "# Lemmatization"
      ]
    },
    {
      "cell_type": "markdown",
      "source": [
        "**Lemmatization is the process of converting a word to its base or root form,like turning \"running\" into \"run\" or \"better\" into \"good.\"**\n"
      ],
      "metadata": {
        "id": "KtQwJduJfsHH"
      }
    },
    {
      "cell_type": "markdown",
      "source": [
        "![lemm.png](data:image/png;base64,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)"
      ],
      "metadata": {
        "id": "7FSE2jP5f9Ee"
      }
    },
    {
      "cell_type": "code",
      "execution_count": 95,
      "metadata": {
        "execution": {
          "iopub.execute_input": "2021-12-31T06:50:09.585926Z",
          "iopub.status.busy": "2021-12-31T06:50:09.585607Z",
          "iopub.status.idle": "2021-12-31T06:50:11.918170Z",
          "shell.execute_reply": "2021-12-31T06:50:11.917310Z",
          "shell.execute_reply.started": "2021-12-31T06:50:09.585885Z"
        },
        "colab": {
          "base_uri": "https://localhost:8080/"
        },
        "id": "eAf31FTGfXJe",
        "outputId": "cdf8d450-8df6-4f70-883f-8751a5f57984"
      },
      "outputs": [
        {
          "output_type": "stream",
          "name": "stderr",
          "text": [
            "[nltk_data] Downloading package wordnet to /root/nltk_data...\n",
            "[nltk_data] Downloading package omw-1.4 to /root/nltk_data...\n"
          ]
        },
        {
          "output_type": "stream",
          "name": "stdout",
          "text": [
            "Word                Lemma               \n",
            "He                  He                  \n",
            "was                 be                  \n",
            "running             run                 \n",
            "and                 and                 \n",
            "eating              eat                 \n",
            "at                  at                  \n",
            "same                same                \n",
            "time                time                \n",
            "He                  He                  \n",
            "has                 have                \n",
            "bad                 bad                 \n",
            "habit               habit               \n",
            "of                  of                  \n",
            "swimming            swim                \n",
            "after               after               \n",
            "playing             play                \n",
            "long                long                \n",
            "hours               hours               \n",
            "in                  in                  \n",
            "the                 the                 \n",
            "Sun                 Sun                 \n"
          ]
        }
      ],
      "source": [
        "import nltk\n",
        "from nltk.stem import WordNetLemmatizer\n",
        "import nltk\n",
        "nltk.download('wordnet')\n",
        "nltk.download('omw-1.4')\n",
        "wordnet_lemmatizer = WordNetLemmatizer()\n",
        "\n",
        "sentence = \"He was running and eating at same time. He has bad habit of swimming after playing long hours in the Sun.\"\n",
        "punctuations=\"?:!.,;\"\n",
        "sentence_words = nltk.word_tokenize(sentence)\n",
        "for word in sentence_words:\n",
        "    if word in punctuations:\n",
        "        sentence_words.remove(word)\n",
        "\n",
        "sentence_words\n",
        "print(\"{0:20}{1:20}\".format(\"Word\",\"Lemma\"))\n",
        "for word in sentence_words:\n",
        "    print (\"{0:20}{1:20}\".format(word,wordnet_lemmatizer.lemmatize(word,pos='v')))"
      ]
    },
    {
      "cell_type": "markdown",
      "metadata": {
        "id": "TrSXAkATfXJf"
      },
      "source": [
        "#### NOTE: Stemming & lemmatization are same to retrieve root words but lamatization is worked good. mmatization is slow & stemming is fast"
      ]
    },
    {
      "cell_type": "code",
      "execution_count": null,
      "metadata": {
        "id": "DcfHxG6TfXJf"
      },
      "outputs": [],
      "source": []
    }
  ],
  "metadata": {
    "kernelspec": {
      "display_name": "Python 3",
      "language": "python",
      "name": "python3"
    },
    "language_info": {
      "codemirror_mode": {
        "name": "ipython",
        "version": 3
      },
      "file_extension": ".py",
      "mimetype": "text/x-python",
      "name": "python",
      "nbconvert_exporter": "python",
      "pygments_lexer": "ipython3",
      "version": "3.8.5"
    },
    "colab": {
      "provenance": []
    }
  },
  "nbformat": 4,
  "nbformat_minor": 0
}